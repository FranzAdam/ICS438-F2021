{
 "cells": [
  {
   "cell_type": "markdown",
   "id": "3d170f98",
   "metadata": {},
   "source": [
    "# Finding co-occurrence\n"
   ]
  },
  {
   "cell_type": "markdown",
   "id": "ca311809",
   "metadata": {},
   "source": [
    "### reading the data from file\n",
    "\n",
    "* The data is in a tsv (tab-separated values) file. \n",
    "* The first line is the header describing the columns (person)\n",
    "* The fist column is the label for the days. \n",
    "* each cell contains an X if person i did not stay at a hotel that day or the id of the hotel where he stayed (H1, H2, H3, H4 and H5)\n",
    "| Person      \t| P1  \t| P2  | P3  \t| `...`  \t|\n",
    "|-------------\t|:-----:|:-----:|:-----:|-----:|\n",
    "| Hotel Day 1 \t| H1  \t| H3  \t| X   \t| `...`  \t|\n",
    "| Hotel Day 2 \t| X   \t| H1  \t| H5  \t| `...`  \t|\n",
    "| `...`       \t| `...` \t| `...`  \t| `...`  \t| `...` |\n",
    "\n",
    "\n"
   ]
  },
  {
   "cell_type": "markdown",
   "id": "50eab082",
   "metadata": {},
   "source": [
    "### Python Application\n",
    "\n",
    "* The goal is to introduce Python in the context of an application\n",
    "* We will start with a verbose implementation to explore the language \n",
    "  * Some construct are not efficient but are useful to abstract complexity\n",
    "* Will define a compact version at the end\n"
   ]
  },
  {
   "cell_type": "code",
   "execution_count": 43,
   "id": "d8ba8576",
   "metadata": {},
   "outputs": [
    {
     "name": "stdout",
     "output_type": "stream",
     "text": [
      "Person \tP1\tP2\tP3\tP4\tP5\tP6\tP7\tP8\tP9\tP10\n",
      "\n",
      "Hotel day 1\tH1\tH4\tX\tH2\tX\tX\tH2\tX\tH5 \tH1\n",
      "\n",
      "Hotel day 2\tX\tX\tX\tX\tH1\tX\tX\tX\tX\tX\n",
      "\n",
      "Hotel day 3\tX\tX\tX\tX\tX\tX\tX\tH4\tX\tX\n",
      "\n",
      "Hotel day 4\tX\tX\tX\tX\tX\tX\tX\tX\tX\tH3\n",
      "\n",
      "Hotel day 5\tX\tX\tH1\tX\tX\tH1\tX\tX\tX\tX\n",
      "\n",
      "Hotel day 6\tX\tX\tX\tX\tX\tH4\tX\tX\tX\tX\n",
      "\n",
      "Hotel day 7\tX\tX\tX\tX\tX\tX\tX\tX\tX\tX\n",
      "\n",
      "Hotel day 8\tX\tH3\tX\tX\tX\tX\tX\tH5\tX\tX\n",
      "\n",
      "Hotel day 9\tX\tX\tX\tX\tX\tX\tX\tX\tX\tX\n",
      "\n",
      "Hotel day 10\tX\tX\tX\tX\tX\tX\tX\tX\tX\tX\n",
      "\n",
      "Hotel day 11\tX\tX\tX\tX\tX\tX\tH2\tX\tX\tX\n",
      "\n",
      "Hotel day 12\tH4\tX\tX\tX\tX\tX\tX\tX\tX\tX\n",
      "\n",
      "Hotel day 13\tX\tX\tX\tX\tX\tX\tX\tX\tX\tX\n",
      "\n",
      "Hotel day 14\tX\tX\tX\tH2\tX\tX\tX\tX\tX\tX\n",
      "\n",
      "Hotel day 15\tX\tX\tX\tX\tX\tX\tX\tX\tX\tX\n",
      "\n",
      "Hotel day 16\tX\tX\tX\tX\tX\tX\tX\tX\tX\tX\n",
      "\n",
      "Hotel day 17\tX\tX\tX\tX\tX\tX\tX\tX\tH3\tX\n",
      "\n",
      "Hotel day 18\tX\tX\tX\tX\tH3\tX\tX\tX\tX\tX\n",
      "\n",
      "Hotel day 19\tX\tX\tH5\tX\tX\tX\tX\tX\tX\tX\n",
      "\n",
      "Hotel day 20\tX\tX\tX\tH3\tX\tX\tH3\tX\tX\tX\n"
     ]
    }
   ],
   "source": [
    "for line in open(\"data/hotel_data.tsv\"):\n",
    "    print(line)"
   ]
  },
  {
   "cell_type": "code",
   "execution_count": 44,
   "id": "93002269",
   "metadata": {},
   "outputs": [
    {
     "name": "stdout",
     "output_type": "stream",
     "text": [
      "Hotel day 1\tH1\tH4\tX\tH2\tX\tX\tH2\tX\tH5 \tH1\n",
      "\n",
      "Hotel day 2\tX\tX\tX\tX\tH1\tX\tX\tX\tX\tX\n",
      "\n",
      "Hotel day 3\tX\tX\tX\tX\tX\tX\tX\tH4\tX\tX\n",
      "\n",
      "Hotel day 4\tX\tX\tX\tX\tX\tX\tX\tX\tX\tH3\n",
      "\n",
      "Hotel day 5\tX\tX\tH1\tX\tX\tH1\tX\tX\tX\tX\n",
      "\n",
      "Hotel day 6\tX\tX\tX\tX\tX\tH4\tX\tX\tX\tX\n",
      "\n",
      "Hotel day 7\tX\tX\tX\tX\tX\tX\tX\tX\tX\tX\n",
      "\n",
      "Hotel day 8\tX\tH3\tX\tX\tX\tX\tX\tH5\tX\tX\n",
      "\n",
      "Hotel day 9\tX\tX\tX\tX\tX\tX\tX\tX\tX\tX\n",
      "\n",
      "Hotel day 10\tX\tX\tX\tX\tX\tX\tX\tX\tX\tX\n",
      "\n",
      "Hotel day 11\tX\tX\tX\tX\tX\tX\tH2\tX\tX\tX\n",
      "\n",
      "Hotel day 12\tH4\tX\tX\tX\tX\tX\tX\tX\tX\tX\n",
      "\n",
      "Hotel day 13\tX\tX\tX\tX\tX\tX\tX\tX\tX\tX\n",
      "\n",
      "Hotel day 14\tX\tX\tX\tH2\tX\tX\tX\tX\tX\tX\n",
      "\n",
      "Hotel day 15\tX\tX\tX\tX\tX\tX\tX\tX\tX\tX\n",
      "\n",
      "Hotel day 16\tX\tX\tX\tX\tX\tX\tX\tX\tX\tX\n",
      "\n",
      "Hotel day 17\tX\tX\tX\tX\tX\tX\tX\tX\tH3\tX\n",
      "\n",
      "Hotel day 18\tX\tX\tX\tX\tH3\tX\tX\tX\tX\tX\n",
      "\n",
      "Hotel day 19\tX\tX\tH5\tX\tX\tX\tX\tX\tX\tX\n",
      "\n",
      "Hotel day 20\tX\tX\tX\tH3\tX\tX\tH3\tX\tX\tX\n"
     ]
    }
   ],
   "source": [
    "# Skip the header\n",
    "\n",
    "hotel_days = []\n",
    "i = 0\n",
    "for line in open(\"data/hotel_data.tsv\"):\n",
    "    if i > 0:\n",
    "        print(line)\n",
    "    i+=1 \n"
   ]
  },
  {
   "cell_type": "code",
   "execution_count": 45,
   "id": "0c0ac7c7",
   "metadata": {},
   "outputs": [
    {
     "data": {
      "text/plain": [
       "[['H1', 'H4', 'X', 'H2', 'X', 'X', 'H2', 'X', 'H5 ', 'H1'],\n",
       " ['X', 'X', 'X', 'X', 'H1', 'X', 'X', 'X', 'X', 'X'],\n",
       " ['X', 'X', 'X', 'X', 'X', 'X', 'X', 'H4', 'X', 'X'],\n",
       " ['X', 'X', 'X', 'X', 'X', 'X', 'X', 'X', 'X', 'H3'],\n",
       " ['X', 'X', 'H1', 'X', 'X', 'H1', 'X', 'X', 'X', 'X'],\n",
       " ['X', 'X', 'X', 'X', 'X', 'H4', 'X', 'X', 'X', 'X'],\n",
       " ['X', 'X', 'X', 'X', 'X', 'X', 'X', 'X', 'X', 'X'],\n",
       " ['X', 'H3', 'X', 'X', 'X', 'X', 'X', 'H5', 'X', 'X'],\n",
       " ['X', 'X', 'X', 'X', 'X', 'X', 'X', 'X', 'X', 'X'],\n",
       " ['X', 'X', 'X', 'X', 'X', 'X', 'X', 'X', 'X', 'X'],\n",
       " ['X', 'X', 'X', 'X', 'X', 'X', 'H2', 'X', 'X', 'X'],\n",
       " ['H4', 'X', 'X', 'X', 'X', 'X', 'X', 'X', 'X', 'X'],\n",
       " ['X', 'X', 'X', 'X', 'X', 'X', 'X', 'X', 'X', 'X'],\n",
       " ['X', 'X', 'X', 'H2', 'X', 'X', 'X', 'X', 'X', 'X'],\n",
       " ['X', 'X', 'X', 'X', 'X', 'X', 'X', 'X', 'X', 'X'],\n",
       " ['X', 'X', 'X', 'X', 'X', 'X', 'X', 'X', 'X', 'X'],\n",
       " ['X', 'X', 'X', 'X', 'X', 'X', 'X', 'X', 'H3', 'X'],\n",
       " ['X', 'X', 'X', 'X', 'H3', 'X', 'X', 'X', 'X', 'X'],\n",
       " ['X', 'X', 'H5', 'X', 'X', 'X', 'X', 'X', 'X', 'X'],\n",
       " ['X', 'X', 'X', 'H3', 'X', 'X', 'H3', 'X', 'X', 'X']]"
      ]
     },
     "execution_count": 45,
     "metadata": {},
     "output_type": "execute_result"
    }
   ],
   "source": [
    "hotel_days = []\n",
    "i = 0\n",
    "for line in open(\"data/hotel_data.tsv\"):\n",
    "    if i > 0:\n",
    "        hotel_days.append(line.rstrip().split(\"\\t\")[1:])\n",
    "    i+=1 \n",
    "hotel_days"
   ]
  },
  {
   "cell_type": "code",
   "execution_count": 46,
   "id": "f6d62dc5",
   "metadata": {},
   "outputs": [],
   "source": [
    "# Trial Version\n",
    "\n",
    "def find_groups(day_i_hotels):\n",
    "    \"\"\" \n",
    "    Given a day log, return group of people (2 or more) who stayed at same hotel\n",
    "    ex. \n",
    "    given: ['H1', 'H4', 'X', 'H2', 'X', 'X', 'H2', 'X', 'H5 ', 'H1']\n",
    "    return: [{1, 10}, {4, 7}] where 1, 10, 4, 7 and are people ids\n",
    "    \"\"\"\n",
    "    hotels_to_people = {}\n",
    "    i = 1\n",
    "    # initialize the day with an empty list\n",
    "    # ex. hotels_to_people[\"H1\"] = []\n",
    "    # this is not necessary but useful to abstract complexity\n",
    "    for hotel_id in day_i_hotels:\n",
    "        if hotel_id != \"X\":\n",
    "            hotels_to_people[hotel_id] = []\n",
    "\n",
    "    for hotel_id in day_i_hotels:\n",
    "        if hotel_id != \"X\":\n",
    "            hotels_to_people[hotel_id].append(i)\n",
    "        i+=1\n",
    "    \n",
    "    return hotels_to_people"
   ]
  },
  {
   "cell_type": "code",
   "execution_count": 47,
   "id": "f5fbe04a",
   "metadata": {},
   "outputs": [
    {
     "data": {
      "text/plain": [
       "{'H1': [1, 10], 'H4': [2], 'H2': [4, 7], 'H5 ': [9]}"
      ]
     },
     "execution_count": 47,
     "metadata": {},
     "output_type": "execute_result"
    }
   ],
   "source": [
    "find_groups(['H1', 'H4', 'X', 'H2', 'X', 'X', 'H2', 'X', 'H5 ', 'H1'])"
   ]
  },
  {
   "cell_type": "code",
   "execution_count": 48,
   "id": "ec2b49d4",
   "metadata": {},
   "outputs": [],
   "source": [
    "# Trial Version\n",
    "\n",
    "def find_groups(day_i_hotels):\n",
    "    \"\"\" \n",
    "    Given a day log, return group of people (2 or more) who stayed at same hotel\n",
    "    ex. \n",
    "    given: ['H1', 'H4', 'X', 'H2', 'X', 'X', 'H2', 'X', 'H5 ', 'H1']\n",
    "    return: [{1, 10}, {4, 7}] where 1, 10, 4, 7 and are people ids\n",
    "    \"\"\"\n",
    "    hotels_to_people = {}\n",
    "    \n",
    "    i = 1\n",
    "    # initialize the day with an empty list\n",
    "    # ex. hotels_to_people[\"H1\"] = []\n",
    "    # this is not necessary but useful to abstract complexity\n",
    "    for hotel_id in day_i_hotels:\n",
    "        if hotel_id != \"X\":\n",
    "            hotels_to_people[hotel_id] = []\n",
    "\n",
    "    for hotel_id in day_i_hotels:\n",
    "        if hotel_id != \"X\":\n",
    "            hotels_to_people[hotel_id].append(i)\n",
    "        i+=1\n",
    "    \n",
    "    days_to_remove = []\n",
    "    for key, value in hotels_to_people.items():\n",
    "        if len(value) < 2:\n",
    "            days_to_remove.append(key)\n",
    "    \n",
    "    print(f\"need to remove days {days_to_remove}\")\n",
    "    \n",
    "    return hotels_to_people"
   ]
  },
  {
   "cell_type": "code",
   "execution_count": 49,
   "id": "e35c875c",
   "metadata": {},
   "outputs": [
    {
     "name": "stdout",
     "output_type": "stream",
     "text": [
      "need to remove days ['H4', 'H5 ']\n"
     ]
    },
    {
     "data": {
      "text/plain": [
       "{'H1': [1, 10], 'H4': [2], 'H2': [4, 7], 'H5 ': [9]}"
      ]
     },
     "execution_count": 49,
     "metadata": {},
     "output_type": "execute_result"
    }
   ],
   "source": [
    "find_groups(['H1', 'H4', 'X', 'H2', 'X', 'X', 'H2', 'X', 'H5 ', 'H1'])"
   ]
  },
  {
   "cell_type": "code",
   "execution_count": 50,
   "id": "9a298d5c",
   "metadata": {},
   "outputs": [],
   "source": [
    "# Trial Version\n",
    "\n",
    "def find_groups(day_i_hotels):\n",
    "    \"\"\" \n",
    "    Given a day log, return group of people (2 or more) who stayed at same hotel\n",
    "    ex. \n",
    "    given: ['H1', 'H4', 'X', 'H2', 'X', 'X', 'H2', 'X', 'H5 ', 'H1']\n",
    "    return: [{1, 10}, {4, 7}] where 1, 10, 4, 7 and are people ids\n",
    "    \"\"\"\n",
    "    hotels_to_people = {}\n",
    "    \n",
    "    i = 1\n",
    "    # initialize the day with an empty list\n",
    "    # ex. hotels_to_people[\"H1\"] = []\n",
    "    # this is not necessary but useful to abstract complexity\n",
    "    for hotel_id in day_i_hotels:\n",
    "        if hotel_id != \"X\":\n",
    "            hotels_to_people[hotel_id] = []\n",
    "\n",
    "    for hotel_id in day_i_hotels:\n",
    "        if hotel_id != \"X\":\n",
    "            hotels_to_people[hotel_id].append(i)\n",
    "        i+=1\n",
    "    \n",
    "    days_to_remove = []\n",
    "    for key, value in hotels_to_people.items():\n",
    "        if len(value) < 2:\n",
    "            days_to_remove.append(key)\n",
    "\n",
    "    for day in days_to_remove:\n",
    "        del(hotels_to_people[day])\n",
    "    \n",
    "    return hotels_to_people"
   ]
  },
  {
   "cell_type": "code",
   "execution_count": 51,
   "id": "d5ce6832",
   "metadata": {},
   "outputs": [
    {
     "data": {
      "text/plain": [
       "{'H1': [1, 10], 'H2': [4, 7]}"
      ]
     },
     "execution_count": 51,
     "metadata": {},
     "output_type": "execute_result"
    }
   ],
   "source": [
    "find_groups(['H1', 'H4', 'X', 'H2', 'X', 'X', 'H2', 'X', 'H5 ', 'H1'])"
   ]
  },
  {
   "cell_type": "code",
   "execution_count": 52,
   "id": "21867c8c",
   "metadata": {},
   "outputs": [
    {
     "data": {
      "text/plain": [
       "{'H2': [1, 2]}"
      ]
     },
     "execution_count": 52,
     "metadata": {},
     "output_type": "execute_result"
    }
   ],
   "source": [
    "find_groups(['H2', 'H2', 'X', 'X', 'X', 'X', 'X', 'X', 'H5 ', 'H1'])"
   ]
  },
  {
   "cell_type": "code",
   "execution_count": 53,
   "id": "b071dc48",
   "metadata": {},
   "outputs": [
    {
     "data": {
      "text/plain": [
       "{}"
      ]
     },
     "execution_count": 53,
     "metadata": {},
     "output_type": "execute_result"
    }
   ],
   "source": [
    "find_groups(['H1', 'X', 'H2', 'X', 'X', 'X', 'H4', 'X', 'X ', 'X'])"
   ]
  },
  {
   "cell_type": "code",
   "execution_count": 54,
   "id": "8785c341",
   "metadata": {},
   "outputs": [],
   "source": [
    "# Here, we will generate groups for all the days \n",
    "# Store them in the list\n",
    "\n",
    "groups_per_days = []\n",
    "for day  in hotel_days:    \n",
    "    groups_per_days.append(find_groups(day))"
   ]
  },
  {
   "cell_type": "code",
   "execution_count": 55,
   "id": "ac07685e",
   "metadata": {},
   "outputs": [
    {
     "data": {
      "text/plain": [
       "[{'H1': [1, 10], 'H2': [4, 7]},\n",
       " {},\n",
       " {},\n",
       " {},\n",
       " {'H1': [3, 6]},\n",
       " {},\n",
       " {},\n",
       " {},\n",
       " {},\n",
       " {},\n",
       " {},\n",
       " {},\n",
       " {},\n",
       " {},\n",
       " {},\n",
       " {},\n",
       " {},\n",
       " {},\n",
       " {},\n",
       " {'H3': [4, 7]}]"
      ]
     },
     "execution_count": 55,
     "metadata": {},
     "output_type": "execute_result"
    }
   ],
   "source": [
    "groups_per_days"
   ]
  },
  {
   "cell_type": "code",
   "execution_count": 66,
   "id": "0a20ff01",
   "metadata": {},
   "outputs": [
    {
     "name": "stdout",
     "output_type": "stream",
     "text": [
      "1 2\t1 3\t1 4\t1 5\t2 3\t2 4\t2 5\t3 4\t3 5\t4 5\t"
     ]
    }
   ],
   "source": [
    "# given a list (ex. [1,2,3,4,5])\n",
    "# generate the list of pairwise comparisons of that list\n",
    "for i in range(1, 5):\n",
    "    for j in range(i+1, 6):\n",
    "        print(i,j, end=\"\\t\") "
   ]
  },
  {
   "cell_type": "code",
   "execution_count": 68,
   "id": "838061c1",
   "metadata": {},
   "outputs": [
    {
     "name": "stdout",
     "output_type": "stream",
     "text": [
      "0 1\t0 2\t0 3\t0 4\t0 5\t0 6\t0 7\t0 8\t0 9\t0 10\t0 11\t0 12\t0 13\t0 14\t0 15\t0 16\t0 17\t0 18\t0 19\t1 2\t1 3\t1 4\t1 5\t1 6\t1 7\t1 8\t1 9\t1 10\t1 11\t1 12\t1 13\t1 14\t1 15\t1 16\t1 17\t1 18\t1 19\t2 3\t2 4\t2 5\t2 6\t2 7\t2 8\t2 9\t2 10\t2 11\t2 12\t2 13\t2 14\t2 15\t2 16\t2 17\t2 18\t2 19\t3 4\t3 5\t3 6\t3 7\t3 8\t3 9\t3 10\t3 11\t3 12\t3 13\t3 14\t3 15\t3 16\t3 17\t3 18\t3 19\t4 5\t4 6\t4 7\t4 8\t4 9\t4 10\t4 11\t4 12\t4 13\t4 14\t4 15\t4 16\t4 17\t4 18\t4 19\t5 6\t5 7\t5 8\t5 9\t5 10\t5 11\t5 12\t5 13\t5 14\t5 15\t5 16\t5 17\t5 18\t5 19\t6 7\t6 8\t6 9\t6 10\t6 11\t6 12\t6 13\t6 14\t6 15\t6 16\t6 17\t6 18\t6 19\t7 8\t7 9\t7 10\t7 11\t7 12\t7 13\t7 14\t7 15\t7 16\t7 17\t7 18\t7 19\t8 9\t8 10\t8 11\t8 12\t8 13\t8 14\t8 15\t8 16\t8 17\t8 18\t8 19\t9 10\t9 11\t9 12\t9 13\t9 14\t9 15\t9 16\t9 17\t9 18\t9 19\t10 11\t10 12\t10 13\t10 14\t10 15\t10 16\t10 17\t10 18\t10 19\t11 12\t11 13\t11 14\t11 15\t11 16\t11 17\t11 18\t11 19\t12 13\t12 14\t12 15\t12 16\t12 17\t12 18\t12 19\t13 14\t13 15\t13 16\t13 17\t13 18\t13 19\t14 15\t14 16\t14 17\t14 18\t14 19\t15 16\t15 17\t15 18\t15 19\t16 17\t16 18\t16 19\t17 18\t17 19\t18 19\t"
     ]
    }
   ],
   "source": [
    "# generate the list of pairwise comparisons we will do\n",
    "pairwise_comps = []\n",
    "\n",
    "for i in range(0, len(hotel_days)-1):\n",
    "    for j in range(i+1, len(hotel_days)):\n",
    "        print(i,j, end=\"\\t\") "
   ]
  },
  {
   "cell_type": "code",
   "execution_count": 69,
   "id": "1a60bdb7",
   "metadata": {},
   "outputs": [],
   "source": [
    "# generate the list of pairwise comparisons we will do\n",
    "pairwise_comps = []\n",
    "\n",
    "for i in range(0, len(hotel_days)-1):\n",
    "    for j in range(i+1, len(hotel_days)):\n",
    "        pairwise_comps.append((i,j))"
   ]
  },
  {
   "cell_type": "code",
   "execution_count": 72,
   "id": "78ff4c3a",
   "metadata": {},
   "outputs": [
    {
     "data": {
      "text/plain": [
       "[(0, 1),\n",
       " (0, 2),\n",
       " (0, 3),\n",
       " (0, 4),\n",
       " (0, 5),\n",
       " (0, 6),\n",
       " (0, 7),\n",
       " (0, 8),\n",
       " (0, 9),\n",
       " (0, 10)]"
      ]
     },
     "execution_count": 72,
     "metadata": {},
     "output_type": "execute_result"
    }
   ],
   "source": [
    "pairwise_comps[:10]"
   ]
  },
  {
   "cell_type": "code",
   "execution_count": 75,
   "id": "0811a76f",
   "metadata": {},
   "outputs": [
    {
     "data": {
      "text/plain": [
       "{2, 5}"
      ]
     },
     "execution_count": 75,
     "metadata": {},
     "output_type": "execute_result"
    }
   ],
   "source": [
    "# finding group overlap using set intersection\n",
    "\n",
    "group_1 = [1,2,5]\n",
    "group_2 = [2,3,5]\n",
    "\n",
    "set(group_1).intersection(group_2)\n",
    "\n",
    "\n"
   ]
  },
  {
   "cell_type": "code",
   "execution_count": 80,
   "id": "41b64c5e",
   "metadata": {},
   "outputs": [],
   "source": [
    "def compare_two_days(day_i, day_j):\n",
    "    match = []\n",
    "    for group_i in day_i.values():\n",
    "        for group_j in day_j.values():\n",
    "            intersect = set(group_i).intersection(group_j)\n",
    "            if len(intersect) > 1 :\n",
    "                match.append(intersect)\n",
    "    return match"
   ]
  },
  {
   "cell_type": "code",
   "execution_count": 84,
   "id": "8343393e",
   "metadata": {},
   "outputs": [
    {
     "data": {
      "text/plain": [
       "[{4, 7}]"
      ]
     },
     "execution_count": 84,
     "metadata": {},
     "output_type": "execute_result"
    }
   ],
   "source": [
    "\n",
    "compare_two_days({\"H1\": [1,8], \"H4\": [4,6,7]}, {\"H3\":[1,4,5,7], \"H5\": [2,9]})"
   ]
  },
  {
   "cell_type": "code",
   "execution_count": 87,
   "id": "0cbf8ba7",
   "metadata": {},
   "outputs": [
    {
     "name": "stdout",
     "output_type": "stream",
     "text": [
      "for days (0, 1), the overlap was: []\n",
      "for days (0, 2), the overlap was: []\n",
      "for days (0, 3), the overlap was: []\n",
      "for days (0, 4), the overlap was: []\n",
      "for days (0, 5), the overlap was: []\n",
      "for days (0, 6), the overlap was: []\n",
      "for days (0, 7), the overlap was: []\n",
      "for days (0, 8), the overlap was: []\n",
      "for days (0, 9), the overlap was: []\n",
      "for days (0, 10), the overlap was: []\n",
      "for days (0, 11), the overlap was: []\n",
      "for days (0, 12), the overlap was: []\n",
      "for days (0, 13), the overlap was: []\n",
      "for days (0, 14), the overlap was: []\n",
      "for days (0, 15), the overlap was: []\n",
      "for days (0, 16), the overlap was: []\n",
      "for days (0, 17), the overlap was: []\n",
      "for days (0, 18), the overlap was: []\n",
      "for days (0, 19), the overlap was: [{4, 7}]\n",
      "for days (1, 2), the overlap was: []\n",
      "for days (1, 3), the overlap was: []\n",
      "for days (1, 4), the overlap was: []\n",
      "for days (1, 5), the overlap was: []\n",
      "for days (1, 6), the overlap was: []\n",
      "for days (1, 7), the overlap was: []\n",
      "for days (1, 8), the overlap was: []\n",
      "for days (1, 9), the overlap was: []\n",
      "for days (1, 10), the overlap was: []\n",
      "for days (1, 11), the overlap was: []\n",
      "for days (1, 12), the overlap was: []\n",
      "for days (1, 13), the overlap was: []\n",
      "for days (1, 14), the overlap was: []\n",
      "for days (1, 15), the overlap was: []\n",
      "for days (1, 16), the overlap was: []\n",
      "for days (1, 17), the overlap was: []\n",
      "for days (1, 18), the overlap was: []\n",
      "for days (1, 19), the overlap was: []\n",
      "for days (2, 3), the overlap was: []\n",
      "for days (2, 4), the overlap was: []\n",
      "for days (2, 5), the overlap was: []\n",
      "for days (2, 6), the overlap was: []\n",
      "for days (2, 7), the overlap was: []\n",
      "for days (2, 8), the overlap was: []\n",
      "for days (2, 9), the overlap was: []\n",
      "for days (2, 10), the overlap was: []\n",
      "for days (2, 11), the overlap was: []\n",
      "for days (2, 12), the overlap was: []\n",
      "for days (2, 13), the overlap was: []\n",
      "for days (2, 14), the overlap was: []\n",
      "for days (2, 15), the overlap was: []\n",
      "for days (2, 16), the overlap was: []\n",
      "for days (2, 17), the overlap was: []\n",
      "for days (2, 18), the overlap was: []\n",
      "for days (2, 19), the overlap was: []\n",
      "for days (3, 4), the overlap was: []\n",
      "for days (3, 5), the overlap was: []\n",
      "for days (3, 6), the overlap was: []\n",
      "for days (3, 7), the overlap was: []\n",
      "for days (3, 8), the overlap was: []\n",
      "for days (3, 9), the overlap was: []\n",
      "for days (3, 10), the overlap was: []\n",
      "for days (3, 11), the overlap was: []\n",
      "for days (3, 12), the overlap was: []\n",
      "for days (3, 13), the overlap was: []\n",
      "for days (3, 14), the overlap was: []\n",
      "for days (3, 15), the overlap was: []\n",
      "for days (3, 16), the overlap was: []\n",
      "for days (3, 17), the overlap was: []\n",
      "for days (3, 18), the overlap was: []\n",
      "for days (3, 19), the overlap was: []\n",
      "for days (4, 5), the overlap was: []\n",
      "for days (4, 6), the overlap was: []\n",
      "for days (4, 7), the overlap was: []\n",
      "for days (4, 8), the overlap was: []\n",
      "for days (4, 9), the overlap was: []\n",
      "for days (4, 10), the overlap was: []\n",
      "for days (4, 11), the overlap was: []\n",
      "for days (4, 12), the overlap was: []\n",
      "for days (4, 13), the overlap was: []\n",
      "for days (4, 14), the overlap was: []\n",
      "for days (4, 15), the overlap was: []\n",
      "for days (4, 16), the overlap was: []\n",
      "for days (4, 17), the overlap was: []\n",
      "for days (4, 18), the overlap was: []\n",
      "for days (4, 19), the overlap was: []\n",
      "for days (5, 6), the overlap was: []\n",
      "for days (5, 7), the overlap was: []\n",
      "for days (5, 8), the overlap was: []\n",
      "for days (5, 9), the overlap was: []\n",
      "for days (5, 10), the overlap was: []\n",
      "for days (5, 11), the overlap was: []\n",
      "for days (5, 12), the overlap was: []\n",
      "for days (5, 13), the overlap was: []\n",
      "for days (5, 14), the overlap was: []\n",
      "for days (5, 15), the overlap was: []\n",
      "for days (5, 16), the overlap was: []\n",
      "for days (5, 17), the overlap was: []\n",
      "for days (5, 18), the overlap was: []\n",
      "for days (5, 19), the overlap was: []\n",
      "for days (6, 7), the overlap was: []\n",
      "for days (6, 8), the overlap was: []\n",
      "for days (6, 9), the overlap was: []\n",
      "for days (6, 10), the overlap was: []\n",
      "for days (6, 11), the overlap was: []\n",
      "for days (6, 12), the overlap was: []\n",
      "for days (6, 13), the overlap was: []\n",
      "for days (6, 14), the overlap was: []\n",
      "for days (6, 15), the overlap was: []\n",
      "for days (6, 16), the overlap was: []\n",
      "for days (6, 17), the overlap was: []\n",
      "for days (6, 18), the overlap was: []\n",
      "for days (6, 19), the overlap was: []\n",
      "for days (7, 8), the overlap was: []\n",
      "for days (7, 9), the overlap was: []\n",
      "for days (7, 10), the overlap was: []\n",
      "for days (7, 11), the overlap was: []\n",
      "for days (7, 12), the overlap was: []\n",
      "for days (7, 13), the overlap was: []\n",
      "for days (7, 14), the overlap was: []\n",
      "for days (7, 15), the overlap was: []\n",
      "for days (7, 16), the overlap was: []\n",
      "for days (7, 17), the overlap was: []\n",
      "for days (7, 18), the overlap was: []\n",
      "for days (7, 19), the overlap was: []\n",
      "for days (8, 9), the overlap was: []\n",
      "for days (8, 10), the overlap was: []\n",
      "for days (8, 11), the overlap was: []\n",
      "for days (8, 12), the overlap was: []\n",
      "for days (8, 13), the overlap was: []\n",
      "for days (8, 14), the overlap was: []\n",
      "for days (8, 15), the overlap was: []\n",
      "for days (8, 16), the overlap was: []\n",
      "for days (8, 17), the overlap was: []\n",
      "for days (8, 18), the overlap was: []\n",
      "for days (8, 19), the overlap was: []\n",
      "for days (9, 10), the overlap was: []\n",
      "for days (9, 11), the overlap was: []\n",
      "for days (9, 12), the overlap was: []\n",
      "for days (9, 13), the overlap was: []\n",
      "for days (9, 14), the overlap was: []\n",
      "for days (9, 15), the overlap was: []\n",
      "for days (9, 16), the overlap was: []\n",
      "for days (9, 17), the overlap was: []\n",
      "for days (9, 18), the overlap was: []\n",
      "for days (9, 19), the overlap was: []\n",
      "for days (10, 11), the overlap was: []\n",
      "for days (10, 12), the overlap was: []\n",
      "for days (10, 13), the overlap was: []\n",
      "for days (10, 14), the overlap was: []\n",
      "for days (10, 15), the overlap was: []\n",
      "for days (10, 16), the overlap was: []\n",
      "for days (10, 17), the overlap was: []\n",
      "for days (10, 18), the overlap was: []\n",
      "for days (10, 19), the overlap was: []\n",
      "for days (11, 12), the overlap was: []\n",
      "for days (11, 13), the overlap was: []\n",
      "for days (11, 14), the overlap was: []\n",
      "for days (11, 15), the overlap was: []\n",
      "for days (11, 16), the overlap was: []\n",
      "for days (11, 17), the overlap was: []\n",
      "for days (11, 18), the overlap was: []\n",
      "for days (11, 19), the overlap was: []\n",
      "for days (12, 13), the overlap was: []\n",
      "for days (12, 14), the overlap was: []\n",
      "for days (12, 15), the overlap was: []\n",
      "for days (12, 16), the overlap was: []\n",
      "for days (12, 17), the overlap was: []\n",
      "for days (12, 18), the overlap was: []\n",
      "for days (12, 19), the overlap was: []\n",
      "for days (13, 14), the overlap was: []\n",
      "for days (13, 15), the overlap was: []\n",
      "for days (13, 16), the overlap was: []\n",
      "for days (13, 17), the overlap was: []\n",
      "for days (13, 18), the overlap was: []\n",
      "for days (13, 19), the overlap was: []\n",
      "for days (14, 15), the overlap was: []\n",
      "for days (14, 16), the overlap was: []\n",
      "for days (14, 17), the overlap was: []\n",
      "for days (14, 18), the overlap was: []\n",
      "for days (14, 19), the overlap was: []\n",
      "for days (15, 16), the overlap was: []\n",
      "for days (15, 17), the overlap was: []\n",
      "for days (15, 18), the overlap was: []\n",
      "for days (15, 19), the overlap was: []\n",
      "for days (16, 17), the overlap was: []\n",
      "for days (16, 18), the overlap was: []\n",
      "for days (16, 19), the overlap was: []\n",
      "for days (17, 18), the overlap was: []\n",
      "for days (17, 19), the overlap was: []\n",
      "for days (18, 19), the overlap was: []\n"
     ]
    }
   ],
   "source": [
    "for comp in pairwise_comps:\n",
    "    match = compare_two_days(groups_per_days[comp[0]], groups_per_days[comp[1]])\n",
    "    print(f\"for days {comp}, the overlap was: {match}\")"
   ]
  },
  {
   "cell_type": "code",
   "execution_count": null,
   "id": "be00da4b",
   "metadata": {},
   "outputs": [],
   "source": []
  }
 ],
 "metadata": {
  "kernelspec": {
   "display_name": "Python 3 (ipykernel)",
   "language": "python",
   "name": "python3"
  },
  "language_info": {
   "codemirror_mode": {
    "name": "ipython",
    "version": 3
   },
   "file_extension": ".py",
   "mimetype": "text/x-python",
   "name": "python",
   "nbconvert_exporter": "python",
   "pygments_lexer": "ipython3",
   "version": "3.8.3"
  }
 },
 "nbformat": 4,
 "nbformat_minor": 5
}
