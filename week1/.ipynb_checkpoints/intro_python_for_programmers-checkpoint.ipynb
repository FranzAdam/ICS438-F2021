{
 "cells": [
  {
   "cell_type": "markdown",
   "id": "b95adee9",
   "metadata": {},
   "source": [
    "### Brief Python and Jupyter Notebook Intro\n",
    "* This is a quick introduction for experienced programmers \n",
    "  * Scratches the surfaces of what you can do with Python but sufficient to get you started\n",
    "  * See the Python video in the Miro Python Resources\n",
    "  * See the Python Crash Course Book in the Miro Python Resources\n",
    "    * Part I - Basics\n",
    "  \n",
    "* Python is more than a scripting language.\n",
    "    * Supports and emphasizes best practices for writing software\n",
    "* Relatively easy to learn and write code in.\n",
    "  * clean and to-the-point syntax.\n",
    "  * Structures code using indentation\n"
   ]
  },
  {
   "cell_type": "markdown",
   "id": "384cc135",
   "metadata": {},
   "source": [
    "### About Jupyter Notebooks\n",
    "\n",
    "1. Starting a Notebook\n",
    "2. Creating a cell\n",
    "3. Running or rendering a cell\n",
    "4. The ouput section versus rendered cell\n",
    "5. In [ ] vs. In [*] vs. In [1]\n",
    "6. Add cells at different locations\n",
    "7. Editing a cell (pencil icon)\n",
    "8. Cell types\n",
    "9. Writing Markdown\n",
    "10. Keyboard shortcuts\n",
    "11. File extension\n",
    "12. About the kernel menu\n",
    "13. Mixing up HTML with Markdown"
   ]
  },
  {
   "cell_type": "code",
   "execution_count": 6,
   "id": "6106c35d",
   "metadata": {},
   "outputs": [
    {
     "name": "stdout",
     "output_type": "stream",
     "text": [
      "Above average price.\n",
      "You ended up buying 10 items\n"
     ]
    }
   ],
   "source": [
    "# Uses # to start a comment line\n",
    "# Check the price and decide how many items to buy based \n",
    "# on whether the items is the vendor's price is reasonable or above average \n",
    "\n",
    "price = 3.14\n",
    "nb_items = 0\n",
    "    \n",
    "if price < 2:\n",
    "    print(\"Good deal!\")\n",
    "    nb_items = 300\n",
    "else:\n",
    "    print(\"Above average price.\")\n",
    "    nb_items = 10\n",
    "\n",
    "# string concatenation using \"+\"\n",
    "print (\"You ended up buying \" + str(nb_items) + \" items\")"
   ]
  },
  {
   "cell_type": "markdown",
   "id": "9a408a51",
   "metadata": {},
   "source": [
    "### Python Indentation\n",
    "\n",
    "* Syntax of Python is similar to that in other programming languages\n",
    "  * Parentheses not necessary in Python.\n",
    "\n",
    "* Nesting in Python uses indentation (tabs)\n",
    "    * just like `{}` in Java, JS, or C++ \n",
    "    * Python's `{` equivalent is to start indentation\n",
    "    * Python's `}` equivalent is to end indentation\n",
    "    * The Python statements that require `{}` equivalent end with a colon (`:`)\n",
    "\n",
    "* E.g.: `If` statement ends with a colon, indicating that it is followed by one or more indented statements\n",
    "* The end of the indentation means the if the block has ended\n"
   ]
  },
  {
   "cell_type": "markdown",
   "id": "c1ecb55e",
   "metadata": {},
   "source": [
    "### Python Basic Types\n",
    "\n",
    "* Python is dynamically typed\n",
    "  * As opposed to C++, you don't need to declare a variable type \n",
    "  * Python infers data type are runtime. \n",
    "\n",
    "* Python is a weakly typed language \n",
    "  * E.g.: you can declare a variable with a string and assign a list to it if needed\n",
    "  * Bad programming practice but does not cause an error\n",
    "  \n",
    "* Python most commonly used basic data types are:\n",
    "  * `stirng`, `int`, `float` an `Boolean`"
   ]
  },
  {
   "cell_type": "markdown",
   "id": "18ff762c",
   "metadata": {},
   "source": [
    "### Python Basic types - String\n",
    "\n",
    "```python\n",
    "some_str_1 = \"This is a string\"\n",
    "some_str_2 = 'This is also a string'\n",
    "some_str_3 = \"\"\"And so is this one\"\"\"\n",
    "```\n",
    "* use `\"` if your  string contains `'` you don't want to escape ((ex. `\"it's complicated\"`))\n",
    "* use `'` if your  string contains `\"` you don't want to escape (ex. `'she said: \"HI\"'`)\n",
    "* use `\"\"\"` if your  string contains `'` and `\"` you don't want to escape. Also escapes new lines.\n",
    "\n",
    "* Use the `print` function to send the passed parameters to standard output\n",
    "```\n",
    "print(some_str_1)\n",
    "```\n",
    "* Use `len()` to get the string lenght\n",
    "`len(some_str_3)   # returns 18`"
   ]
  },
  {
   "cell_type": "code",
   "execution_count": 12,
   "id": "f2e58a36",
   "metadata": {},
   "outputs": [],
   "source": [
    "some_str_1 = \"This is a string\""
   ]
  },
  {
   "cell_type": "code",
   "execution_count": 13,
   "id": "5414f459",
   "metadata": {},
   "outputs": [
    {
     "name": "stdout",
     "output_type": "stream",
     "text": [
      "This is a string\n"
     ]
    }
   ],
   "source": [
    "print(some_str_1)"
   ]
  },
  {
   "cell_type": "code",
   "execution_count": 45,
   "id": "93a4bb2c",
   "metadata": {},
   "outputs": [
    {
     "data": {
      "text/plain": [
       "18"
      ]
     },
     "execution_count": 45,
     "metadata": {},
     "output_type": "execute_result"
    }
   ],
   "source": [
    "some_str_3 = \"\"\"And so is this one\"\"\"\n",
    "len(some_str_3)"
   ]
  },
  {
   "cell_type": "markdown",
   "id": "c32367ae",
   "metadata": {},
   "source": [
    "### Python Basic types - String\n",
    "\n",
    "* Python strings can be concatenated using `+` operator\n",
    "```\n",
    "first_name = \"John\"\n",
    "last_name = \"Smith\"\n",
    "full_name = first_name + \" \" + last_name\n",
    "```\n",
    "\n",
    "* Python 3 also supports f-strings (formatted string literals):\n",
    " * use the `f` character before the `'`, `\"` or `\"\"\"` quotes and wrap variable in `{}` \n",
    " \n",
    "```\n",
    "full_name = f\"{first_name} {last_name}\"\n",
    "```"
   ]
  },
  {
   "cell_type": "code",
   "execution_count": 1,
   "id": "5ee09fd0",
   "metadata": {},
   "outputs": [
    {
     "name": "stdout",
     "output_type": "stream",
     "text": [
      "John Smith\n"
     ]
    }
   ],
   "source": [
    "first_name = \"John\"\n",
    "last_name = \"Smith\"\n",
    "full_name = first_name + \" \" + last_name\n",
    "print(full_name)"
   ]
  },
  {
   "cell_type": "code",
   "execution_count": 2,
   "id": "dd7d31d0",
   "metadata": {},
   "outputs": [
    {
     "name": "stdout",
     "output_type": "stream",
     "text": [
      "John  Smith\n"
     ]
    }
   ],
   "source": [
    "full_name = f\"{first_name}  {last_name}\"\n",
    "print(full_name)\n"
   ]
  },
  {
   "cell_type": "code",
   "execution_count": 4,
   "id": "f1d5d085",
   "metadata": {},
   "outputs": [
    {
     "name": "stdout",
     "output_type": "stream",
     "text": [
      "John  Smith\n"
     ]
    }
   ],
   "source": [
    "full_name = f'{first_name}  {last_name}'\n",
    "print(full_name)"
   ]
  },
  {
   "cell_type": "markdown",
   "id": "ef376089",
   "metadata": {},
   "source": [
    "### Python Basic types - Integers\n",
    "\n",
    "```\n",
    "nb_students = 43\n",
    "```\n",
    "\n",
    "* Values can be tapecast (converted) into ints using `int()`\n",
    "`int(\"4\")`\n",
    "\n",
    "* The function `type` is usful for checking the tupe of a variable. E.g.:\n",
    "\n",
    "`type(nb_students)`\n",
    "\n",
    "\n"
   ]
  },
  {
   "cell_type": "code",
   "execution_count": 5,
   "id": "0d04bcee",
   "metadata": {},
   "outputs": [
    {
     "name": "stdout",
     "output_type": "stream",
     "text": [
      "x is of type <class 'str'>\n",
      "some_int_1 <class 'int'>\n"
     ]
    }
   ],
   "source": [
    "x = \"4\"\n",
    "print(f\"x is of type {type(x)}\")\n",
    "some_int_1 = int(\"4\")\n",
    "print(f\"some_int_1 {type(some_int_1)}\")"
   ]
  },
  {
   "cell_type": "code",
   "execution_count": 11,
   "id": "1dac5838",
   "metadata": {},
   "outputs": [
    {
     "name": "stdout",
     "output_type": "stream",
     "text": [
      "The int value associated with True in Python is 1\n",
      "The int value associated with False in Python is 0\n"
     ]
    }
   ],
   "source": [
    "\n",
    "print(f\"The int value associated with True in Python is {int(True)}\")\n",
    "\n",
    "print(f\"The int value associated with False in Python is {int(False)}\")\n"
   ]
  },
  {
   "cell_type": "code",
   "execution_count": 12,
   "id": "532d3eb5",
   "metadata": {},
   "outputs": [
    {
     "data": {
      "text/plain": [
       "4"
      ]
     },
     "execution_count": 12,
     "metadata": {},
     "output_type": "execute_result"
    }
   ],
   "source": [
    "some_int_2 = int(4.99)\n",
    "\n",
    "some_int_2\n"
   ]
  },
  {
   "cell_type": "markdown",
   "id": "1a3da715",
   "metadata": {},
   "source": [
    "### Printing values in Jupyter Notebooks\n",
    "\n",
    "* Note the previous expression (`type(nb_students)`) printed the value of `some_int_2` without us having to explicitly use `print()`\n",
    "* This is just a convenience of Jupyter Notebook. \n",
    "* By default, if the last line in a cell is an expression, then its value is automatically printed without the need to use a `print` statement.\n",
    "  * Statements don't return a value so they will not be printed\n",
    "  * If in doubt use `print()` explicitely"
   ]
  },
  {
   "cell_type": "code",
   "execution_count": 16,
   "id": "7858fc8f",
   "metadata": {},
   "outputs": [],
   "source": [
    "x = 12"
   ]
  },
  {
   "cell_type": "code",
   "execution_count": 17,
   "id": "e3481349",
   "metadata": {},
   "outputs": [
    {
     "data": {
      "text/plain": [
       "6.15"
      ]
     },
     "execution_count": 17,
     "metadata": {},
     "output_type": "execute_result"
    }
   ],
   "source": [
    "x = 12.3\n",
    "x / 2 "
   ]
  },
  {
   "cell_type": "markdown",
   "id": "9e336bc8",
   "metadata": {},
   "source": [
    "### Python Basic types - Floats\n",
    "\n",
    "* The `float` type in Python designates a floating-point number\n",
    "* Represented as 64-bit “double-precision”\n",
    "* float values are specified with a decimal point. E.g.:  `a = 12.0`\n",
    "* Results of division are floats\n",
    "`type(4/2)` is a `float`\n"
   ]
  },
  {
   "cell_type": "code",
   "execution_count": 18,
   "id": "bbfc702b",
   "metadata": {},
   "outputs": [
    {
     "data": {
      "text/plain": [
       "float"
      ]
     },
     "execution_count": 18,
     "metadata": {},
     "output_type": "execute_result"
    }
   ],
   "source": [
    "type(2.0)"
   ]
  },
  {
   "cell_type": "code",
   "execution_count": 19,
   "id": "73615ab2",
   "metadata": {},
   "outputs": [
    {
     "data": {
      "text/plain": [
       "float"
      ]
     },
     "execution_count": 19,
     "metadata": {},
     "output_type": "execute_result"
    }
   ],
   "source": [
    "type(4/2)"
   ]
  },
  {
   "cell_type": "markdown",
   "id": "52069d1a",
   "metadata": {},
   "source": [
    "### Python Basic types - Booleans\n",
    "\n",
    "* Objects of `Boolean` type may have one of two values, `True` or `False`:\n",
    "\n",
    "* logical operators in Python evaluate an expression to `True` or `False`. E.g.:\n",
    "\n",
    "```\n",
    "3 > 2        # is True\n",
    "4 == (1+3)   # is True\n",
    "4 < (1+3)    # is False\n",
    "\n",
    "```\n",
    "* Sama as in other progammig languages, logical expression can be combined\n",
    "  * Python uses `and` and `or `\n",
    " \n"
   ]
  },
  {
   "cell_type": "code",
   "execution_count": 34,
   "id": "79274619",
   "metadata": {},
   "outputs": [
    {
     "data": {
      "text/plain": [
       "bool"
      ]
     },
     "execution_count": 34,
     "metadata": {},
     "output_type": "execute_result"
    }
   ],
   "source": [
    "type(True)"
   ]
  },
  {
   "cell_type": "code",
   "execution_count": 20,
   "id": "0c3610c1",
   "metadata": {},
   "outputs": [
    {
     "data": {
      "text/plain": [
       "0"
      ]
     },
     "execution_count": 20,
     "metadata": {},
     "output_type": "execute_result"
    }
   ],
   "source": [
    "int(False)"
   ]
  },
  {
   "cell_type": "code",
   "execution_count": 36,
   "id": "8922fbd4",
   "metadata": {},
   "outputs": [
    {
     "name": "stdout",
     "output_type": "stream",
     "text": [
      "True\n",
      "True\n",
      "False\n",
      "False\n"
     ]
    }
   ],
   "source": [
    "print(3 > 2)\n",
    "print(4 == (1+3))\n",
    "print(4 < (1+3))\n",
    "print(4 != (1+3))"
   ]
  },
  {
   "cell_type": "code",
   "execution_count": 21,
   "id": "aea563db",
   "metadata": {},
   "outputs": [
    {
     "data": {
      "text/plain": [
       "True"
      ]
     },
     "execution_count": 21,
     "metadata": {},
     "output_type": "execute_result"
    }
   ],
   "source": [
    "(3 > 2) and (4 == (1+3))"
   ]
  },
  {
   "cell_type": "code",
   "execution_count": 42,
   "id": "4c36d225",
   "metadata": {},
   "outputs": [
    {
     "data": {
      "text/plain": [
       "False"
      ]
     },
     "execution_count": 42,
     "metadata": {},
     "output_type": "execute_result"
    }
   ],
   "source": [
    "(3 > 2) and (4 < (1+3))"
   ]
  },
  {
   "cell_type": "code",
   "execution_count": 43,
   "id": "9146828f",
   "metadata": {},
   "outputs": [
    {
     "data": {
      "text/plain": [
       "True"
      ]
     },
     "execution_count": 43,
     "metadata": {},
     "output_type": "execute_result"
    }
   ],
   "source": [
    "(3 > 2) or (4 < (1+3))"
   ]
  },
  {
   "cell_type": "markdown",
   "id": "09dce1c4",
   "metadata": {},
   "source": [
    "### Python Containers\n",
    "\n",
    "* In Python, containers are integral to the language.\n",
    "    * In some other languages (e.g., C++ and Java) containers are add-on libraries\n",
    "* Fundamental containers in Python are lists, tuples, dictionaries, and sets. \n",
    "\n",
    "* Lists: ordered collection of items (may have different types)\n",
    "* tuples: Immutable collection of items (may have different types)\n",
    "* Sets: unordered collection of unique elements \n",
    "* Dictionaries: Associative arrays where a unique key is associated with a value\n",
    "  * (a.k.a. maps, dictionaries, hash tables)"
   ]
  },
  {
   "cell_type": "markdown",
   "id": "31e4603a",
   "metadata": {},
   "source": [
    "### Python Containers - Lists\n",
    "\n",
    "* list are ordered sets of elements\n",
    "\n",
    "* They can contain any combination of basic or container data types:\n",
    "\n",
    "`some_list = [\"John\", 25, \"ICS\"]`\n",
    "\n",
    "* Their index starts at position 0:\n",
    "\n",
    "` some_list[0] # returns \"John\"`\n",
    "\n",
    "* They can also be negatively indexed by starting at the end:\n",
    "\n",
    "` some_list[-1] # returns \"ICS\"`\n",
    "\n",
    "* List's length can be obtained with `len()`:\n",
    "\n",
    "`len(some_list)   # return 3`\n",
    "\n",
    "* You can append using the `append()` method:\n",
    "\n",
    "`some_list.append(\"A+\")`\n"
   ]
  },
  {
   "cell_type": "code",
   "execution_count": 24,
   "id": "35d1f7fc",
   "metadata": {},
   "outputs": [
    {
     "name": "stdout",
     "output_type": "stream",
     "text": [
      " the variable some_list is of type <class 'list'>\n",
      " the list contains 3 elements\n",
      " the first element in the list is: John\n",
      " the last element in the list is: ICS\n",
      " the last element in the list is: ['John', 25, 'ICS', 'A+']\n"
     ]
    }
   ],
   "source": [
    "some_list = [\"John\", 25, \"ICS\"]\n",
    "\n",
    "print(f\" the variable some_list is of type {type(some_list)}\")\n",
    "\n",
    "print(f\" the list contains {len(some_list)} elements\")\n",
    "\n",
    "print(f\" the first element in the list is: {some_list[0]}\")\n",
    "\n",
    "print(f\" the last element in the list is: {some_list[-1]}\")\n",
    "\n",
    "some_list.append(\"A+\")\n",
    "\n",
    "print(f\" the last element in the list is: {some_list}\") # Why not append in the f-string?\n"
   ]
  },
  {
   "cell_type": "markdown",
   "id": "a63ea5c9",
   "metadata": {},
   "source": [
    "### Python Containers - Tuples\n",
    "\n",
    "* Tuples are similar to lists\n",
    "  * They are orders sets of elements\n",
    "  * can contain any combination of basic or container data types\n",
    "* lists are mutable whereas tuples are immutable\n",
    "  * They do not support assignments and cannot be extended (appended to)\n",
    "  * allows a memory-efficient implementation of tuples\n",
    "```\n",
    "some_tuple = (1, 2, 3)\n",
    "some_tuple[1] = 8. # this generates an errors\n",
    "```"
   ]
  },
  {
   "cell_type": "code",
   "execution_count": 63,
   "id": "2ba082fc",
   "metadata": {},
   "outputs": [
    {
     "ename": "AttributeError",
     "evalue": "'tuple' object has no attribute 'append'",
     "output_type": "error",
     "traceback": [
      "\u001b[0;31m---------------------------------------------------------------------------\u001b[0m",
      "\u001b[0;31mAttributeError\u001b[0m                            Traceback (most recent call last)",
      "\u001b[0;32m/var/folders/wm/4mf96ttd0md8_3czt6nc1vbc0000gn/T/ipykernel_27581/634916072.py\u001b[0m in \u001b[0;36m<module>\u001b[0;34m\u001b[0m\n\u001b[1;32m      2\u001b[0m \u001b[0;31m#some_tuple[1] = 10\u001b[0m\u001b[0;34m\u001b[0m\u001b[0;34m\u001b[0m\u001b[0;34m\u001b[0m\u001b[0m\n\u001b[1;32m      3\u001b[0m \u001b[0;34m\u001b[0m\u001b[0m\n\u001b[0;32m----> 4\u001b[0;31m \u001b[0msome_tuple\u001b[0m\u001b[0;34m.\u001b[0m\u001b[0mappend\u001b[0m\u001b[0;34m(\u001b[0m\u001b[0;36m10\u001b[0m\u001b[0;34m)\u001b[0m\u001b[0;34m\u001b[0m\u001b[0;34m\u001b[0m\u001b[0m\n\u001b[0m",
      "\u001b[0;31mAttributeError\u001b[0m: 'tuple' object has no attribute 'append'"
     ]
    }
   ],
   "source": [
    "# The following will generate an error\n",
    "\n",
    "some_tuple = (1, 2, 3)\n",
    "\n",
    "some_tuple[1] = 10\n"
   ]
  },
  {
   "cell_type": "markdown",
   "id": "b096a5f8",
   "metadata": {},
   "source": [
    "### Python Containers - Dictionary\n",
    "\n",
    "* Dictionaries are key:value collections, where the keys are the unique identifiers of the values they are associated with\n",
    "  `some_dictionary = {\"Honolulu\": \"HI\", \"Boston\": \"MA\", \"Los Angeles\": \"CA\"}`\n",
    "* Values are accessed through their keys\n",
    "  print(some_dictionary[\"Honolulu\"])\n",
    "* A list of keys can be obtained using the keys() method\n",
    "    `some_dictionary.keys()    # return ['Honolulu', 'Boston', 'Los Angeles']`\n",
    "* A list of values can be obtained using the `values()` method\n",
    "    `some_dictionary.values()    # return ['HI', 'MA', 'CA']`\n",
    "* A list of (key, value) tuples can be obtained using the `items()` method \n",
    "    `some_dictionary.items()    # return [('Honolulu', 'HI'), ('Boston', 'MA'), ('Los Angeles', 'CA')]`\n"
   ]
  },
  {
   "cell_type": "code",
   "execution_count": 55,
   "id": "29d8a78f",
   "metadata": {},
   "outputs": [
    {
     "name": "stdout",
     "output_type": "stream",
     "text": [
      "the dictionary keys are: dict_keys(['Honolulu', 'Boston', 'Los Angeles'])\n",
      "the dictionary values are: dict_values(['HI', 'MA', 'CA'])\n",
      "the dictionary key:value tuples are: dict_items([('Honolulu', 'HI'), ('Boston', 'MA'), ('Los Angeles', 'CA')])\n"
     ]
    }
   ],
   "source": [
    "some_dictionary = {\"Honolulu\": \"HI\", \"Boston\": \"MA\", \"Los Angeles\": \"CA\"}\n",
    "print(f\"the dictionary keys are: {some_dictionary.keys()}\")\n",
    "print(f\"the dictionary values are: {some_dictionary.values()}\")\n",
    "print(f\"the dictionary key:value tuples are: {some_dictionary.items()}\")"
   ]
  },
  {
   "cell_type": "markdown",
   "id": "5dc022a5",
   "metadata": {},
   "source": [
    "### Python Iteration using For Loops\n",
    "\n",
    "* In Python, the `for` statement automatically iterates through containers\n",
    "\n",
    "``` \n",
    "some_list = [10, 20, 30]\n",
    "for val in some_list:\n",
    "    print(val)\n",
    "\n",
    "# print \n",
    "# 10\n",
    "# 20\n",
    "# 30\n",
    "```"
   ]
  },
  {
   "cell_type": "code",
   "execution_count": 52,
   "id": "6ce367b4",
   "metadata": {},
   "outputs": [
    {
     "name": "stdout",
     "output_type": "stream",
     "text": [
      "10\n",
      "20\n",
      "30\n"
     ]
    }
   ],
   "source": [
    "some_list = [10, 20, 30]\n",
    "for val in some_list:\n",
    "    print(val)\n"
   ]
  },
  {
   "cell_type": "markdown",
   "id": "7efe7d85",
   "metadata": {},
   "source": [
    "### Python Iteration using For Loops - Cont'd\n",
    "\n",
    "* In Python, `for` can use an iterator that works through a sequence.\n",
    "  * any sequence can be iterated through\n",
    "  * iterating over a dictionary gets its keys by default\n",
    "  * to get both keys and values, we need to use `items()`\n"
   ]
  },
  {
   "cell_type": "code",
   "execution_count": 29,
   "id": "b217a70d",
   "metadata": {},
   "outputs": [
    {
     "name": "stdout",
     "output_type": "stream",
     "text": [
      "HI\n",
      "New York\n",
      "California\n"
     ]
    }
   ],
   "source": [
    "some_dict = {\"HI\": \"Honolulu\", \"New York\": \"Albany\", \"California\": \"Sacramento\"}\n",
    "\n",
    "for key in some_dict:\n",
    "    print(key)"
   ]
  },
  {
   "cell_type": "code",
   "execution_count": 28,
   "id": "9c5bdfd7",
   "metadata": {},
   "outputs": [
    {
     "name": "stdout",
     "output_type": "stream",
     "text": [
      "The capital of HI is Honolulu\n",
      "The capital of New York is Albany\n",
      "The capital of California is Sacramento\n"
     ]
    }
   ],
   "source": [
    "some_dict = {\"HI\": \"Honolulu\", \"New York\": \"Albany\", \"California\": \"Sacramento\"}\n",
    "for key, val in some_dict.items():\n",
    "    print(f\"The capital of {key} is {val}\")"
   ]
  },
  {
   "cell_type": "markdown",
   "id": "ab04d06a",
   "metadata": {},
   "source": [
    "### Python Functions\n",
    "\n",
    "* Functions are created using the `def` keyword, followed by the function name, argument list, and a colon\n",
    "  * The colon indicates that the function body will be indented\n",
    "\n",
    "* A function can return a value using the `return` keyword\n",
    "\n",
    "* function can be invoked the same way as in other programming languages\n",
    "\n",
    "* Type information is not required in the function signature \n",
    "  * arg identifiers and any default values only\n",
    "  \n",
    "```\n",
    "def add_two(x, y):\n",
    "    val = x + y\n",
    "    Return val\n",
    "```"
   ]
  },
  {
   "cell_type": "code",
   "execution_count": 31,
   "id": "b5bd0b95",
   "metadata": {},
   "outputs": [],
   "source": [
    "def add_two(x, y):\n",
    "    val = x + y\n",
    "    return val\n",
    "\n"
   ]
  },
  {
   "cell_type": "code",
   "execution_count": 32,
   "id": "315007d6",
   "metadata": {},
   "outputs": [
    {
     "data": {
      "text/plain": [
       "4"
      ]
     },
     "execution_count": 32,
     "metadata": {},
     "output_type": "execute_result"
    }
   ],
   "source": [
    "add_two(1, 3)"
   ]
  },
  {
   "cell_type": "code",
   "execution_count": 33,
   "id": "21e1eb5e",
   "metadata": {},
   "outputs": [
    {
     "data": {
      "text/plain": [
       "300"
      ]
     },
     "execution_count": 33,
     "metadata": {},
     "output_type": "execute_result"
    }
   ],
   "source": [
    "add_two(100, 200)"
   ]
  },
  {
   "cell_type": "markdown",
   "id": "697a5a40",
   "metadata": {},
   "source": [
    "### Python Functions - Cont'd\n",
    "\n",
    "* While Python does not require argument types, it requires that functions implement logic for the object types they receive as input\n",
    "\n",
    "* e.g.: `add_two(x, y)` can also be applied to a list\n",
    "`add_two([1, 2], [3, 4])   # returns [1, 2, 3, 4]`\n",
    "\n",
    "* e.g.: `add_two({\"Honolulu\": \"HI\"}, {\"Boston\": \"MA\"})` generates an error since two dicts cannot be concatenated using `+` "
   ]
  },
  {
   "cell_type": "code",
   "execution_count": 34,
   "id": "55b82b12",
   "metadata": {},
   "outputs": [
    {
     "data": {
      "text/plain": [
       "[1, 2, 3, 4]"
      ]
     },
     "execution_count": 34,
     "metadata": {},
     "output_type": "execute_result"
    }
   ],
   "source": [
    "add_two([1, 2], [3, 4])"
   ]
  },
  {
   "cell_type": "code",
   "execution_count": 35,
   "id": "8a2e8961",
   "metadata": {},
   "outputs": [
    {
     "ename": "TypeError",
     "evalue": "unsupported operand type(s) for +: 'dict' and 'dict'",
     "output_type": "error",
     "traceback": [
      "\u001b[0;31m---------------------------------------------------------------------------\u001b[0m",
      "\u001b[0;31mTypeError\u001b[0m                                 Traceback (most recent call last)",
      "\u001b[0;32m/var/folders/wm/4mf96ttd0md8_3czt6nc1vbc0000gn/T/ipykernel_97483/754608112.py\u001b[0m in \u001b[0;36m<module>\u001b[0;34m\u001b[0m\n\u001b[1;32m      1\u001b[0m \u001b[0;31m# The following will generate an error\u001b[0m\u001b[0;34m\u001b[0m\u001b[0;34m\u001b[0m\u001b[0;34m\u001b[0m\u001b[0m\n\u001b[0;32m----> 2\u001b[0;31m \u001b[0madd_two\u001b[0m\u001b[0;34m(\u001b[0m\u001b[0;34m{\u001b[0m\u001b[0;34m\"Honolulu\"\u001b[0m\u001b[0;34m:\u001b[0m \u001b[0;34m\"HI\"\u001b[0m\u001b[0;34m}\u001b[0m\u001b[0;34m,\u001b[0m \u001b[0;34m{\u001b[0m\u001b[0;34m\"Boston\"\u001b[0m\u001b[0;34m:\u001b[0m \u001b[0;34m\"MA\"\u001b[0m\u001b[0;34m}\u001b[0m\u001b[0;34m)\u001b[0m\u001b[0;34m\u001b[0m\u001b[0;34m\u001b[0m\u001b[0m\n\u001b[0m",
      "\u001b[0;32m/var/folders/wm/4mf96ttd0md8_3czt6nc1vbc0000gn/T/ipykernel_97483/2929311980.py\u001b[0m in \u001b[0;36madd_two\u001b[0;34m(x, y)\u001b[0m\n\u001b[1;32m      1\u001b[0m \u001b[0;32mdef\u001b[0m \u001b[0madd_two\u001b[0m\u001b[0;34m(\u001b[0m\u001b[0mx\u001b[0m\u001b[0;34m,\u001b[0m \u001b[0my\u001b[0m\u001b[0;34m)\u001b[0m\u001b[0;34m:\u001b[0m\u001b[0;34m\u001b[0m\u001b[0;34m\u001b[0m\u001b[0m\n\u001b[0;32m----> 2\u001b[0;31m     \u001b[0mval\u001b[0m \u001b[0;34m=\u001b[0m \u001b[0mx\u001b[0m \u001b[0;34m+\u001b[0m \u001b[0my\u001b[0m\u001b[0;34m\u001b[0m\u001b[0;34m\u001b[0m\u001b[0m\n\u001b[0m\u001b[1;32m      3\u001b[0m     \u001b[0;32mreturn\u001b[0m \u001b[0mval\u001b[0m\u001b[0;34m\u001b[0m\u001b[0;34m\u001b[0m\u001b[0m\n\u001b[1;32m      4\u001b[0m \u001b[0;34m\u001b[0m\u001b[0m\n",
      "\u001b[0;31mTypeError\u001b[0m: unsupported operand type(s) for +: 'dict' and 'dict'"
     ]
    }
   ],
   "source": [
    "# The following will generate an error\n",
    "\n",
    "add_two({\"Honolulu\": \"HI\"}, {\"Boston\": \"MA\"})"
   ]
  },
  {
   "cell_type": "code",
   "execution_count": null,
   "id": "1a4a75d0",
   "metadata": {},
   "outputs": [],
   "source": []
  }
 ],
 "metadata": {
  "kernelspec": {
   "display_name": "Python 3 (ipykernel)",
   "language": "python",
   "name": "python3"
  },
  "language_info": {
   "codemirror_mode": {
    "name": "ipython",
    "version": 3
   },
   "file_extension": ".py",
   "mimetype": "text/x-python",
   "name": "python",
   "nbconvert_exporter": "python",
   "pygments_lexer": "ipython3",
   "version": "3.8.3"
  }
 },
 "nbformat": 4,
 "nbformat_minor": 5
}
