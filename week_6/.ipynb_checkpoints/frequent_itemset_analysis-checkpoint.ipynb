{
 "cells": [
  {
   "cell_type": "markdown",
   "id": "8374ce21",
   "metadata": {},
   "source": [
    "### Mining Frequent itemsets\n",
    "* Based on slides from the [Mining Massive Datasets](mmds.org)\n",
    "   * See link in the reference frames on the `miro` board\n",
    "\n",
    "* One of the earliest data mining applications\n",
    "* The Apriori Algorithm used in Mining Frequent Itemsets is one of the most cited algorithms\n",
    "* Initial applications: find unusual sets of items purchased together in supermarkets\n",
    "  * Used for shelf management, promotions, and cross-selling, stocking, etc.\n"
   ]
  },
  {
   "cell_type": "markdown",
   "id": "b9200961",
   "metadata": {},
   "source": [
    "### Supermarket shelf management – Market-basket model\n",
    "\n",
    "* Goal: Identify items that are bought together by sufficiently many customers\n",
    "    \n",
    "* Approach: Process the sales data collected with barcode scanners to find dependencies among items\n",
    "* A classic rule:\n",
    "  * If someone buys diapers and milk, then he/she is likely to buy beer\n"
   ]
  },
  {
   "cell_type": "markdown",
   "id": "e0e2c907",
   "metadata": {},
   "source": [
    "### The Co-Occurrence of Consumer Problems\n",
    "```\n",
    "Technological advances have drastically improved the ability for companies to collect, store, and track data on consumer behavior. As a consequence, many brands and big businesses are using massive data sets for data mining or market basket analysis. With these practices, companies are able to identify purchase patterns and relationships, such as commonly co-occurring purchases (e.g. “75% of consumers who purchase bread also purchase milk”). Knowing associated purchases subsequently allows marketers to better target consumers through direct messages or displaying certain items together. In fact, marketers already are acting upon this data, at some point we’ve all come across the “Shoppers who bought this item also bought…” while browsing products online.\n",
    "```\n",
    "https://www.forbes.com/sites/kurtcarlson/2015/02/05/the-co-occurrence-of-consumer-problems/?sh=33cba5cd2fac"
   ]
  },
  {
   "cell_type": "markdown",
   "id": "e4ba0cf9",
   "metadata": {},
   "source": [
    "### Newsworthy Applications\n",
    "\n",
    "* `How Target Figured Out A Teen Girl Was Pregnant Before Her Father Did`\n",
    "\n",
    "https://www.forbes.com/sites/kashmirhill/2012/02/16/how-target-figured-out-a-teen-girl-was-pregnant-before-her-father-did/?sh=72c7066f6668\n",
    "\n",
    "\n",
    "* Target assigns every customer a Guest ID number, tied to their credit card name, or email address \n",
    "  * A bucket that stores a history of everything they've bought \n",
    "  * Enriched with demographic info either bought or collected internally. \n",
    "\n",
    "* Customers buying lots of scent-free soap and extra-big bags of cotton balls, in addition to hand sanitizers and washcloths, frequently also buy diapers\n",
    "\n",
    "* the items can also be applied to items not bought at exactly the same time.\n",
    "    * Customers buying lots of scent-free soap and extra-big bags of cotton balls, in addition to hand sanitizers and washcloths frequently are probably getting ready and will buy diapers soon\n",
    "   * Similar to women buying supplements like calcium, magnesium, and zinc \n"
   ]
  },
  {
   "cell_type": "markdown",
   "id": "9b6e92c4",
   "metadata": {},
   "source": [
    "### The Market Basket Model\n",
    "\n",
    "* Data consisting of a *large set* of historical transaction logs \n",
    "  * Analysts should be aware of biases resulting from seasonality, holidays, etc.\n",
    "  * Itemsets identified during the Christmas holidays will most likely not extrapolate to other months\n",
    "\n",
    "* Item is simply a product purchased\n",
    "\n",
    "* Basket refers to what a client had in a shopping basket\n",
    "  * I.e., a transaction describing the set of products someone bought in one trip to the store\n",
    " \n",
    " \n",
    "![](https://www.dropbox.com/s/hky2v1glgcdoeht/baskets_items.png?dl=1)\n",
    "\n"
   ]
  },
  {
   "cell_type": "markdown",
   "id": "7fcb0703",
   "metadata": {},
   "source": [
    "### The Market Basket Model - Cont'd\n",
    "\n",
    "* We want to discover association rules\n",
    "\n",
    "* People who bought ${v, w, x}$ tend to buy ${y,z}$\n",
    "  * Naturally, this means that ${v, w, x, y, z}$ to co-occur in the same basket\n"
   ]
  },
  {
   "cell_type": "markdown",
   "id": "244844e7",
   "metadata": {},
   "source": [
    "### The Market Basket Model - Cont'd\n",
    "\n",
    "* Chain stores keep terabytes of data about what customers buy together\n",
    "\n",
    "* Better understand purchasing habits, and among other things:\n",
    "  * Suggests tie-in “tricks”, e.g., run sale on diapers and raise the price of beer\n",
    "  * Decide on stock levels, e.g., We should have as much milk as we have butter\n",
    "  * decide on product placement, e.g., for very strong associations, maybe put the product as far away as possible to entice the client to spend more time in the store and potentially buy more. \n",
    "  * Make product recommendations, e.g., Amazon’s people who bought $X$ also bought $Y$\n",
    "  * Discounts on products to gain customers, e.g., targeted discounts to attract expecting families to become shoppers \n"
   ]
  },
  {
   "cell_type": "markdown",
   "id": "0d9bbc2f",
   "metadata": {},
   "source": [
    "### Other Applications\n",
    "\n",
    "* Market basket analysis is not limited to its original intended application. \n",
    "* Extending data can lead to new applications.\n",
    "  * Enriching Taxonomies using `is-a` links\n",
    "  * Adding time components \n",
    "  * Deriving new features\n",
    "\n",
    "* Baskets = patients; Items = drugs and/or side-effects\n",
    "* Has been used to detect combinations of drugs that result in particular side-effects\n",
    "* But requires extension: Both the presence and absence of an item needs to be encoded\n",
    "\n",
    "* Baskets = set of all daily stock transactions on the stock exchange; Items = stock \n",
    "* Which stocks tend to express changes together\n",
    "  * Used to balance risk in a portfolio  \n",
    "  * (Use to be) a feature in Robinhood\n",
    "    \n",
    "* Market basket (or association rules mining) is widely applicable across a wide range of domains\n"
   ]
  },
  {
   "cell_type": "markdown",
   "id": "248b2cb8",
   "metadata": {},
   "source": [
    "### The Frequent ItemSet Problem: a Definition\n",
    "\n",
    "* Objective: Find sets of items that appear together “frequently” in baskets\n",
    "* What do we mean by frequently? \n",
    "  * Number of baskets containing all items in the identified set I\n",
    "    * This is called the `support` for item $I$ \n",
    "      * $support(I)$\n",
    "    * Expressed as a fraction or percentage of all the baskets\n",
    "* Given support threshold $s$\n",
    "    * The sets of items with support > $s$ are called frequent itemsets    "
   ]
  },
  {
   "cell_type": "markdown",
   "id": "f4d751f8",
   "metadata": {},
   "source": [
    "### Association Rules: a Definition (1)\n",
    "\n",
    "Association Rules is an If-then rule about the contents of baskets\n",
    "\n",
    "* If a basket contains all of $i_1, i_2, \\dots, i_k$ then it is likely to contain $j$.\n",
    "  * Written as $i_1, i_2, \\dots, i_k \\rightarrow j$  \n",
    "\n",
    "* In practice there are many rules; recall the evildoers' problem and its implication on spurious correlation in big data\n",
    " * We want to find significant associations\n"
   ]
  },
  {
   "cell_type": "markdown",
   "id": "2a652a2e",
   "metadata": {},
   "source": [
    "### Association Rules Confidence\n",
    "\n",
    "* Given $I$, the an itemset ${i_1, i_2, \\dots, i_k}$\n",
    "\n",
    "* The confidence of an association rule is the probability of $j$ given $I$\n",
    "\n",
    "$$\n",
    " Conf (I \\rightarrow j) = \\frac{support(I \\cup j)}{support(I)}\n",
    "$$\n",
    "\n",
    "* I.e. among all the baskets that contain item $I$, how many also contain $j$\n",
    "* Or, among all the baskets that contain item $I$, how many contain $I$ and $j$ together\n",
    "\n",
    "* This is not a reflexive function\n",
    "  * $ Conf (I \\rightarrow j) \\ne Conf (j \\rightarrow I) $\n",
    "  * diapers $\\righarrow$ beer does not imply beer $\\righarrow$ diapers\n",
    "    "
   ]
  },
  {
   "cell_type": "markdown",
   "id": "0f4c6089",
   "metadata": {},
   "source": [
    "### Interesting Associations\n",
    "\n",
    "* It goes without saying that we are also interested in interesting ones\n",
    "  * Milk is purchased very often, therefore, $X \\rightarrow milk$ may have high confidence for many itemsets $X$, \n",
    "    * Is it interesting?\n",
    "  * People who buy new charcoal BBQ also buy charcoal. Is this interesting?\n",
    "  * People who buy diapers also buy beer. Is this interesting?\n",
    "\n",
    "* Interest of an association rule $I \\rightarrow j$ is the difference between its confidence and the fraction of baskets that contain $j$\n",
    "\n",
    "$Interest(I \\rightarrow) j = conf(I \\rightarrow j) - Pr(j)$\n",
    "\n",
    "* Interesting rules are those with high positive or negative interest values (usually above 0.5)\n"
   ]
  },
  {
   "cell_type": "markdown",
   "id": "fb44882d",
   "metadata": {},
   "source": [
    "### Example\n",
    "\n",
    "<table>\n",
    "    <tr><td style=\"text-align:left;\">$B_1 = \\{m, b, c\\}$ </td><td style=\"text-align:left;\">$B_2 = \\{m, p, j\\} $</td></tr>\n",
    "    <tr><td style=\"text-align:left;\"> $B_3 = \\{m, b\\}$\t</td> <td style=\"text-align:left;\"> $B4= \\{c, j\\}$ </td></tr>\n",
    "    <tr><td style=\"text-align:left;\"> $B_5 = \\{m, p, b\\}$</td><td style=\"text-align:left;\"> $B6 = \\{m, c, b, j\\}$</td></tr>\n",
    "    <tr><td style=\"text-align:left;\"> $B_7 = \\{c, b, j\\}$</td><td style=\"text-align:left;\"> $B_8 = \\{b, c\\}$</td></tr>\n",
    "</table>\n",
    "\n",
    "* Association rule: $\\{m, b\\} \\rightarrow c$\n",
    "$$\n",
    "Confidence(\\{m, b\\} \\rightarrow c) = \\frac{\\{B_1, B_6 \\}}{\\{B_1, B_3, B_5, B_6 \\}} = \\frac{2}{4}= 0.5\n",
    "$$  \n",
    "\n",
    "$$\n",
    "Interest(\\{m, b\\} \\rightarrow c) = 0.5 - \\frac{5}{8} = 1/8\n",
    "$$  \n",
    "\n",
    "* The item $c$ is very frequent (5/8 transactions).\n",
    "* Therefore, the rule is not very interesting\n",
    "\t\t\t\n",
    "\t\t\t\n"
   ]
  },
  {
   "cell_type": "markdown",
   "id": "4b57bcb3",
   "metadata": {},
   "source": [
    "### Association Rules: a Definition (2)\n",
    "\n",
    "* Problem: Find all association rules such that \n",
    "  * $confidence(I \\rightarrow j) \\ge c$\n",
    "  * $support(I) \\ge s$\n",
    "\n",
    "* In a big data context, the computationally challenging part is finding the frequent itemsets\n",
    "  * This can be, in fact, challenging even with relatively small datasets.\n",
    "\n",
    "* Observation: if ${i_1, i_2, \\dots, i_k} \\rightarrow j$ has high support and confidence, then both {i_1, i_2,…, i_k} and {i_1, i_2 \\dots,i_k, j} will be “frequent”\n",
    "\n",
    "\n"
   ]
  },
  {
   "cell_type": "markdown",
   "id": "6129e475",
   "metadata": {},
   "source": [
    "### Lift\n",
    "\n",
    "* Another Commonly Used Statistic is the lift\n",
    "\n",
    "  * How much more like is this association compared to any combination of the same size we would find by chance?\n",
    "    \n",
    "* The denominator is all the occurrences of: <br>\n",
    "    $support(I) \\times support(J)$\n",
    "\n",
    "* The numerator is the support of the itemset: <br>\n",
    "    $support(I \\rightarrow j)$\n",
    "    \n",
    "$$\n",
    "lift(I \\rightarrow j) =  \\frac{support(I \\rightarrow j)}{support(I) \\times support(J)} = \\frac{confidence(I \\rightarrow j)}{support(j)}\n",
    "$$\n",
    "    "
   ]
  },
  {
   "cell_type": "markdown",
   "id": "4029c1ad",
   "metadata": {},
   "source": [
    "\n",
    "### Finding Frequent Itemsets\n",
    "\n",
    "* Find all frequent items $I$\n",
    "  * In the naive approach, there are $2^n -1$ subsets\n",
    "    * Clearly not tractable for as little as 40 items ($2^40$ = 1,099,511,627,775 possible subsets)\n",
    " \n",
    "* Many of the items in the list above will not have the desired support\n",
    "  * From the previous observation, the set containing those items will not have the desired observations\n",
    "\n",
    "* Therefore, rule out any elements without the desired support\n",
    "\n",
    "* Stores can often have thousands for products and millions of transaction\n",
    "  * Walmart has millions of SKU's\n",
    "  * Millions of transactions daily\n",
    "  \n",
    "\n",
    "  "
   ]
  },
  {
   "cell_type": "markdown",
   "id": "1e4fa40b",
   "metadata": {},
   "source": [
    "### Mining Association Rules\n",
    "\n",
    "* We can use the following two-step approach:\n",
    "\n",
    "1.  Find all items $I$ such that $support(I) > s_1$\n",
    "  * We assume, for now, that we have a way to generate this set.\n",
    "2. For every subset $A$ of $I$, generate a rule ${I - A} \\righarrow A$  \n",
    "  * The association rule is is acceptable if:\n",
    "    * $support({I - A}) = s_2 \\ge s$ \n",
    "    * $s_1/s_2 \\ge c$\n",
    "  \n",
    "\n"
   ]
  },
  {
   "cell_type": "markdown",
   "id": "f4fa6a1b",
   "metadata": {},
   "source": [
    "### A priori Algorithm\n",
    "\n",
    "\n",
    "* Uses the frequent itemsets to generate association rules\n",
    "  * a subset of frequent itemsets most alo be a frequent itemset\n",
    "\n",
    "* Iteratively Build itemsets achieve a minimum support values\n",
    "  * Start with itemsets of size 1\n",
    "  * The itemsets of size 2\n",
    "  * \\etc.\n",
    "    "
   ]
  },
  {
   "cell_type": "markdown",
   "id": "e871a6f3",
   "metadata": {},
   "source": [
    "### A priori Algorithm: Generating the Itemsets\n",
    "\n",
    "* Since baskets are typically small, we can generate all subset of a single basket:\n",
    "\n",
    "  * if $B_1 = \\{a,b,c\\}$ then $itemsets = \\{\\{a\\}, \\{b\\}, \\{c\\}, \\{a,b\\}, \\{a,c\\}, \\{b,c\\}\\}$\n",
    "\n",
    "* why not start with all itemsets of size 1 or 2? \n",
    "  * if a combination never occurs, then why include it.\n",
    "  * Starting with what's only observed in the baskets can lead to substantial speed ups.\n",
    "\n",
    "    \n",
    "* Starting with pairs can allow us to filter triplets or other larger sets\n",
    "  * if $support({i_1}) < s$ then $support({i_1}\\cup A) < s$ for any subset $A$\n",
    "  * this stage is called pruning\n",
    "\n",
    "* For every itemset with size > 2, use previous itemsets to prune current itemsets prior to computing support and confidence.\n",
    "\n",
    "\n",
    "\n",
    "  \n"
   ]
  },
  {
   "cell_type": "markdown",
   "id": "8a889cd3",
   "metadata": {},
   "source": [
    "### A priori Algorithm: Generating Subsets\n",
    "\n",
    "* For each frequent itemset, generate all the subsets\n",
    "  * ex.  $I= \\{m, b, c\\}$ generate subsets $S =\\{m, b\\}, \\{b, c\\}, \\{m, c\\}, \\{m\\}, \\{b\\}, \\{c\\}, $\n",
    "\n",
    "* Genete a rule $R$ such that:\n",
    "  $S \\rightarrow I-S$\n",
    "* Retain $R$ is $confidence(R) > r$\n",
    "\n",
    "\n",
    "\n",
    "  \n"
   ]
  },
  {
   "cell_type": "markdown",
   "id": "1a158b9c",
   "metadata": {},
   "source": [
    "### Implementation Details\n",
    "\n",
    "* Given a large number of items and long descriptions, items are  typically encoded as integers\n",
    "  ```{..., \"Mayonaise\":330, \"Milk\": 331, \"Mustard\": 333, ...}```\n",
    "  * For space sabing purposes, item are represented using  integers from 1 to $n$, where $n$ is the number of distinct items. \n",
    "* Items should be grouped into taxonomies\n",
    "  * Wikipedia: A taxonomy (or taxonomical classification) is a scheme of classification, especially a hierarchical classification, in which things are organized into groups or types. \n",
    "  * This is necessary to avoid missing rules such \n",
    "```\n",
    "Swiss Miss Milk Chocolate Flavor Hot Cocoa Mix, 41.4 Ounce (Pack of 8), Kraft Jet-Puffed Mini Marshmallows (Pack of 2) \n",
    "Nestle Hot Chocolate Packets, Milk Chocolate Flavor Hot Cocoa Mix, Bulk Pack (60 Count), 365 by Whole Foods Market, Marshmallow Large, 10 Ounce \n",
    "```\n",
    "\n",
    "Instead, encode the data as: \n",
    "```\n",
    "Hot Cocoa, Marshmallow\n",
    "Hot Cocoa, Marshmallow \n",
    "```\n",
    "\n"
   ]
  },
  {
   "cell_type": "markdown",
   "id": "5d6b25ed",
   "metadata": {},
   "source": [
    "### Implementation Details\n",
    "\n",
    "* Storing counts in RAM for frequent itemsets can be challenging\n",
    "  * It is not trivial to store $n \\choose 2$ -- we need space to store $n^2/2$ integers.\n",
    "     * if `int` takes 4 bytes, we need $2n^2$ bytes\n",
    "     * Upper triangular matrix\n",
    "  * For 200k items, we need 80,000,000,000 bytes $\\approx$ 75 GB\n",
    "\n",
    "* Note that most of those pairs will be null\n",
    "* * An idea when storing such data is to use triplet counting \n",
    "  * for pairs of items i and j, where $i < j$, store counts as\n",
    "\n",
    "```{(i,j) => c}```\n",
    "\n",
    "* scales to triplets:\n",
    "  * keys can be a tuple of any size.\n",
    "    \n",
    "* See numpy implemenation of sparse mtrices:\n",
    "https://docs.scipy.org/doc/scipy/reference/sparse.html"
   ]
  },
  {
   "cell_type": "code",
   "execution_count": null,
   "id": "fe9070f4",
   "metadata": {},
   "outputs": [],
   "source": [
    "### Newsworthy Applications Cont'd\n",
    "\n",
    "* The Diapers and Beers Legend\n",
    "  * Or is it? \n",
    "    \n",
    "* Beer and Diapers: The Impossible Correlation:\n",
    "https://tdwi.org/articles/2016/11/15/beer-and-diapers-impossible-correlation.aspx    \n",
    "\n",
    "* In a very large datasets, some item sets may be due to chance, cross-promotions or other unknowns\n",
    "\n",
    "* As emphasized during the first lecture, correlations and findings in big data are to be taken carefully"
   ]
  },
  {
   "cell_type": "markdown",
   "id": "4cadae35",
   "metadata": {},
   "source": [
    "### Remember!\n",
    "\n",
    "* This is not a causality but rather co-occurrence of\n",
    "  * Items are not directly linked\n",
    "     * Clear in the context or Market Basket but may be less so in other contexts\n",
    "\n",
    "* Multiple testing correction may be necessary\n",
    "  * We are testing thousands of rules, some may be correct due ot chance alone."
   ]
  },
  {
   "cell_type": "code",
   "execution_count": null,
   "id": "22dc9472",
   "metadata": {},
   "outputs": [],
   "source": []
  }
 ],
 "metadata": {
  "kernelspec": {
   "display_name": "Python 3 (ipykernel)",
   "language": "python",
   "name": "python3"
  },
  "language_info": {
   "codemirror_mode": {
    "name": "ipython",
    "version": 3
   },
   "file_extension": ".py",
   "mimetype": "text/x-python",
   "name": "python",
   "nbconvert_exporter": "python",
   "pygments_lexer": "ipython3",
   "version": "3.8.3"
  }
 },
 "nbformat": 4,
 "nbformat_minor": 5
}
