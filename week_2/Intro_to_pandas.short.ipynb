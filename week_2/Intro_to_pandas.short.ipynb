{
 "cells": [
  {
   "cell_type": "markdown",
   "metadata": {
    "slideshow": {
     "slide_type": "slide"
    }
   },
   "source": [
    "### Brief Introduction to `pandas`\n",
    "\n",
    "- `pandas` is the defacto package for working with tabular data.\n",
    "  - Think of it as `Excel` on steroids (without the graphical interface and the menus).\n",
    "- Supports a plethora of file formats (`Excel`, `CSV`, `TSV`, `JSON`, `hdf5`, ....)\n"
   ]
  },
  {
   "cell_type": "markdown",
   "metadata": {
    "slideshow": {
     "slide_type": "slide"
    }
   },
   "source": [
    "### Brief Introduction to Pandas - Cont'd\n",
    "\n",
    "![](https://www.dropbox.com/s/vi451zvf9sw8jfr/pandas_architecture.png?dl=1)\n"
   ]
  },
  {
   "cell_type": "markdown",
   "metadata": {
    "slideshow": {
     "slide_type": "slide"
    }
   },
   "source": [
    "### Pandas `Series` and `DataFrames`\n",
    "\n",
    "* Available with the Conda Jupyter installation.\n",
    "\n",
    "* `pandas` relies principally on two types of data structures:\n",
    "\n",
    "\n",
    "1. `Series`: those are list-like objects that store data in a given order.\n",
    "    * It helps to think of `Series` as a column (or row) in `Excel`.\n",
    "\n",
    "\n",
    "2. `DataFrames`: those are spreadsheet-like tables that contain one or more `Series`.\n",
    "    * It helps to think of `DataFrames` as tables (or spreadsheets) in `Excel`.\n",
    "\n"
   ]
  },
  {
   "cell_type": "markdown",
   "metadata": {
    "slideshow": {
     "slide_type": "slide"
    }
   },
   "source": [
    "### `Series`\n",
    "\n",
    "\n",
    "* `Series` is \"similar\" to a python `lists.`\n",
    "  * An ordered collection of items of the **same datatype**.  \n",
    "* `Series` contain an additional array of labels that are associated with each data entry.\n",
    "\n",
    "| first_name | last_name | age | salary | owns_house | nb_cars |\n",
    "|:---:|:---:|:---:|:---:|:---:|:---:|\n",
    "| John | Smith | 35 | 162,321 | Yes | 2 |\n",
    "\n"
   ]
  },
  {
   "cell_type": "markdown",
   "metadata": {
    "slideshow": {
     "slide_type": "slide"
    }
   },
   "source": [
    "### About the Data\n",
    "\n",
    "- The examples below use cost of drugs prescribed to Medicare patients.\n",
    "\n",
    "- The complete dataset is publicly available on the  Centers for Medicare & Medicaid Services ([`CMS` website](https://www.cms.gov/OpenPayments/Explore-the-Data/Dataset-Downloads.html)):\n",
    "\n",
    "- This toy dataset contains the following columns:\n",
    "\n",
    "| Column |Description|\n",
    "|:----------|-----------|\n",
    "| `unique_id`| A unique identifier for a Medicare claim to CMS |\n",
    "| `doctor_id` | The Unique Identifier of the doctor who <br/> prescribed the medicine  |\n",
    "| `specialty` | The specialty of the doctor prescribed the medicine |\n",
    "| `medication` | The medication prescribed |\n",
    "| `nb_beneficiaries` | The number of beneficiaries the <br/> medicine was prescribed to  |\n",
    "| `spending` | The total cost of the medicine prescribed <br/>for the CMS |\n"
   ]
  },
  {
   "cell_type": "markdown",
   "metadata": {
    "slideshow": {
     "slide_type": "slide"
    }
   },
   "source": [
    "<img src=\"https://www.dropbox.com/s/ha5s9t1n7yl0yx4/medicare_data.png?dl=1\" alt=\"drawing\" style=\"width:800px;\"/>\n"
   ]
  },
  {
   "cell_type": "markdown",
   "metadata": {
    "slideshow": {
     "slide_type": "slide"
    }
   },
   "source": [
    "### Example of Series as Rows and Columns\n",
    "\n",
    "* It helps to think of Pandas `series` as either a row (or a column) of an Excel spreadsheet\n",
    "\n",
    "<img src=\"https://www.dropbox.com/s/imt11t2xnw4f2d0/possible_series.png?dl=1\" alt=\"drawing\" style=\"width:500px;\"/>\n",
    "\n",
    "\n"
   ]
  },
  {
   "cell_type": "markdown",
   "metadata": {
    "slideshow": {
     "slide_type": "slide"
    }
   },
   "source": [
    "### Creating a `pandas` `Series`\n",
    "\n",
    "\n",
    "\n",
    "```python\n",
    "import pandas as pd\n",
    "```\n",
    "\n",
    "* To `create` a pandas `Series`, you can call the `Series` function and pass it a `list` of values and a `list` of labels (an `index`)\n",
    "\n",
    "```python\n",
    "\n",
    ">>> s =  pd.Series( data = [1234, 'DIAZEPAM', 3, '$32'],\n",
    "                            index= ['id', 'med', 'ben', 'spen'])\n",
    "\n",
    ">>> s\n",
    "doctor_id               1234\n",
    "medication          DIAZEPAM\n",
    "nb_beneficiaries           3\n",
    "spending                 $32\n",
    "dtype: object\n",
    "```\n"
   ]
  },
  {
   "cell_type": "code",
   "execution_count": 44,
   "metadata": {
    "slideshow": {
     "slide_type": "slide"
    }
   },
   "outputs": [
    {
     "data": {
      "text/plain": [
       "doctor_id               1234\n",
       "medication          DIAZEPAM\n",
       "nb_beneficiaries           3\n",
       "spending                 $32\n",
       "dtype: object"
      ]
     },
     "execution_count": 44,
     "metadata": {},
     "output_type": "execute_result"
    }
   ],
   "source": [
    "import pandas as pd\n",
    "s =  pd.Series(data= [1234, 'DIAZEPAM', 3, '$32'], index= ['doctor_id', 'medication', 'nb_beneficiaries', 'spending'])\n",
    "s"
   ]
  },
  {
   "cell_type": "markdown",
   "metadata": {
    "collapsed": true,
    "slideshow": {
     "slide_type": "slide"
    }
   },
   "source": [
    "### Indexing `Series`\n",
    "\n",
    "* You can access the data in `pandas` by index (position of the object) using the same approach seen in list indexing\n",
    "\n",
    "```python\n",
    ">>> s[1]\n",
    "'DIAZEPAM'\n",
    "\n",
    ">>> s[-1]\n",
    "'$32'\n",
    "```\n",
    "\n",
    "* You can also access a value in the array using the data index\n",
    "\n",
    "```python\n",
    ">>> s[\"medication\"]\n",
    "'DIAZEPAM'\n",
    "\n",
    "s[\"spending\"]\n",
    "'$32'\n",
    "```\n",
    "* Based on  the above, it is fair to think of a `Series` as a hybrid between lists an dictionaries"
   ]
  },
  {
   "cell_type": "code",
   "execution_count": 45,
   "metadata": {
    "slideshow": {
     "slide_type": "slide"
    }
   },
   "outputs": [
    {
     "name": "stdout",
     "output_type": "stream",
     "text": [
      "DIAZEPAM\n",
      "DIAZEPAM\n"
     ]
    }
   ],
   "source": [
    "print(s[1])\n",
    "print(s[\"medication\"])"
   ]
  },
  {
   "cell_type": "markdown",
   "metadata": {
    "collapsed": true,
    "slideshow": {
     "slide_type": "slide"
    }
   },
   "source": [
    "### Subsetting `Series`\n",
    "\n",
    "- As with lists, subsetting `Series` can be carried out using the range operator \":\"\n",
    "\n",
    "```python\n",
    ">>> s[0:3]\n",
    "doctor_id               1234\n",
    "medication          DIAZEPAM\n",
    "nb_beneficiaries           3\n",
    "dtype: object\n",
    "```"
   ]
  },
  {
   "cell_type": "markdown",
   "metadata": {
    "slideshow": {
     "slide_type": "slide"
    }
   },
   "source": [
    "### Subsetting `Series` - cont's\n",
    "\n",
    "- Subsetting `Series` can also be done with lists of indices\n",
    "\n",
    "```python\n",
    ">>> s[[0,2,1]]\n",
    "doctor_id               1234\n",
    "nb_beneficiaries           3\n",
    "medication          DIAZEPAM\n",
    "dtype: object\n",
    "```\n",
    "\n",
    "- Note that the line above contains two sets of square brackets `[[ ]]`, the first is the indexing operator, the second (inner) is the delimiter for the list.\n",
    "    "
   ]
  },
  {
   "cell_type": "code",
   "execution_count": 46,
   "metadata": {
    "slideshow": {
     "slide_type": "slide"
    }
   },
   "outputs": [
    {
     "data": {
      "text/plain": [
       "doctor_id               1234\n",
       "medication          DIAZEPAM\n",
       "nb_beneficiaries           3\n",
       "dtype: object"
      ]
     },
     "execution_count": 46,
     "metadata": {},
     "output_type": "execute_result"
    }
   ],
   "source": [
    "s[0:3]"
   ]
  },
  {
   "cell_type": "code",
   "execution_count": 47,
   "metadata": {
    "slideshow": {
     "slide_type": "slide"
    }
   },
   "outputs": [
    {
     "data": {
      "text/plain": [
       "doctor_id           1234\n",
       "nb_beneficiaries       3\n",
       "dtype: object"
      ]
     },
     "execution_count": 47,
     "metadata": {},
     "output_type": "execute_result"
    }
   ],
   "source": [
    "s[[0,2]]"
   ]
  },
  {
   "cell_type": "markdown",
   "metadata": {
    "collapsed": true,
    "slideshow": {
     "slide_type": "slide"
    }
   },
   "source": [
    "### Subsetting Series - Cont'd\n",
    "\n",
    "* Subsetting series can also be done using lists of labels\n",
    "\n",
    "```python\n",
    "\n",
    ">>> s[[\"doctor_id\", \"nb_beneficiaries\"]]\n",
    "doctor_id           1234\n",
    "nb_beneficiaries       3\n",
    "dtype: object\n",
    "```\n",
    "\n",
    "* Note that line above also contains two sets of square brackets `[[ ]]`, the first is the indexing operator, the second, inner, set is the delimiter for the list.\n",
    "    "
   ]
  },
  {
   "cell_type": "code",
   "execution_count": 48,
   "metadata": {
    "slideshow": {
     "slide_type": "slide"
    }
   },
   "outputs": [
    {
     "data": {
      "text/plain": [
       "doctor_id           1234\n",
       "nb_beneficiaries       3\n",
       "dtype: object"
      ]
     },
     "execution_count": 48,
     "metadata": {},
     "output_type": "execute_result"
    }
   ],
   "source": [
    "s[[\"doctor_id\", \"nb_beneficiaries\"]]"
   ]
  },
  {
   "cell_type": "markdown",
   "metadata": {
    "collapsed": true,
    "slideshow": {
     "slide_type": "slide"
    }
   },
   "source": [
    "### `DataFrames`\n",
    "\n",
    "* It helps to think to `DataFrames` are spreadsheet-like tables made of sets of ordered Series\n",
    "\n",
    "<img src=\"https://www.dropbox.com/s/cc6037l3lz0bc03/df_as_series.png?dl=1\" alt=\"drawing\" style=\"width:500px;\"/>\n",
    "\n",
    "* The example above illustrates a collection of column `Series` as a `DataFrame`, but the analogy holds for row `Series`"
   ]
  },
  {
   "cell_type": "markdown",
   "metadata": {
    "collapsed": true,
    "slideshow": {
     "slide_type": "slide"
    }
   },
   "source": [
    "### Reading a `DataFrame` From a File\n",
    "\n",
    "* A `DataFrame` can be created by reading data from a file\n",
    "\n",
    "  * `pandas` supports many input formats, including `Excel`, `CSV`, `TSV`, `SAS`, `STATA`, etc.\n",
    "\n",
    "* We can read the example tab-delimited (TSV) spending table using:\n",
    "    \n",
    "```python\n",
    ">>> spending_df  = pd.read_csv(\"data/spending.csv\")\n",
    "```\n",
    "\n",
    "* Jupyter beautifies `DataFrame`s by printing them  as `HTML` tables.\n",
    "\n",
    "  * Using `print` prints them as text instead. So try to print them by including the name as the last statement of the cell.\n",
    "  "
   ]
  },
  {
   "cell_type": "code",
   "execution_count": 2,
   "metadata": {
    "scrolled": true,
    "slideshow": {
     "slide_type": "slide"
    }
   },
   "outputs": [
    {
     "data": {
      "text/html": [
       "<div>\n",
       "<style scoped>\n",
       "    .dataframe tbody tr th:only-of-type {\n",
       "        vertical-align: middle;\n",
       "    }\n",
       "\n",
       "    .dataframe tbody tr th {\n",
       "        vertical-align: top;\n",
       "    }\n",
       "\n",
       "    .dataframe thead th {\n",
       "        text-align: right;\n",
       "    }\n",
       "</style>\n",
       "<table border=\"1\" class=\"dataframe\">\n",
       "  <thead>\n",
       "    <tr style=\"text-align: right;\">\n",
       "      <th></th>\n",
       "      <th>unique_id</th>\n",
       "      <th>doctor_id</th>\n",
       "      <th>specialty</th>\n",
       "      <th>medication</th>\n",
       "      <th>nb_beneficiaries</th>\n",
       "      <th>spending</th>\n",
       "    </tr>\n",
       "  </thead>\n",
       "  <tbody>\n",
       "    <tr>\n",
       "      <th>0</th>\n",
       "      <td>AB789982</td>\n",
       "      <td>1952310666</td>\n",
       "      <td>Psychiatry</td>\n",
       "      <td>CLONAZEPAM</td>\n",
       "      <td>226</td>\n",
       "      <td>$1,848.88</td>\n",
       "    </tr>\n",
       "    <tr>\n",
       "      <th>1</th>\n",
       "      <td>AV967778</td>\n",
       "      <td>1952310666</td>\n",
       "      <td>Psychiatry</td>\n",
       "      <td>DIAZEPAM</td>\n",
       "      <td>103</td>\n",
       "      <td>$662.87</td>\n",
       "    </tr>\n",
       "    <tr>\n",
       "      <th>2</th>\n",
       "      <td>CC128705</td>\n",
       "      <td>1298765423</td>\n",
       "      <td>Cardiology</td>\n",
       "      <td>NADOLOL</td>\n",
       "      <td>13</td>\n",
       "      <td>$1968.27</td>\n",
       "    </tr>\n",
       "    <tr>\n",
       "      <th>3</th>\n",
       "      <td>GH890091</td>\n",
       "      <td>1346358827</td>\n",
       "      <td>Family</td>\n",
       "      <td>HYDROCODONE</td>\n",
       "      <td>331</td>\n",
       "      <td>$8,511.14</td>\n",
       "    </tr>\n",
       "    <tr>\n",
       "      <th>4</th>\n",
       "      <td>YY219322</td>\n",
       "      <td>1548247315</td>\n",
       "      <td>Psychiatry</td>\n",
       "      <td>ALPRAZOLAM</td>\n",
       "      <td>28</td>\n",
       "      <td>$1,964.49</td>\n",
       "    </tr>\n",
       "    <tr>\n",
       "      <th>5</th>\n",
       "      <td>YY190561</td>\n",
       "      <td>1548247315</td>\n",
       "      <td>Psychiatry</td>\n",
       "      <td>GABAPENTIN</td>\n",
       "      <td>86</td>\n",
       "      <td>$1,807.16</td>\n",
       "    </tr>\n",
       "    <tr>\n",
       "      <th>6</th>\n",
       "      <td>YY572610</td>\n",
       "      <td>1548247315</td>\n",
       "      <td>Psychiatry</td>\n",
       "      <td>MIRTAZAPINE</td>\n",
       "      <td>191</td>\n",
       "      <td>$3,131.96</td>\n",
       "    </tr>\n",
       "    <tr>\n",
       "      <th>7</th>\n",
       "      <td>PL346720</td>\n",
       "      <td>1326175365</td>\n",
       "      <td>Family</td>\n",
       "      <td>OXYCODONE HCL</td>\n",
       "      <td>87</td>\n",
       "      <td>$12,881.04</td>\n",
       "    </tr>\n",
       "    <tr>\n",
       "      <th>8</th>\n",
       "      <td>GZ129032</td>\n",
       "      <td>1518970284</td>\n",
       "      <td>Hemato-oncology</td>\n",
       "      <td>DIGOXIN</td>\n",
       "      <td>54</td>\n",
       "      <td>$3,766.34</td>\n",
       "    </tr>\n",
       "  </tbody>\n",
       "</table>\n",
       "</div>"
      ],
      "text/plain": [
       "  unique_id   doctor_id        specialty     medication  nb_beneficiaries  \\\n",
       "0  AB789982  1952310666       Psychiatry     CLONAZEPAM               226   \n",
       "1  AV967778  1952310666       Psychiatry       DIAZEPAM               103   \n",
       "2  CC128705  1298765423       Cardiology        NADOLOL                13   \n",
       "3  GH890091  1346358827           Family    HYDROCODONE               331   \n",
       "4  YY219322  1548247315       Psychiatry     ALPRAZOLAM                28   \n",
       "5  YY190561  1548247315       Psychiatry     GABAPENTIN                86   \n",
       "6  YY572610  1548247315       Psychiatry    MIRTAZAPINE               191   \n",
       "7  PL346720  1326175365           Family  OXYCODONE HCL                87   \n",
       "8  GZ129032  1518970284  Hemato-oncology        DIGOXIN                54   \n",
       "\n",
       "     spending  \n",
       "0   $1,848.88  \n",
       "1     $662.87  \n",
       "2    $1968.27  \n",
       "3   $8,511.14  \n",
       "4   $1,964.49  \n",
       "5   $1,807.16  \n",
       "6   $3,131.96  \n",
       "7  $12,881.04  \n",
       "8   $3,766.34  "
      ]
     },
     "execution_count": 2,
     "metadata": {},
     "output_type": "execute_result"
    }
   ],
   "source": [
    "import pandas as pd \n",
    "spending_df  = pd.read_csv(\"https://www.dropbox.com/s/cgxt1qt5xzx9a3x/spending.csv?dl=1\")\n",
    "\n",
    "spending_df"
   ]
  },
  {
   "cell_type": "markdown",
   "metadata": {
    "slideshow": {
     "slide_type": "slide"
    }
   },
   "source": [
    "### Dimensions of the DataFrame \n",
    "\n",
    "* Some useful properties and methods of of the `DataFrame`\n",
    "\n",
    "  * `shape`: describes the number of lines and the number of columns in your `DataFrame`.\n",
    "  * `head(n=5)`: prints the first `n` lines of your `DataFrame`\n",
    "  * `tail(n=5)`: prints the last `n` lines of your `DataFrame`\n",
    "\n",
    "```"
   ]
  },
  {
   "cell_type": "code",
   "execution_count": 5,
   "metadata": {},
   "outputs": [
    {
     "data": {
      "text/html": [
       "<div>\n",
       "<style scoped>\n",
       "    .dataframe tbody tr th:only-of-type {\n",
       "        vertical-align: middle;\n",
       "    }\n",
       "\n",
       "    .dataframe tbody tr th {\n",
       "        vertical-align: top;\n",
       "    }\n",
       "\n",
       "    .dataframe thead th {\n",
       "        text-align: right;\n",
       "    }\n",
       "</style>\n",
       "<table border=\"1\" class=\"dataframe\">\n",
       "  <thead>\n",
       "    <tr style=\"text-align: right;\">\n",
       "      <th></th>\n",
       "      <th>unique_id</th>\n",
       "      <th>doctor_id</th>\n",
       "      <th>specialty</th>\n",
       "      <th>medication</th>\n",
       "      <th>nb_beneficiaries</th>\n",
       "      <th>spending</th>\n",
       "    </tr>\n",
       "  </thead>\n",
       "  <tbody>\n",
       "    <tr>\n",
       "      <th>0</th>\n",
       "      <td>AB789982</td>\n",
       "      <td>1952310666</td>\n",
       "      <td>Psychiatry</td>\n",
       "      <td>CLONAZEPAM</td>\n",
       "      <td>226</td>\n",
       "      <td>$1,848.88</td>\n",
       "    </tr>\n",
       "    <tr>\n",
       "      <th>1</th>\n",
       "      <td>AV967778</td>\n",
       "      <td>1952310666</td>\n",
       "      <td>Psychiatry</td>\n",
       "      <td>DIAZEPAM</td>\n",
       "      <td>103</td>\n",
       "      <td>$662.87</td>\n",
       "    </tr>\n",
       "  </tbody>\n",
       "</table>\n",
       "</div>"
      ],
      "text/plain": [
       "  unique_id   doctor_id   specialty  medication  nb_beneficiaries   spending\n",
       "0  AB789982  1952310666  Psychiatry  CLONAZEPAM               226  $1,848.88\n",
       "1  AV967778  1952310666  Psychiatry    DIAZEPAM               103    $662.87"
      ]
     },
     "execution_count": 5,
     "metadata": {},
     "output_type": "execute_result"
    }
   ],
   "source": [
    "spending_df.head(2)"
   ]
  },
  {
   "cell_type": "code",
   "execution_count": 6,
   "metadata": {},
   "outputs": [
    {
     "data": {
      "text/html": [
       "<div>\n",
       "<style scoped>\n",
       "    .dataframe tbody tr th:only-of-type {\n",
       "        vertical-align: middle;\n",
       "    }\n",
       "\n",
       "    .dataframe tbody tr th {\n",
       "        vertical-align: top;\n",
       "    }\n",
       "\n",
       "    .dataframe thead th {\n",
       "        text-align: right;\n",
       "    }\n",
       "</style>\n",
       "<table border=\"1\" class=\"dataframe\">\n",
       "  <thead>\n",
       "    <tr style=\"text-align: right;\">\n",
       "      <th></th>\n",
       "      <th>unique_id</th>\n",
       "      <th>doctor_id</th>\n",
       "      <th>specialty</th>\n",
       "      <th>medication</th>\n",
       "      <th>nb_beneficiaries</th>\n",
       "      <th>spending</th>\n",
       "    </tr>\n",
       "  </thead>\n",
       "  <tbody>\n",
       "    <tr>\n",
       "      <th>7</th>\n",
       "      <td>PL346720</td>\n",
       "      <td>1326175365</td>\n",
       "      <td>Family</td>\n",
       "      <td>OXYCODONE HCL</td>\n",
       "      <td>87</td>\n",
       "      <td>$12,881.04</td>\n",
       "    </tr>\n",
       "    <tr>\n",
       "      <th>8</th>\n",
       "      <td>GZ129032</td>\n",
       "      <td>1518970284</td>\n",
       "      <td>Hemato-oncology</td>\n",
       "      <td>DIGOXIN</td>\n",
       "      <td>54</td>\n",
       "      <td>$3,766.34</td>\n",
       "    </tr>\n",
       "  </tbody>\n",
       "</table>\n",
       "</div>"
      ],
      "text/plain": [
       "  unique_id   doctor_id        specialty     medication  nb_beneficiaries  \\\n",
       "7  PL346720  1326175365           Family  OXYCODONE HCL                87   \n",
       "8  GZ129032  1518970284  Hemato-oncology        DIGOXIN                54   \n",
       "\n",
       "     spending  \n",
       "7  $12,881.04  \n",
       "8   $3,766.34  "
      ]
     },
     "execution_count": 6,
     "metadata": {},
     "output_type": "execute_result"
    }
   ],
   "source": [
    "spending_df.tail(2)"
   ]
  },
  {
   "cell_type": "code",
   "execution_count": 51,
   "metadata": {},
   "outputs": [
    {
     "data": {
      "text/plain": [
       "(9, 6)"
      ]
     },
     "execution_count": 51,
     "metadata": {},
     "output_type": "execute_result"
    }
   ],
   "source": [
    "spending_df.shape"
   ]
  },
  {
   "cell_type": "markdown",
   "metadata": {
    "slideshow": {
     "slide_type": "slide"
    }
   },
   "source": [
    "### `DataFrame`, Indexes and Columns\n",
    "\n",
    "* As opposed to `Series` which only have indexes, `DataFrame`s have `Indexes` (labels and positions) and `Column` (labels and positions).\n",
    "\n",
    "  * In the example above, since a row label was not explicitly provided, the labels for the rows are the same as the indices, i.e., 0 through 8.\n",
    "\n",
    "\n",
    "* They can, therefore, be indexed by row index, row label, column index, column label, or by a combination of both\n",
    "\n",
    "\n",
    "<img src=\"https://www.dropbox.com/s/fi9elbiyaealjt3/df_index_cols.png?dl=1\" alt=\"drawing\" style=\"width:500px;\"/>\n"
   ]
  },
  {
   "cell_type": "code",
   "execution_count": 9,
   "metadata": {},
   "outputs": [
    {
     "data": {
      "text/plain": [
       "RangeIndex(start=0, stop=9, step=1)"
      ]
     },
     "execution_count": 9,
     "metadata": {},
     "output_type": "execute_result"
    }
   ],
   "source": [
    "spending_df.index"
   ]
  },
  {
   "cell_type": "markdown",
   "metadata": {
    "slideshow": {
     "slide_type": "slide"
    }
   },
   "source": [
    "### Index Location\n",
    "\n",
    "- Row indexing can be carried out by passing the `iloc` (index location) operator a single index or a list of indexes.\n",
    "\n",
    "  -  The `iloc` operator uses `[]` instead of the `()` that methods and functions use.\n",
    "\n",
    "\n",
    "```python    \n",
    ">>> spending_df.iloc[3]\n",
    "```\n",
    "\n",
    "or\n",
    "\n",
    "```python    \n",
    ">>> spending_df.iloc[[1,5]]\n",
    "```\n",
    "\n",
    "- When a single index is given, `pandas` returns a `Series`\n",
    "  - Remember that a row is merely a `Series`\n",
    "  \n",
    "- When a list of indices is given, `pandas` returns another `DataFrame` \n",
    "  - The returned `DataFrame` is a subset of the original\n",
    "  "
   ]
  },
  {
   "cell_type": "code",
   "execution_count": 52,
   "metadata": {
    "slideshow": {
     "slide_type": "slide"
    }
   },
   "outputs": [
    {
     "data": {
      "text/plain": [
       "unique_id              GH890091\n",
       "doctor_id            1346358827\n",
       "specialty                Family\n",
       "medication          HYDROCODONE\n",
       "nb_beneficiaries            331\n",
       "spending              $8,511.14\n",
       "Name: 3, dtype: object"
      ]
     },
     "execution_count": 52,
     "metadata": {},
     "output_type": "execute_result"
    }
   ],
   "source": [
    "# Returns row, or Series\n",
    "spending_df.iloc[3]"
   ]
  },
  {
   "cell_type": "code",
   "execution_count": 53,
   "metadata": {
    "slideshow": {
     "slide_type": "slide"
    }
   },
   "outputs": [
    {
     "data": {
      "text/html": [
       "<div>\n",
       "<style scoped>\n",
       "    .dataframe tbody tr th:only-of-type {\n",
       "        vertical-align: middle;\n",
       "    }\n",
       "\n",
       "    .dataframe tbody tr th {\n",
       "        vertical-align: top;\n",
       "    }\n",
       "\n",
       "    .dataframe thead th {\n",
       "        text-align: right;\n",
       "    }\n",
       "</style>\n",
       "<table border=\"1\" class=\"dataframe\">\n",
       "  <thead>\n",
       "    <tr style=\"text-align: right;\">\n",
       "      <th></th>\n",
       "      <th>unique_id</th>\n",
       "      <th>doctor_id</th>\n",
       "      <th>specialty</th>\n",
       "      <th>medication</th>\n",
       "      <th>nb_beneficiaries</th>\n",
       "      <th>spending</th>\n",
       "    </tr>\n",
       "  </thead>\n",
       "  <tbody>\n",
       "    <tr>\n",
       "      <th>1</th>\n",
       "      <td>AV967778</td>\n",
       "      <td>1952310666</td>\n",
       "      <td>Psychiatry</td>\n",
       "      <td>DIAZEPAM</td>\n",
       "      <td>103</td>\n",
       "      <td>$662.87</td>\n",
       "    </tr>\n",
       "    <tr>\n",
       "      <th>5</th>\n",
       "      <td>YY190561</td>\n",
       "      <td>1548247315</td>\n",
       "      <td>Psychiatry</td>\n",
       "      <td>GABAPENTIN</td>\n",
       "      <td>86</td>\n",
       "      <td>$1,807.16</td>\n",
       "    </tr>\n",
       "  </tbody>\n",
       "</table>\n",
       "</div>"
      ],
      "text/plain": [
       "  unique_id   doctor_id   specialty  medication  nb_beneficiaries   spending\n",
       "1  AV967778  1952310666  Psychiatry    DIAZEPAM               103    $662.87\n",
       "5  YY190561  1548247315  Psychiatry  GABAPENTIN                86  $1,807.16"
      ]
     },
     "execution_count": 53,
     "metadata": {},
     "output_type": "execute_result"
    }
   ],
   "source": [
    "# Returns two rows as a DataFrame\n",
    "\n",
    "spending_df.iloc[[1,5]]"
   ]
  },
  {
   "cell_type": "markdown",
   "metadata": {
    "slideshow": {
     "slide_type": "slide"
    }
   },
   "source": [
    "### Indexing by Rows and Column indexes \n",
    "\n",
    "* You can pass `iloc` a combination of row and column indexes using the following construct\n",
    "\n",
    "```python\n",
    " data_frame.iloc[ row_index_info, column_index_info]\n",
    "```\n",
    "* `row_index_info` and `column_index_info` can be either a single index or a list of indexes.\n"
   ]
  },
  {
   "cell_type": "markdown",
   "metadata": {
    "collapsed": true,
    "slideshow": {
     "slide_type": "slide"
    }
   },
   "source": [
    "Example:\n",
    "\n",
    "```python\n",
    ">>>  spending_df.iloc[3, 3]\n",
    "'HYDROCODONE'\n",
    "\n",
    ">> spending_df.iloc[2, [1,3]]\n",
    "doctor_id     1298765423\n",
    "medication       NADOLOL\n",
    "Name: 2, dtype: object\n",
    "\n",
    ">>>  spending_df.iloc[[2,4], [1,3]]\n",
    "```\n",
    "|  |      medication |   spending |\n",
    "|:--|:-----------------|:------------|\n",
    "|2 |   HYDROCODONE   | \\$8,511.14  |\n",
    "|4 | OXYCODONE HCL   | \\$12,881.04 |\n"
   ]
  },
  {
   "cell_type": "markdown",
   "metadata": {
    "slideshow": {
     "slide_type": "slide"
    }
   },
   "source": [
    "### Reading Tables with Index Labels\n",
    "\n",
    "*  Rather than using the default integer index label created by `pandas`, a `DataFrame` can be indexed using one or more columns of data.\n",
    "\n",
    "*  The index need not be an integer and can consist of any type.\n",
    "\n",
    "![](https://www.dropbox.com/s/qb62v2iov9frp38/default_index.png?dl=1)"
   ]
  },
  {
   "cell_type": "code",
   "execution_count": 10,
   "metadata": {},
   "outputs": [
    {
     "data": {
      "text/html": [
       "<div>\n",
       "<style scoped>\n",
       "    .dataframe tbody tr th:only-of-type {\n",
       "        vertical-align: middle;\n",
       "    }\n",
       "\n",
       "    .dataframe tbody tr th {\n",
       "        vertical-align: top;\n",
       "    }\n",
       "\n",
       "    .dataframe thead th {\n",
       "        text-align: right;\n",
       "    }\n",
       "</style>\n",
       "<table border=\"1\" class=\"dataframe\">\n",
       "  <thead>\n",
       "    <tr style=\"text-align: right;\">\n",
       "      <th></th>\n",
       "      <th>unique_id</th>\n",
       "      <th>doctor_id</th>\n",
       "      <th>specialty</th>\n",
       "      <th>medication</th>\n",
       "      <th>nb_beneficiaries</th>\n",
       "      <th>spending</th>\n",
       "    </tr>\n",
       "  </thead>\n",
       "  <tbody>\n",
       "    <tr>\n",
       "      <th>0</th>\n",
       "      <td>AB789982</td>\n",
       "      <td>1952310666</td>\n",
       "      <td>Psychiatry</td>\n",
       "      <td>CLONAZEPAM</td>\n",
       "      <td>226</td>\n",
       "      <td>$1,848.88</td>\n",
       "    </tr>\n",
       "    <tr>\n",
       "      <th>1</th>\n",
       "      <td>AV967778</td>\n",
       "      <td>1952310666</td>\n",
       "      <td>Psychiatry</td>\n",
       "      <td>DIAZEPAM</td>\n",
       "      <td>103</td>\n",
       "      <td>$662.87</td>\n",
       "    </tr>\n",
       "    <tr>\n",
       "      <th>2</th>\n",
       "      <td>CC128705</td>\n",
       "      <td>1298765423</td>\n",
       "      <td>Cardiology</td>\n",
       "      <td>NADOLOL</td>\n",
       "      <td>13</td>\n",
       "      <td>$1968.27</td>\n",
       "    </tr>\n",
       "    <tr>\n",
       "      <th>3</th>\n",
       "      <td>GH890091</td>\n",
       "      <td>1346358827</td>\n",
       "      <td>Family</td>\n",
       "      <td>HYDROCODONE</td>\n",
       "      <td>331</td>\n",
       "      <td>$8,511.14</td>\n",
       "    </tr>\n",
       "    <tr>\n",
       "      <th>4</th>\n",
       "      <td>YY219322</td>\n",
       "      <td>1548247315</td>\n",
       "      <td>Psychiatry</td>\n",
       "      <td>ALPRAZOLAM</td>\n",
       "      <td>28</td>\n",
       "      <td>$1,964.49</td>\n",
       "    </tr>\n",
       "  </tbody>\n",
       "</table>\n",
       "</div>"
      ],
      "text/plain": [
       "  unique_id   doctor_id   specialty   medication  nb_beneficiaries   spending\n",
       "0  AB789982  1952310666  Psychiatry   CLONAZEPAM               226  $1,848.88\n",
       "1  AV967778  1952310666  Psychiatry     DIAZEPAM               103    $662.87\n",
       "2  CC128705  1298765423  Cardiology      NADOLOL                13   $1968.27\n",
       "3  GH890091  1346358827      Family  HYDROCODONE               331  $8,511.14\n",
       "4  YY219322  1548247315  Psychiatry   ALPRAZOLAM                28  $1,964.49"
      ]
     },
     "execution_count": 10,
     "metadata": {},
     "output_type": "execute_result"
    }
   ],
   "source": [
    "spending_df.head()\n"
   ]
  },
  {
   "cell_type": "markdown",
   "metadata": {
    "slideshow": {
     "slide_type": "slide"
    }
   },
   "source": [
    "### Specifying and Index Labels\n",
    "\n",
    "* We can use any column of the data to label the indexes by passing the label of the column you want to use to `pandas` `read_csv()` function.\n",
    "  - For example, we can use the `unique_id` column as index labels \n",
    "\n",
    "```python\n",
    "spending_df  = pd.read_csv( \"data/spending.csv\", \n",
    "                                  index_col=[\"unique_id\"] )\n",
    "```\n",
    "\n",
    "<img src=\"https://www.dropbox.com/s/wmixxjn6dol14b6/custom_index.png?dl=1\" alt=\"drawing\" style=\"width:600px;\"/>\n",
    "\n"
   ]
  },
  {
   "cell_type": "code",
   "execution_count": 11,
   "metadata": {
    "slideshow": {
     "slide_type": "slide"
    }
   },
   "outputs": [
    {
     "data": {
      "text/html": [
       "<div>\n",
       "<style scoped>\n",
       "    .dataframe tbody tr th:only-of-type {\n",
       "        vertical-align: middle;\n",
       "    }\n",
       "\n",
       "    .dataframe tbody tr th {\n",
       "        vertical-align: top;\n",
       "    }\n",
       "\n",
       "    .dataframe thead th {\n",
       "        text-align: right;\n",
       "    }\n",
       "</style>\n",
       "<table border=\"1\" class=\"dataframe\">\n",
       "  <thead>\n",
       "    <tr style=\"text-align: right;\">\n",
       "      <th></th>\n",
       "      <th>doctor_id</th>\n",
       "      <th>specialty</th>\n",
       "      <th>medication</th>\n",
       "      <th>nb_beneficiaries</th>\n",
       "      <th>spending</th>\n",
       "    </tr>\n",
       "    <tr>\n",
       "      <th>unique_id</th>\n",
       "      <th></th>\n",
       "      <th></th>\n",
       "      <th></th>\n",
       "      <th></th>\n",
       "      <th></th>\n",
       "    </tr>\n",
       "  </thead>\n",
       "  <tbody>\n",
       "    <tr>\n",
       "      <th>AB789982</th>\n",
       "      <td>1952310666</td>\n",
       "      <td>Psychiatry</td>\n",
       "      <td>CLONAZEPAM</td>\n",
       "      <td>226</td>\n",
       "      <td>$1,848.88</td>\n",
       "    </tr>\n",
       "    <tr>\n",
       "      <th>AV967778</th>\n",
       "      <td>1952310666</td>\n",
       "      <td>Psychiatry</td>\n",
       "      <td>DIAZEPAM</td>\n",
       "      <td>103</td>\n",
       "      <td>$662.87</td>\n",
       "    </tr>\n",
       "    <tr>\n",
       "      <th>CC128705</th>\n",
       "      <td>1298765423</td>\n",
       "      <td>Cardiology</td>\n",
       "      <td>NADOLOL</td>\n",
       "      <td>13</td>\n",
       "      <td>$1968.27</td>\n",
       "    </tr>\n",
       "    <tr>\n",
       "      <th>GH890091</th>\n",
       "      <td>1346358827</td>\n",
       "      <td>Family</td>\n",
       "      <td>HYDROCODONE</td>\n",
       "      <td>331</td>\n",
       "      <td>$8,511.14</td>\n",
       "    </tr>\n",
       "    <tr>\n",
       "      <th>YY219322</th>\n",
       "      <td>1548247315</td>\n",
       "      <td>Psychiatry</td>\n",
       "      <td>ALPRAZOLAM</td>\n",
       "      <td>28</td>\n",
       "      <td>$1,964.49</td>\n",
       "    </tr>\n",
       "  </tbody>\n",
       "</table>\n",
       "</div>"
      ],
      "text/plain": [
       "            doctor_id   specialty   medication  nb_beneficiaries   spending\n",
       "unique_id                                                                  \n",
       "AB789982   1952310666  Psychiatry   CLONAZEPAM               226  $1,848.88\n",
       "AV967778   1952310666  Psychiatry     DIAZEPAM               103    $662.87\n",
       "CC128705   1298765423  Cardiology      NADOLOL                13   $1968.27\n",
       "GH890091   1346358827      Family  HYDROCODONE               331  $8,511.14\n",
       "YY219322   1548247315  Psychiatry   ALPRAZOLAM                28  $1,964.49"
      ]
     },
     "execution_count": 11,
     "metadata": {},
     "output_type": "execute_result"
    }
   ],
   "source": [
    "\n",
    "spending_df  = pd.read_csv( \"https://www.dropbox.com/s/cgxt1qt5xzx9a3x/spending.csv?dl=1\", \n",
    "                                  index_col=[\"unique_id\"] )\n",
    "\n",
    "# after specifying the index column\n",
    "# note that index is now unique_id\n",
    "\n",
    "spending_df.head()"
   ]
  },
  {
   "cell_type": "markdown",
   "metadata": {
    "collapsed": true,
    "slideshow": {
     "slide_type": "slide"
    }
   },
   "source": [
    "### Indexing DataFrames Columns using Labels\n",
    "\n",
    "* Accessing data in the `DataFrame` can also be done using indexes or column label.\n",
    "\n",
    "\n",
    "* Indexing a column takes a column's label or a list of index labels\n",
    "\n",
    "```python\n",
    "spending_df[\"nb_beneficiaries\"]\n",
    "```\n",
    "or \n",
    "```python\n",
    "spending_df[[\"doctor_id\", \"nb_beneficiaries\"]]\n",
    "```\n",
    "\n"
   ]
  },
  {
   "cell_type": "code",
   "execution_count": 55,
   "metadata": {},
   "outputs": [
    {
     "data": {
      "text/html": [
       "<div>\n",
       "<style scoped>\n",
       "    .dataframe tbody tr th:only-of-type {\n",
       "        vertical-align: middle;\n",
       "    }\n",
       "\n",
       "    .dataframe tbody tr th {\n",
       "        vertical-align: top;\n",
       "    }\n",
       "\n",
       "    .dataframe thead th {\n",
       "        text-align: right;\n",
       "    }\n",
       "</style>\n",
       "<table border=\"1\" class=\"dataframe\">\n",
       "  <thead>\n",
       "    <tr style=\"text-align: right;\">\n",
       "      <th></th>\n",
       "      <th>doctor_id</th>\n",
       "      <th>nb_beneficiaries</th>\n",
       "    </tr>\n",
       "    <tr>\n",
       "      <th>unique_id</th>\n",
       "      <th></th>\n",
       "      <th></th>\n",
       "    </tr>\n",
       "  </thead>\n",
       "  <tbody>\n",
       "    <tr>\n",
       "      <th>AB789982</th>\n",
       "      <td>1952310666</td>\n",
       "      <td>226</td>\n",
       "    </tr>\n",
       "    <tr>\n",
       "      <th>AV967778</th>\n",
       "      <td>1952310666</td>\n",
       "      <td>103</td>\n",
       "    </tr>\n",
       "    <tr>\n",
       "      <th>CC128705</th>\n",
       "      <td>1298765423</td>\n",
       "      <td>13</td>\n",
       "    </tr>\n",
       "    <tr>\n",
       "      <th>GH890091</th>\n",
       "      <td>1346358827</td>\n",
       "      <td>331</td>\n",
       "    </tr>\n",
       "    <tr>\n",
       "      <th>YY219322</th>\n",
       "      <td>1548247315</td>\n",
       "      <td>28</td>\n",
       "    </tr>\n",
       "    <tr>\n",
       "      <th>YY190561</th>\n",
       "      <td>1548247315</td>\n",
       "      <td>86</td>\n",
       "    </tr>\n",
       "    <tr>\n",
       "      <th>YY572610</th>\n",
       "      <td>1548247315</td>\n",
       "      <td>191</td>\n",
       "    </tr>\n",
       "    <tr>\n",
       "      <th>PL346720</th>\n",
       "      <td>1326175365</td>\n",
       "      <td>87</td>\n",
       "    </tr>\n",
       "    <tr>\n",
       "      <th>GZ129032</th>\n",
       "      <td>1518970284</td>\n",
       "      <td>54</td>\n",
       "    </tr>\n",
       "  </tbody>\n",
       "</table>\n",
       "</div>"
      ],
      "text/plain": [
       "            doctor_id  nb_beneficiaries\n",
       "unique_id                              \n",
       "AB789982   1952310666               226\n",
       "AV967778   1952310666               103\n",
       "CC128705   1298765423                13\n",
       "GH890091   1346358827               331\n",
       "YY219322   1548247315                28\n",
       "YY190561   1548247315                86\n",
       "YY572610   1548247315               191\n",
       "PL346720   1326175365                87\n",
       "GZ129032   1518970284                54"
      ]
     },
     "execution_count": 55,
     "metadata": {},
     "output_type": "execute_result"
    }
   ],
   "source": [
    "spending_df[[\"doctor_id\", \"nb_beneficiaries\"]]"
   ]
  },
  {
   "cell_type": "markdown",
   "metadata": {
    "slideshow": {
     "slide_type": "slide"
    }
   },
   "source": [
    "### Indexing DataFrames Columns using Labels - Cont'd\n",
    "* When, a single label is given, `pandas` returns a `Series`\n",
    "  * Remember that a column is simply a `Series`\n",
    "  \n",
    "  \n",
    "* When, a list of labels is given, `pandas` returns another `DataFrame` \n",
    "\n",
    "  * The returned `DataFrame` is a subset of the original"
   ]
  },
  {
   "cell_type": "code",
   "execution_count": 56,
   "metadata": {
    "slideshow": {
     "slide_type": "slide"
    }
   },
   "outputs": [
    {
     "data": {
      "text/plain": [
       "unique_id\n",
       "AB789982    226\n",
       "AV967778    103\n",
       "CC128705     13\n",
       "GH890091    331\n",
       "YY219322     28\n",
       "YY190561     86\n",
       "YY572610    191\n",
       "PL346720     87\n",
       "GZ129032     54\n",
       "Name: nb_beneficiaries, dtype: int64"
      ]
     },
     "execution_count": 56,
     "metadata": {},
     "output_type": "execute_result"
    }
   ],
   "source": [
    "spending_df[\"nb_beneficiaries\"]"
   ]
  },
  {
   "cell_type": "code",
   "execution_count": 57,
   "metadata": {
    "slideshow": {
     "slide_type": "slide"
    }
   },
   "outputs": [
    {
     "data": {
      "text/html": [
       "<div>\n",
       "<style scoped>\n",
       "    .dataframe tbody tr th:only-of-type {\n",
       "        vertical-align: middle;\n",
       "    }\n",
       "\n",
       "    .dataframe tbody tr th {\n",
       "        vertical-align: top;\n",
       "    }\n",
       "\n",
       "    .dataframe thead th {\n",
       "        text-align: right;\n",
       "    }\n",
       "</style>\n",
       "<table border=\"1\" class=\"dataframe\">\n",
       "  <thead>\n",
       "    <tr style=\"text-align: right;\">\n",
       "      <th></th>\n",
       "      <th>doctor_id</th>\n",
       "      <th>nb_beneficiaries</th>\n",
       "    </tr>\n",
       "    <tr>\n",
       "      <th>unique_id</th>\n",
       "      <th></th>\n",
       "      <th></th>\n",
       "    </tr>\n",
       "  </thead>\n",
       "  <tbody>\n",
       "    <tr>\n",
       "      <th>AB789982</th>\n",
       "      <td>1952310666</td>\n",
       "      <td>226</td>\n",
       "    </tr>\n",
       "    <tr>\n",
       "      <th>AV967778</th>\n",
       "      <td>1952310666</td>\n",
       "      <td>103</td>\n",
       "    </tr>\n",
       "    <tr>\n",
       "      <th>CC128705</th>\n",
       "      <td>1298765423</td>\n",
       "      <td>13</td>\n",
       "    </tr>\n",
       "    <tr>\n",
       "      <th>GH890091</th>\n",
       "      <td>1346358827</td>\n",
       "      <td>331</td>\n",
       "    </tr>\n",
       "    <tr>\n",
       "      <th>YY219322</th>\n",
       "      <td>1548247315</td>\n",
       "      <td>28</td>\n",
       "    </tr>\n",
       "    <tr>\n",
       "      <th>YY190561</th>\n",
       "      <td>1548247315</td>\n",
       "      <td>86</td>\n",
       "    </tr>\n",
       "    <tr>\n",
       "      <th>YY572610</th>\n",
       "      <td>1548247315</td>\n",
       "      <td>191</td>\n",
       "    </tr>\n",
       "    <tr>\n",
       "      <th>PL346720</th>\n",
       "      <td>1326175365</td>\n",
       "      <td>87</td>\n",
       "    </tr>\n",
       "    <tr>\n",
       "      <th>GZ129032</th>\n",
       "      <td>1518970284</td>\n",
       "      <td>54</td>\n",
       "    </tr>\n",
       "  </tbody>\n",
       "</table>\n",
       "</div>"
      ],
      "text/plain": [
       "            doctor_id  nb_beneficiaries\n",
       "unique_id                              \n",
       "AB789982   1952310666               226\n",
       "AV967778   1952310666               103\n",
       "CC128705   1298765423                13\n",
       "GH890091   1346358827               331\n",
       "YY219322   1548247315                28\n",
       "YY190561   1548247315                86\n",
       "YY572610   1548247315               191\n",
       "PL346720   1326175365                87\n",
       "GZ129032   1518970284                54"
      ]
     },
     "execution_count": 57,
     "metadata": {},
     "output_type": "execute_result"
    }
   ],
   "source": [
    "spending_df[[\"doctor_id\", \"nb_beneficiaries\"]]"
   ]
  },
  {
   "cell_type": "markdown",
   "metadata": {
    "slideshow": {
     "slide_type": "slide"
    }
   },
   "source": [
    "### Indexing `DataFrames` Rows Using Labels\n",
    "\n",
    "* Use `loc` (location) operator to index a row using a label\n",
    "\n",
    "\n",
    "  -  The `loc` operator uses `[]` instead of the `()` that methods and functions use.\n",
    " \n",
    "*  `loc` can take a single label or a list of labels \n",
    "\n",
    "```python    \n",
    "spending_df.loc[\"AV967778\"]\n",
    "```\n",
    "\n",
    "or\n",
    "\n",
    "```python    \n",
    "spending_df.loc[[\"AV967778\",\"YY219322\"]]\n",
    "```\n"
   ]
  },
  {
   "cell_type": "code",
   "execution_count": 14,
   "metadata": {},
   "outputs": [
    {
     "data": {
      "text/html": [
       "<div>\n",
       "<style scoped>\n",
       "    .dataframe tbody tr th:only-of-type {\n",
       "        vertical-align: middle;\n",
       "    }\n",
       "\n",
       "    .dataframe tbody tr th {\n",
       "        vertical-align: top;\n",
       "    }\n",
       "\n",
       "    .dataframe thead th {\n",
       "        text-align: right;\n",
       "    }\n",
       "</style>\n",
       "<table border=\"1\" class=\"dataframe\">\n",
       "  <thead>\n",
       "    <tr style=\"text-align: right;\">\n",
       "      <th></th>\n",
       "      <th>nb_beneficiaries</th>\n",
       "      <th>specialty</th>\n",
       "    </tr>\n",
       "    <tr>\n",
       "      <th>unique_id</th>\n",
       "      <th></th>\n",
       "      <th></th>\n",
       "    </tr>\n",
       "  </thead>\n",
       "  <tbody>\n",
       "    <tr>\n",
       "      <th>AV967778</th>\n",
       "      <td>103</td>\n",
       "      <td>Psychiatry</td>\n",
       "    </tr>\n",
       "    <tr>\n",
       "      <th>YY219322</th>\n",
       "      <td>28</td>\n",
       "      <td>Psychiatry</td>\n",
       "    </tr>\n",
       "  </tbody>\n",
       "</table>\n",
       "</div>"
      ],
      "text/plain": [
       "           nb_beneficiaries   specialty\n",
       "unique_id                              \n",
       "AV967778                103  Psychiatry\n",
       "YY219322                 28  Psychiatry"
      ]
     },
     "execution_count": 14,
     "metadata": {},
     "output_type": "execute_result"
    }
   ],
   "source": [
    "spending_df.loc[[\"AV967778\", \"YY219322\"], [\"nb_beneficiaries\", \"specialty\"]]"
   ]
  },
  {
   "cell_type": "markdown",
   "metadata": {
    "slideshow": {
     "slide_type": "slide"
    }
   },
   "source": [
    "### Indexing `DataFrames` Rows Using Labels - cont'd\n",
    "\n",
    "* When a single index is given, `pandas` returns a `Series`.\n",
    "  - Remember that a row is simply a `Series`.\n",
    "  \n",
    "* When a list of indices is given, `pandas` returns another `DataFrame`\n",
    "  - The returned `DataFrame` is a subset of the original"
   ]
  },
  {
   "cell_type": "code",
   "execution_count": 58,
   "metadata": {
    "slideshow": {
     "slide_type": "slide"
    }
   },
   "outputs": [
    {
     "data": {
      "text/plain": [
       "doctor_id           1952310666\n",
       "specialty           Psychiatry\n",
       "medication            DIAZEPAM\n",
       "nb_beneficiaries           103\n",
       "spending               $662.87\n",
       "Name: AV967778, dtype: object"
      ]
     },
     "execution_count": 58,
     "metadata": {},
     "output_type": "execute_result"
    }
   ],
   "source": [
    "spending_df.loc[\"AV967778\"]"
   ]
  },
  {
   "cell_type": "code",
   "execution_count": 59,
   "metadata": {
    "slideshow": {
     "slide_type": "slide"
    }
   },
   "outputs": [
    {
     "data": {
      "text/html": [
       "<div>\n",
       "<style scoped>\n",
       "    .dataframe tbody tr th:only-of-type {\n",
       "        vertical-align: middle;\n",
       "    }\n",
       "\n",
       "    .dataframe tbody tr th {\n",
       "        vertical-align: top;\n",
       "    }\n",
       "\n",
       "    .dataframe thead th {\n",
       "        text-align: right;\n",
       "    }\n",
       "</style>\n",
       "<table border=\"1\" class=\"dataframe\">\n",
       "  <thead>\n",
       "    <tr style=\"text-align: right;\">\n",
       "      <th></th>\n",
       "      <th>doctor_id</th>\n",
       "      <th>specialty</th>\n",
       "      <th>medication</th>\n",
       "      <th>nb_beneficiaries</th>\n",
       "      <th>spending</th>\n",
       "    </tr>\n",
       "    <tr>\n",
       "      <th>unique_id</th>\n",
       "      <th></th>\n",
       "      <th></th>\n",
       "      <th></th>\n",
       "      <th></th>\n",
       "      <th></th>\n",
       "    </tr>\n",
       "  </thead>\n",
       "  <tbody>\n",
       "    <tr>\n",
       "      <th>AV967778</th>\n",
       "      <td>1952310666</td>\n",
       "      <td>Psychiatry</td>\n",
       "      <td>DIAZEPAM</td>\n",
       "      <td>103</td>\n",
       "      <td>$662.87</td>\n",
       "    </tr>\n",
       "    <tr>\n",
       "      <th>YY219322</th>\n",
       "      <td>1548247315</td>\n",
       "      <td>Psychiatry</td>\n",
       "      <td>ALPRAZOLAM</td>\n",
       "      <td>28</td>\n",
       "      <td>$1,964.49</td>\n",
       "    </tr>\n",
       "  </tbody>\n",
       "</table>\n",
       "</div>"
      ],
      "text/plain": [
       "            doctor_id   specialty  medication  nb_beneficiaries   spending\n",
       "unique_id                                                                 \n",
       "AV967778   1952310666  Psychiatry    DIAZEPAM               103    $662.87\n",
       "YY219322   1548247315  Psychiatry  ALPRAZOLAM                28  $1,964.49"
      ]
     },
     "execution_count": 59,
     "metadata": {},
     "output_type": "execute_result"
    }
   ],
   "source": [
    "spending_df.loc[[\"AV967778\",\"YY219322\"]]"
   ]
  },
  {
   "cell_type": "markdown",
   "metadata": {
    "slideshow": {
     "slide_type": "slide"
    }
   },
   "source": [
    "\n",
    "##### Indexing review:\n",
    "\n",
    "| Syntax                |   Meaning    |\n",
    "|:--------------------------|:-------------------|\n",
    "| `dataframe[\"col_name\"]`    |  Return `Series` of \"col_name\"'s  |\n",
    "| `dataframe[[\"col_name_1\", \"col_name_2\"] ]`    |  Returns `DataFrame` with  \"col_name_1\" and \"col_name_2\"|\n",
    "| `dataframe.loc[\"label\"]`| returns entry indexed by \"some_label\" |\n",
    "| `dataframe.loc[\"label\", [\"col_3\", 'col_5']]`| return entry indexed by \"some_label\", subsets columns to only \"col_3\" and \"col_5\" |\n",
    "| `dataframe.loc[[\"label_1\", \"label_2\"], ['col_3', 'col_5']]`| returns lines with indices \"label_1\" and \"label\", subsets columns to only \"col_3\" and \"col_5\" |\n",
    "| `dataframe.iloc[23, [0, 1]]`| returns line 23, and only values of columns 0 and 1 |\n",
    "| `dataframe.iloc[[1,2], [0, 1]]`| returns lines 1 and 2, and only values of columns 0 and 1 |\n"
   ]
  },
  {
   "cell_type": "code",
   "execution_count": 17,
   "metadata": {},
   "outputs": [
    {
     "data": {
      "text/plain": [
       "unique_id\n",
       "AB789982         Psychiatry\n",
       "AV967778         Psychiatry\n",
       "CC128705         Cardiology\n",
       "GH890091             Family\n",
       "YY219322         Psychiatry\n",
       "YY190561         Psychiatry\n",
       "YY572610         Psychiatry\n",
       "PL346720             Family\n",
       "GZ129032    Hemato-oncology\n",
       "Name: specialty, dtype: object"
      ]
     },
     "execution_count": 17,
     "metadata": {},
     "output_type": "execute_result"
    }
   ],
   "source": [
    "spending_df[\"specialty\"]"
   ]
  },
  {
   "cell_type": "code",
   "execution_count": 18,
   "metadata": {},
   "outputs": [
    {
     "data": {
      "text/plain": [
       "unique_id\n",
       "AB789982     True\n",
       "AV967778     True\n",
       "CC128705    False\n",
       "GH890091    False\n",
       "YY219322     True\n",
       "YY190561     True\n",
       "YY572610     True\n",
       "PL346720    False\n",
       "GZ129032    False\n",
       "Name: specialty, dtype: bool"
      ]
     },
     "execution_count": 18,
     "metadata": {},
     "output_type": "execute_result"
    }
   ],
   "source": [
    "# We can, and we do often, index using Booleans\n",
    "spending_df[\"specialty\"] == \"Psychiatry\""
   ]
  },
  {
   "cell_type": "code",
   "execution_count": 22,
   "metadata": {},
   "outputs": [],
   "source": [
    "is_psychiatry = (spending_df[\"specialty\"] == \"Psychiatry\") & (spending_df[\"nb_beneficiaries\"] > 100)"
   ]
  },
  {
   "cell_type": "code",
   "execution_count": 23,
   "metadata": {},
   "outputs": [
    {
     "data": {
      "text/plain": [
       "unique_id\n",
       "AB789982     True\n",
       "AV967778     True\n",
       "CC128705    False\n",
       "GH890091    False\n",
       "YY219322    False\n",
       "YY190561    False\n",
       "YY572610     True\n",
       "PL346720    False\n",
       "GZ129032    False\n",
       "dtype: bool"
      ]
     },
     "execution_count": 23,
     "metadata": {},
     "output_type": "execute_result"
    }
   ],
   "source": [
    "is_psychiatry"
   ]
  },
  {
   "cell_type": "code",
   "execution_count": 24,
   "metadata": {},
   "outputs": [
    {
     "data": {
      "text/html": [
       "<div>\n",
       "<style scoped>\n",
       "    .dataframe tbody tr th:only-of-type {\n",
       "        vertical-align: middle;\n",
       "    }\n",
       "\n",
       "    .dataframe tbody tr th {\n",
       "        vertical-align: top;\n",
       "    }\n",
       "\n",
       "    .dataframe thead th {\n",
       "        text-align: right;\n",
       "    }\n",
       "</style>\n",
       "<table border=\"1\" class=\"dataframe\">\n",
       "  <thead>\n",
       "    <tr style=\"text-align: right;\">\n",
       "      <th></th>\n",
       "      <th>doctor_id</th>\n",
       "      <th>specialty</th>\n",
       "      <th>medication</th>\n",
       "      <th>nb_beneficiaries</th>\n",
       "      <th>spending</th>\n",
       "    </tr>\n",
       "    <tr>\n",
       "      <th>unique_id</th>\n",
       "      <th></th>\n",
       "      <th></th>\n",
       "      <th></th>\n",
       "      <th></th>\n",
       "      <th></th>\n",
       "    </tr>\n",
       "  </thead>\n",
       "  <tbody>\n",
       "    <tr>\n",
       "      <th>AB789982</th>\n",
       "      <td>1952310666</td>\n",
       "      <td>Psychiatry</td>\n",
       "      <td>CLONAZEPAM</td>\n",
       "      <td>226</td>\n",
       "      <td>$1,848.88</td>\n",
       "    </tr>\n",
       "    <tr>\n",
       "      <th>AV967778</th>\n",
       "      <td>1952310666</td>\n",
       "      <td>Psychiatry</td>\n",
       "      <td>DIAZEPAM</td>\n",
       "      <td>103</td>\n",
       "      <td>$662.87</td>\n",
       "    </tr>\n",
       "    <tr>\n",
       "      <th>YY572610</th>\n",
       "      <td>1548247315</td>\n",
       "      <td>Psychiatry</td>\n",
       "      <td>MIRTAZAPINE</td>\n",
       "      <td>191</td>\n",
       "      <td>$3,131.96</td>\n",
       "    </tr>\n",
       "  </tbody>\n",
       "</table>\n",
       "</div>"
      ],
      "text/plain": [
       "            doctor_id   specialty   medication  nb_beneficiaries   spending\n",
       "unique_id                                                                  \n",
       "AB789982   1952310666  Psychiatry   CLONAZEPAM               226  $1,848.88\n",
       "AV967778   1952310666  Psychiatry     DIAZEPAM               103    $662.87\n",
       "YY572610   1548247315  Psychiatry  MIRTAZAPINE               191  $3,131.96"
      ]
     },
     "execution_count": 24,
     "metadata": {},
     "output_type": "execute_result"
    }
   ],
   "source": [
    "spending_df[is_psychiatry]"
   ]
  },
  {
   "cell_type": "markdown",
   "metadata": {},
   "source": [
    "### Pandas cheat sheet\n",
    "* see full cheat shee on the Miro Board\n",
    "\n",
    "![](https://www.dropbox.com/s/bi7fqd9sz6bc2f7/pandas_summarize.png?dl=1)"
   ]
  },
  {
   "cell_type": "code",
   "execution_count": 91,
   "metadata": {},
   "outputs": [
    {
     "data": {
      "text/plain": [
       "1119"
      ]
     },
     "execution_count": 91,
     "metadata": {},
     "output_type": "execute_result"
    }
   ],
   "source": [
    "spending_df[\"nb_beneficiaries\"].sum()\n"
   ]
  },
  {
   "cell_type": "code",
   "execution_count": 92,
   "metadata": {},
   "outputs": [],
   "source": [
    "def dollar_to_flaot(x):\n",
    "    \"\"\"\n",
    "     convert a `$` figure to a float\n",
    "     ex. the string $1,178.29 is converted into the float 1278.29\n",
    "    \"\"\"\n",
    "    x = x.replace(\",\", \"\")\n",
    "    x = x.replace(\"$\", \"\")\n",
    "    \n",
    "    return float(x)"
   ]
  },
  {
   "cell_type": "code",
   "execution_count": 93,
   "metadata": {},
   "outputs": [
    {
     "data": {
      "text/plain": [
       "unique_id\n",
       "AB789982     1848.88\n",
       "AV967778      662.87\n",
       "CC128705     1968.27\n",
       "GH890091     8511.14\n",
       "YY219322     1964.49\n",
       "YY190561     1807.16\n",
       "YY572610     3131.96\n",
       "PL346720    12881.04\n",
       "GZ129032     3766.34\n",
       "Name: spending, dtype: float64"
      ]
     },
     "execution_count": 93,
     "metadata": {},
     "output_type": "execute_result"
    }
   ],
   "source": [
    "spending_df[\"spending\"].apply(dollar_to_flaot)\n"
   ]
  },
  {
   "cell_type": "code",
   "execution_count": 94,
   "metadata": {},
   "outputs": [
    {
     "data": {
      "text/html": [
       "<div>\n",
       "<style scoped>\n",
       "    .dataframe tbody tr th:only-of-type {\n",
       "        vertical-align: middle;\n",
       "    }\n",
       "\n",
       "    .dataframe tbody tr th {\n",
       "        vertical-align: top;\n",
       "    }\n",
       "\n",
       "    .dataframe thead th {\n",
       "        text-align: right;\n",
       "    }\n",
       "</style>\n",
       "<table border=\"1\" class=\"dataframe\">\n",
       "  <thead>\n",
       "    <tr style=\"text-align: right;\">\n",
       "      <th></th>\n",
       "      <th>doctor_id</th>\n",
       "      <th>specialty</th>\n",
       "      <th>medication</th>\n",
       "      <th>nb_beneficiaries</th>\n",
       "      <th>spending</th>\n",
       "      <th>sending_cleaned</th>\n",
       "      <th>individual_cost</th>\n",
       "      <th>individual_cost_cdn</th>\n",
       "    </tr>\n",
       "    <tr>\n",
       "      <th>unique_id</th>\n",
       "      <th></th>\n",
       "      <th></th>\n",
       "      <th></th>\n",
       "      <th></th>\n",
       "      <th></th>\n",
       "      <th></th>\n",
       "      <th></th>\n",
       "      <th></th>\n",
       "    </tr>\n",
       "  </thead>\n",
       "  <tbody>\n",
       "    <tr>\n",
       "      <th>AB789982</th>\n",
       "      <td>1952310666</td>\n",
       "      <td>Psychiatry</td>\n",
       "      <td>CLONAZEPAM</td>\n",
       "      <td>226</td>\n",
       "      <td>$1,848.88</td>\n",
       "      <td>1848.88</td>\n",
       "      <td>10.307915</td>\n",
       "      <td>12.987973</td>\n",
       "    </tr>\n",
       "    <tr>\n",
       "      <th>AV967778</th>\n",
       "      <td>1952310666</td>\n",
       "      <td>Psychiatry</td>\n",
       "      <td>DIAZEPAM</td>\n",
       "      <td>103</td>\n",
       "      <td>$662.87</td>\n",
       "      <td>662.87</td>\n",
       "      <td>8.108895</td>\n",
       "      <td>10.217208</td>\n",
       "    </tr>\n",
       "    <tr>\n",
       "      <th>CC128705</th>\n",
       "      <td>1298765423</td>\n",
       "      <td>Cardiology</td>\n",
       "      <td>NADOLOL</td>\n",
       "      <td>13</td>\n",
       "      <td>$1968.27</td>\n",
       "      <td>1968.27</td>\n",
       "      <td>190.770785</td>\n",
       "      <td>240.371189</td>\n",
       "    </tr>\n",
       "    <tr>\n",
       "      <th>GH890091</th>\n",
       "      <td>1346358827</td>\n",
       "      <td>Family</td>\n",
       "      <td>HYDROCODONE</td>\n",
       "      <td>331</td>\n",
       "      <td>$8,511.14</td>\n",
       "      <td>8511.14</td>\n",
       "      <td>32.398902</td>\n",
       "      <td>40.822616</td>\n",
       "    </tr>\n",
       "    <tr>\n",
       "      <th>YY219322</th>\n",
       "      <td>1548247315</td>\n",
       "      <td>Psychiatry</td>\n",
       "      <td>ALPRAZOLAM</td>\n",
       "      <td>28</td>\n",
       "      <td>$1,964.49</td>\n",
       "      <td>1964.49</td>\n",
       "      <td>88.402050</td>\n",
       "      <td>111.386583</td>\n",
       "    </tr>\n",
       "  </tbody>\n",
       "</table>\n",
       "</div>"
      ],
      "text/plain": [
       "            doctor_id   specialty   medication  nb_beneficiaries   spending  \\\n",
       "unique_id                                                                     \n",
       "AB789982   1952310666  Psychiatry   CLONAZEPAM               226  $1,848.88   \n",
       "AV967778   1952310666  Psychiatry     DIAZEPAM               103    $662.87   \n",
       "CC128705   1298765423  Cardiology      NADOLOL                13   $1968.27   \n",
       "GH890091   1346358827      Family  HYDROCODONE               331  $8,511.14   \n",
       "YY219322   1548247315  Psychiatry   ALPRAZOLAM                28  $1,964.49   \n",
       "\n",
       "           sending_cleaned  individual_cost  individual_cost_cdn  \n",
       "unique_id                                                         \n",
       "AB789982           1848.88        10.307915            12.987973  \n",
       "AV967778            662.87         8.108895            10.217208  \n",
       "CC128705           1968.27       190.770785           240.371189  \n",
       "GH890091           8511.14        32.398902            40.822616  \n",
       "YY219322           1964.49        88.402050           111.386583  "
      ]
     },
     "execution_count": 94,
     "metadata": {},
     "output_type": "execute_result"
    }
   ],
   "source": [
    "spending_df[\"sending_cleaned\"] = spending_df[\"spending\"].apply(dollar_to_flaot)\n",
    "spending_df.head()"
   ]
  },
  {
   "cell_type": "code",
   "execution_count": 95,
   "metadata": {},
   "outputs": [
    {
     "data": {
      "text/html": [
       "<div>\n",
       "<style scoped>\n",
       "    .dataframe tbody tr th:only-of-type {\n",
       "        vertical-align: middle;\n",
       "    }\n",
       "\n",
       "    .dataframe tbody tr th {\n",
       "        vertical-align: top;\n",
       "    }\n",
       "\n",
       "    .dataframe thead th {\n",
       "        text-align: right;\n",
       "    }\n",
       "</style>\n",
       "<table border=\"1\" class=\"dataframe\">\n",
       "  <thead>\n",
       "    <tr style=\"text-align: right;\">\n",
       "      <th></th>\n",
       "      <th>doctor_id</th>\n",
       "      <th>specialty</th>\n",
       "      <th>medication</th>\n",
       "      <th>nb_beneficiaries</th>\n",
       "      <th>spending</th>\n",
       "      <th>sending_cleaned</th>\n",
       "      <th>individual_cost</th>\n",
       "      <th>individual_cost_cdn</th>\n",
       "    </tr>\n",
       "    <tr>\n",
       "      <th>unique_id</th>\n",
       "      <th></th>\n",
       "      <th></th>\n",
       "      <th></th>\n",
       "      <th></th>\n",
       "      <th></th>\n",
       "      <th></th>\n",
       "      <th></th>\n",
       "      <th></th>\n",
       "    </tr>\n",
       "  </thead>\n",
       "  <tbody>\n",
       "    <tr>\n",
       "      <th>AB789982</th>\n",
       "      <td>1952310666</td>\n",
       "      <td>Psychiatry</td>\n",
       "      <td>CLONAZEPAM</td>\n",
       "      <td>226</td>\n",
       "      <td>$1,848.88</td>\n",
       "      <td>1848.88</td>\n",
       "      <td>8.180885</td>\n",
       "      <td>12.987973</td>\n",
       "    </tr>\n",
       "    <tr>\n",
       "      <th>AV967778</th>\n",
       "      <td>1952310666</td>\n",
       "      <td>Psychiatry</td>\n",
       "      <td>DIAZEPAM</td>\n",
       "      <td>103</td>\n",
       "      <td>$662.87</td>\n",
       "      <td>662.87</td>\n",
       "      <td>6.435631</td>\n",
       "      <td>10.217208</td>\n",
       "    </tr>\n",
       "    <tr>\n",
       "      <th>CC128705</th>\n",
       "      <td>1298765423</td>\n",
       "      <td>Cardiology</td>\n",
       "      <td>NADOLOL</td>\n",
       "      <td>13</td>\n",
       "      <td>$1968.27</td>\n",
       "      <td>1968.27</td>\n",
       "      <td>151.405385</td>\n",
       "      <td>240.371189</td>\n",
       "    </tr>\n",
       "    <tr>\n",
       "      <th>GH890091</th>\n",
       "      <td>1346358827</td>\n",
       "      <td>Family</td>\n",
       "      <td>HYDROCODONE</td>\n",
       "      <td>331</td>\n",
       "      <td>$8,511.14</td>\n",
       "      <td>8511.14</td>\n",
       "      <td>25.713414</td>\n",
       "      <td>40.822616</td>\n",
       "    </tr>\n",
       "    <tr>\n",
       "      <th>YY219322</th>\n",
       "      <td>1548247315</td>\n",
       "      <td>Psychiatry</td>\n",
       "      <td>ALPRAZOLAM</td>\n",
       "      <td>28</td>\n",
       "      <td>$1,964.49</td>\n",
       "      <td>1964.49</td>\n",
       "      <td>70.160357</td>\n",
       "      <td>111.386583</td>\n",
       "    </tr>\n",
       "  </tbody>\n",
       "</table>\n",
       "</div>"
      ],
      "text/plain": [
       "            doctor_id   specialty   medication  nb_beneficiaries   spending  \\\n",
       "unique_id                                                                     \n",
       "AB789982   1952310666  Psychiatry   CLONAZEPAM               226  $1,848.88   \n",
       "AV967778   1952310666  Psychiatry     DIAZEPAM               103    $662.87   \n",
       "CC128705   1298765423  Cardiology      NADOLOL                13   $1968.27   \n",
       "GH890091   1346358827      Family  HYDROCODONE               331  $8,511.14   \n",
       "YY219322   1548247315  Psychiatry   ALPRAZOLAM                28  $1,964.49   \n",
       "\n",
       "           sending_cleaned  individual_cost  individual_cost_cdn  \n",
       "unique_id                                                         \n",
       "AB789982           1848.88         8.180885            12.987973  \n",
       "AV967778            662.87         6.435631            10.217208  \n",
       "CC128705           1968.27       151.405385           240.371189  \n",
       "GH890091           8511.14        25.713414            40.822616  \n",
       "YY219322           1964.49        70.160357           111.386583  "
      ]
     },
     "execution_count": 95,
     "metadata": {},
     "output_type": "execute_result"
    }
   ],
   "source": [
    "spending_df[\"individual_cost\"] =  spending_df[\"sending_cleaned\"] / spending_df[\"nb_beneficiaries\"]\n",
    "spending_df.head()"
   ]
  },
  {
   "cell_type": "code",
   "execution_count": 96,
   "metadata": {},
   "outputs": [],
   "source": [
    "def us_to_cdn(x):\n",
    "    return x * 1.26\n"
   ]
  },
  {
   "cell_type": "code",
   "execution_count": 97,
   "metadata": {},
   "outputs": [
    {
     "data": {
      "text/html": [
       "<div>\n",
       "<style scoped>\n",
       "    .dataframe tbody tr th:only-of-type {\n",
       "        vertical-align: middle;\n",
       "    }\n",
       "\n",
       "    .dataframe tbody tr th {\n",
       "        vertical-align: top;\n",
       "    }\n",
       "\n",
       "    .dataframe thead th {\n",
       "        text-align: right;\n",
       "    }\n",
       "</style>\n",
       "<table border=\"1\" class=\"dataframe\">\n",
       "  <thead>\n",
       "    <tr style=\"text-align: right;\">\n",
       "      <th></th>\n",
       "      <th>doctor_id</th>\n",
       "      <th>specialty</th>\n",
       "      <th>medication</th>\n",
       "      <th>nb_beneficiaries</th>\n",
       "      <th>spending</th>\n",
       "      <th>sending_cleaned</th>\n",
       "      <th>individual_cost</th>\n",
       "      <th>individual_cost_cdn</th>\n",
       "    </tr>\n",
       "    <tr>\n",
       "      <th>unique_id</th>\n",
       "      <th></th>\n",
       "      <th></th>\n",
       "      <th></th>\n",
       "      <th></th>\n",
       "      <th></th>\n",
       "      <th></th>\n",
       "      <th></th>\n",
       "      <th></th>\n",
       "    </tr>\n",
       "  </thead>\n",
       "  <tbody>\n",
       "    <tr>\n",
       "      <th>AB789982</th>\n",
       "      <td>1952310666</td>\n",
       "      <td>Psychiatry</td>\n",
       "      <td>CLONAZEPAM</td>\n",
       "      <td>226</td>\n",
       "      <td>$1,848.88</td>\n",
       "      <td>1848.88</td>\n",
       "      <td>8.180885</td>\n",
       "      <td>10.307915</td>\n",
       "    </tr>\n",
       "    <tr>\n",
       "      <th>AV967778</th>\n",
       "      <td>1952310666</td>\n",
       "      <td>Psychiatry</td>\n",
       "      <td>DIAZEPAM</td>\n",
       "      <td>103</td>\n",
       "      <td>$662.87</td>\n",
       "      <td>662.87</td>\n",
       "      <td>6.435631</td>\n",
       "      <td>8.108895</td>\n",
       "    </tr>\n",
       "    <tr>\n",
       "      <th>CC128705</th>\n",
       "      <td>1298765423</td>\n",
       "      <td>Cardiology</td>\n",
       "      <td>NADOLOL</td>\n",
       "      <td>13</td>\n",
       "      <td>$1968.27</td>\n",
       "      <td>1968.27</td>\n",
       "      <td>151.405385</td>\n",
       "      <td>190.770785</td>\n",
       "    </tr>\n",
       "    <tr>\n",
       "      <th>GH890091</th>\n",
       "      <td>1346358827</td>\n",
       "      <td>Family</td>\n",
       "      <td>HYDROCODONE</td>\n",
       "      <td>331</td>\n",
       "      <td>$8,511.14</td>\n",
       "      <td>8511.14</td>\n",
       "      <td>25.713414</td>\n",
       "      <td>32.398902</td>\n",
       "    </tr>\n",
       "    <tr>\n",
       "      <th>YY219322</th>\n",
       "      <td>1548247315</td>\n",
       "      <td>Psychiatry</td>\n",
       "      <td>ALPRAZOLAM</td>\n",
       "      <td>28</td>\n",
       "      <td>$1,964.49</td>\n",
       "      <td>1964.49</td>\n",
       "      <td>70.160357</td>\n",
       "      <td>88.402050</td>\n",
       "    </tr>\n",
       "    <tr>\n",
       "      <th>YY190561</th>\n",
       "      <td>1548247315</td>\n",
       "      <td>Psychiatry</td>\n",
       "      <td>GABAPENTIN</td>\n",
       "      <td>86</td>\n",
       "      <td>$1,807.16</td>\n",
       "      <td>1807.16</td>\n",
       "      <td>21.013488</td>\n",
       "      <td>26.476995</td>\n",
       "    </tr>\n",
       "    <tr>\n",
       "      <th>YY572610</th>\n",
       "      <td>1548247315</td>\n",
       "      <td>Psychiatry</td>\n",
       "      <td>MIRTAZAPINE</td>\n",
       "      <td>191</td>\n",
       "      <td>$3,131.96</td>\n",
       "      <td>3131.96</td>\n",
       "      <td>16.397696</td>\n",
       "      <td>20.661097</td>\n",
       "    </tr>\n",
       "    <tr>\n",
       "      <th>PL346720</th>\n",
       "      <td>1326175365</td>\n",
       "      <td>Family</td>\n",
       "      <td>OXYCODONE HCL</td>\n",
       "      <td>87</td>\n",
       "      <td>$12,881.04</td>\n",
       "      <td>12881.04</td>\n",
       "      <td>148.057931</td>\n",
       "      <td>186.552993</td>\n",
       "    </tr>\n",
       "    <tr>\n",
       "      <th>GZ129032</th>\n",
       "      <td>1518970284</td>\n",
       "      <td>Hemato-oncology</td>\n",
       "      <td>DIGOXIN</td>\n",
       "      <td>54</td>\n",
       "      <td>$3,766.34</td>\n",
       "      <td>3766.34</td>\n",
       "      <td>69.747037</td>\n",
       "      <td>87.881267</td>\n",
       "    </tr>\n",
       "  </tbody>\n",
       "</table>\n",
       "</div>"
      ],
      "text/plain": [
       "            doctor_id        specialty     medication  nb_beneficiaries  \\\n",
       "unique_id                                                                 \n",
       "AB789982   1952310666       Psychiatry     CLONAZEPAM               226   \n",
       "AV967778   1952310666       Psychiatry       DIAZEPAM               103   \n",
       "CC128705   1298765423       Cardiology        NADOLOL                13   \n",
       "GH890091   1346358827           Family    HYDROCODONE               331   \n",
       "YY219322   1548247315       Psychiatry     ALPRAZOLAM                28   \n",
       "YY190561   1548247315       Psychiatry     GABAPENTIN                86   \n",
       "YY572610   1548247315       Psychiatry    MIRTAZAPINE               191   \n",
       "PL346720   1326175365           Family  OXYCODONE HCL                87   \n",
       "GZ129032   1518970284  Hemato-oncology        DIGOXIN                54   \n",
       "\n",
       "             spending  sending_cleaned  individual_cost  individual_cost_cdn  \n",
       "unique_id                                                                     \n",
       "AB789982    $1,848.88          1848.88         8.180885            10.307915  \n",
       "AV967778      $662.87           662.87         6.435631             8.108895  \n",
       "CC128705     $1968.27          1968.27       151.405385           190.770785  \n",
       "GH890091    $8,511.14          8511.14        25.713414            32.398902  \n",
       "YY219322    $1,964.49          1964.49        70.160357            88.402050  \n",
       "YY190561    $1,807.16          1807.16        21.013488            26.476995  \n",
       "YY572610    $3,131.96          3131.96        16.397696            20.661097  \n",
       "PL346720   $12,881.04         12881.04       148.057931           186.552993  \n",
       "GZ129032    $3,766.34          3766.34        69.747037            87.881267  "
      ]
     },
     "execution_count": 97,
     "metadata": {},
     "output_type": "execute_result"
    }
   ],
   "source": [
    "spending_df[\"individual_cost_cdn\"] = spending_df[\"individual_cost\"].apply(us_to_cdn)\n",
    "spending_df"
   ]
  }
 ],
 "metadata": {
  "celltoolbar": "Slideshow",
  "hide_input": false,
  "kernelspec": {
   "display_name": "Python 3 (ipykernel)",
   "language": "python",
   "name": "python3"
  },
  "language_info": {
   "codemirror_mode": {
    "name": "ipython",
    "version": 3
   },
   "file_extension": ".py",
   "mimetype": "text/x-python",
   "name": "python",
   "nbconvert_exporter": "python",
   "pygments_lexer": "ipython3",
   "version": "3.8.3"
  }
 },
 "nbformat": 4,
 "nbformat_minor": 2
}
