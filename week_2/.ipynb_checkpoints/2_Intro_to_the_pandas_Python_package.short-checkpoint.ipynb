{
 "cells": [
  {
   "cell_type": "code",
   "execution_count": 55,
   "metadata": {
    "collapsed": true,
    "slideshow": {
     "slide_type": "skip"
    }
   },
   "outputs": [],
   "source": [
    "%matplotlib inline"
   ]
  },
  {
   "cell_type": "markdown",
   "metadata": {
    "slideshow": {
     "slide_type": "slide"
    }
   },
   "source": [
    "### Modules and Packages In Python\n",
    "---\n",
    "\n",
    "![](https://www.dropbox.com/s/c2vyygznxzgcsee/packages_modules.png?dl=1)"
   ]
  },
  {
   "cell_type": "markdown",
   "metadata": {
    "colab_type": "text",
    "heading_collapsed": true,
    "id": "Oh7azfSVZTEn",
    "slideshow": {
     "slide_type": "slide"
    }
   },
   "source": [
    "### Types of Python Modules\n",
    "\n",
    "* There are 3 types of `Python` modules:\n",
    "\n",
    "1. Modules distributed with `Python` but not available for use by default.\n",
    "\n",
    "  - Ex. `datetime`, `random`, `collections`, etc.\n",
    "  - Do not need to be installed, but need to be imported prior to being used.\n",
    "  \n",
    "2. Modules typically not available in the default `Python` installation but which are bundled that are typically installed by the `Conda` installer. Those are also not available by default.\n",
    "  - Ex. `pandas` for tabular data analysis, `matplotlib` for plotting, etc.\n",
    "\n",
    "3.   Other modules contained in specialized packages that need to be installed manually.\n",
    "  - Ex. `BioPython`, `astropy`, `tensorflow`, etc.\n",
    "  - We can install (most) of these packages using the `conda` installer"
   ]
  },
  {
   "cell_type": "code",
   "execution_count": 48,
   "metadata": {
    "slideshow": {
     "slide_type": "slide"
    }
   },
   "outputs": [
    {
     "name": "stdout",
     "output_type": "stream",
     "text": [
      "Before the shuffle, my_list is [1, 2, 3, 4, 5, 6, 7, 8]\n",
      "After the shuffle, my_list is [3, 6, 7, 2, 1, 8, 5, 4]\n"
     ]
    }
   ],
   "source": [
    "import random \n",
    "\n",
    "my_list = [1,2,3,4,5,6,7,8]\n",
    "print(\"Before the shuffle, my_list is %s\" % my_list)\n",
    "random.shuffle(my_list)\n",
    "print(\"After the shuffle, my_list is %s\" % my_list)\n"
   ]
  },
  {
   "cell_type": "markdown",
   "metadata": {
    "collapsed": true,
    "slideshow": {
     "slide_type": "slide"
    }
   },
   "source": [
    "### 2. Bundled with `Anaconda`\n",
    "\n",
    "* Those are package bundled with Anaconda installation.\n",
    "  * Not available in the default `Python` installation. \n",
    "    *  `pandas`, `matplotlib`, etc.\n",
    "    \n",
    "* Those also need to be imported before being used."
   ]
  },
  {
   "cell_type": "markdown",
   "metadata": {
    "slideshow": {
     "slide_type": "slide"
    }
   },
   "source": [
    "### Pandas Example\n",
    "<br/>\n",
    "<br/>\n",
    "\n",
    "```python\n",
    "import pandas\n",
    "page = \"https://en.wikipedia.org/wiki/List_of_airline_codes\"\n",
    "airlines_info = pandas.read_html(page, header=0)[0]\n",
    "airlines_info[airlines_info[\"Call sign\"] == \"HAWAIIAN\"]\n",
    "```"
   ]
  },
  {
   "cell_type": "code",
   "execution_count": 4,
   "metadata": {
    "slideshow": {
     "slide_type": "slide"
    }
   },
   "outputs": [
    {
     "data": {
      "text/html": [
       "<div>\n",
       "<style scoped>\n",
       "    .dataframe tbody tr th:only-of-type {\n",
       "        vertical-align: middle;\n",
       "    }\n",
       "\n",
       "    .dataframe tbody tr th {\n",
       "        vertical-align: top;\n",
       "    }\n",
       "\n",
       "    .dataframe thead th {\n",
       "        text-align: right;\n",
       "    }\n",
       "</style>\n",
       "<table border=\"1\" class=\"dataframe\">\n",
       "  <thead>\n",
       "    <tr style=\"text-align: right;\">\n",
       "      <th></th>\n",
       "      <th>IATA</th>\n",
       "      <th>ICAO</th>\n",
       "      <th>Airline</th>\n",
       "      <th>Call sign</th>\n",
       "      <th>Country/Region</th>\n",
       "      <th>Comments</th>\n",
       "    </tr>\n",
       "  </thead>\n",
       "  <tbody>\n",
       "    <tr>\n",
       "      <th>3081</th>\n",
       "      <td>HA</td>\n",
       "      <td>HAL</td>\n",
       "      <td>Hawaiian Airlines</td>\n",
       "      <td>HAWAIIAN</td>\n",
       "      <td>United States</td>\n",
       "      <td>NaN</td>\n",
       "    </tr>\n",
       "  </tbody>\n",
       "</table>\n",
       "</div>"
      ],
      "text/plain": [
       "     IATA ICAO            Airline Call sign Country/Region Comments\n",
       "3081   HA  HAL  Hawaiian Airlines  HAWAIIAN  United States      NaN"
      ]
     },
     "execution_count": 4,
     "metadata": {},
     "output_type": "execute_result"
    }
   ],
   "source": [
    "import pandas \n",
    "page = \"https://en.wikipedia.org/wiki/List_of_airline_codes\"\n",
    "airlines_info = pandas.read_html(page, header=0)[0]\n",
    "airlines_info[airlines_info[\"Call sign\"] == \"HAWAIIAN\"]\n"
   ]
  },
  {
   "cell_type": "markdown",
   "metadata": {
    "slideshow": {
     "slide_type": "slide"
    }
   },
   "source": [
    "### Other modules contained in specialized packages\n",
    "\n",
    "* Ex. Hugging Face\n",
    "  * We will be using Hugging Face when we work with Deep Learning on text data\n",
    "\n",
    "* Those modules need to be manually installed and subsequently imported.\n",
    "  * Easiest way to install these is through the `conda` insaller"
   ]
  },
  {
   "cell_type": "markdown",
   "metadata": {
    "colab_type": "text",
    "id": "to-Kz3ouQw6c",
    "slideshow": {
     "slide_type": "slide"
    }
   },
   "source": [
    "### What is Data Wrangling?\n",
    "---\n",
    "\n",
    "* Transforming your data with the intent of making it more suitable for analysis.\n",
    "\n",
    "* Ex. if you are interested in displaying `avg.` flight delays for defunct airlines.\n",
    "\n",
    "    Hypothesis: do defunct companies have a worse delay track record? \n",
    "    \n",
    "    \n",
    "    1. Merge the Wikipedia page above with delays database.\n",
    "    2. Drop any airline that is not defunct.\n",
    "    3. Remove airlines that do not have delay info (missing values).\n",
    "    4. Normalize delay (some delay could be in hours, others may be in minutes).\n",
    "    5. etc...  "
   ]
  },
  {
   "cell_type": "markdown",
   "metadata": {
    "slideshow": {
     "slide_type": "slide"
    }
   },
   "source": [
    "### Why `pandas`\n",
    "\n",
    "* `pandas` is the `de-facto` package for data wrangling in Python.\n",
    "\n",
    "  * Covers the complete workflow.\n",
    "  \n",
    "     * From reading and writing files in different formats to filling missing values and, to merging datasets.\n",
    "\n",
    "\n",
    "* Specific to structured data (tables and time-series). No support for unstructured data.\n"
   ]
  },
  {
   "cell_type": "markdown",
   "metadata": {
    "colab_type": "text",
    "id": "bVXOSbZZZw78",
    "slideshow": {
     "slide_type": "slide"
    }
   },
   "source": [
    "### Importing Python Modules\n",
    "---\n",
    "\n",
    "* Once the `Python` package containing the module you wish to use is installed on your machine or virtual environment, you must import the module into your file to use it. \n",
    "\n",
    "* We can do this in two ways:\n",
    "\n",
    "__1.__ We can import __all__ the modules in a package and with it all the functionality and definitions\n",
    "\n",
    "```python\n",
    ">>> import math\n",
    "```\n",
    "\n",
    "* To reference definitions or functionality after this import statement, we use *dot* notation. \n",
    "  * Example, if we wanted to access the `math` package's definition for *$\\pi$* we would use:\n",
    "\n",
    "```python\n",
    ">>> math.pi\n",
    "3.141592653589793\n",
    "```\n",
    "\n",
    "* use `tab` and `?`"
   ]
  },
  {
   "cell_type": "markdown",
   "metadata": {
    "slideshow": {
     "slide_type": "slide"
    }
   },
   "source": [
    "### Importing Python Modules - Cont'd\n",
    "\n",
    "__2.__ Or we can import only some modules in the package, or even more specifically, only some particular functionality or definition. \n",
    "\n",
    "* If we wanted to only import the `math` package's definition for $\\pi$,  we would type \n",
    "\n",
    "```python\n",
    ">>> from math import pi\n",
    "```\n",
    "\n",
    "* Then to reference `pi` all we would type is:\n",
    "\n",
    "```python\n",
    ">>> pi\n",
    "3.141592653589793\n",
    "```"
   ]
  },
  {
   "cell_type": "markdown",
   "metadata": {
    "colab_type": "text",
    "id": "dmDMDLGuapty",
    "slideshow": {
     "slide_type": "slide"
    }
   },
   "source": [
    "### Providing a package alias\n",
    "\n",
    "* It's common to rename (`alias`) modules when importing them.\n",
    "    * Saving us some keystrokes when typing the module name\n",
    "Ex.\n",
    "\n",
    "```python\n",
    "import matplotlib as plt\n",
    "```\n",
    "\n",
    "- Accessing the functionality and definitions is done by using `plt` instead of `matplotlib`\n",
    "\n",
    "```python\n",
    "plt.scatter(x, y)\n",
    "```\n",
    "\n",
    "* Most libraries recommend specific alias to uses. Information available as part of the package's documentation.\n",
    "    * `pandas` is `pd`; `numpy` is `np`, seaborn is `sns`\n",
    "\n",
    "  * Adds coherence to code"
   ]
  },
  {
   "cell_type": "code",
   "execution_count": 5,
   "metadata": {
    "slideshow": {
     "slide_type": "slide"
    }
   },
   "outputs": [
    {
     "data": {
      "text/plain": [
       "<BarContainer object of 4 artists>"
      ]
     },
     "execution_count": 5,
     "metadata": {},
     "output_type": "execute_result"
    },
    {
     "data": {
      "image/png": "[encoded data removed]",
      "text/plain": [
       "<Figure size 432x288 with 1 Axes>"
      ]
     },
     "metadata": {},
     "output_type": "display_data"
    }
   ],
   "source": [
    "import matplotlib.pyplot as plt\n",
    "plt.style.use('fivethirtyeight')\n",
    "plt.barh([\"Canada\", \"US\", \"Russia\", \"Spain\"], [71, 34, 35, 91])"
   ]
  }
 ],
 "metadata": {
  "celltoolbar": "Slideshow",
  "colab": {
   "collapsed_sections": [],
   "name": "0_Intro_to_the_pandas_Python_package.ipynb",
   "provenance": [],
   "toc_visible": true,
   "version": "0.3.2"
  },
  "hide_input": false,
  "kernelspec": {
   "display_name": "Python 3 (ipykernel)",
   "language": "python",
   "name": "python3"
  },
  "language_info": {
   "codemirror_mode": {
    "name": "ipython",
    "version": 3
   },
   "file_extension": ".py",
   "mimetype": "text/x-python",
   "name": "python",
   "nbconvert_exporter": "python",
   "pygments_lexer": "ipython3",
   "version": "3.8.3"
  }
 },
 "nbformat": 4,
 "nbformat_minor": 1
}
