{
 "cells": [
  {
   "cell_type": "markdown",
   "id": "524ffea7",
   "metadata": {},
   "source": [
    "%%html\n",
    "<style>\n",
    "table {float:left}\n",
    "</style>"
   ]
  },
  {
   "cell_type": "markdown",
   "id": "3d170f98",
   "metadata": {},
   "source": [
    "### Finding co-occurrence\n"
   ]
  },
  {
   "cell_type": "markdown",
   "id": "ca311809",
   "metadata": {},
   "source": [
    "### reading the data from file\n",
    "\n",
    "* The data is in a `tsv` (tab-separated values) file. \n",
    "  * fields are separted using tabs\n",
    "* The first line is the header describing the columns (person)\n",
    "* The fist column is the label for the days. \n",
    "* Each cell contains an `X` if person i did not stay at a hotel that day or the `id` of the hotel where he/she stayed (H1, H2, H3, H4 and H5)\n",
    "\n",
    "| Person      \t| P1  \t| P2  | P3  \t| `...`  \t|\n",
    "|-------------\t|:-----:|:-----:|:-----:|-----:|\n",
    "| Hotel Day 1 \t| H1  \t| H3  \t| X   \t| `...`  \t|\n",
    "| Hotel Day 2 \t| X   \t| H1  \t| H5  \t| `...`  \t|\n",
    "| `...`       \t| `...` \t| `...`  \t| `...`  \t| `...` |\n"
   ]
  },
  {
   "cell_type": "markdown",
   "id": "50eab082",
   "metadata": {},
   "source": [
    "### Python Application\n",
    "\n",
    "* The goal is to introduce Python in the context of an application\n",
    "* We will start with a verbose implementation to explore the language \n",
    "  * Some constructs are not efficient but are useful to abstract complexity\n",
    "* Will define a compact version at the end\n",
    "* We will discuss how to scale this problem using available resources\n",
    "\n"
   ]
  },
  {
   "cell_type": "code",
   "execution_count": null,
   "id": "d8ba8576",
   "metadata": {},
   "outputs": [],
   "source": [
    "for line in open(\"data/hotel_data.tsv\"):\n",
    "    # The line we read have \"\\n\" at the end\n",
    "    # If we don't remove it, we should at least tell print not to add \n",
    "    # another \"\\n\" when printing \n",
    "    print(line, end=\"\")"
   ]
  },
  {
   "cell_type": "code",
   "execution_count": null,
   "id": "93002269",
   "metadata": {},
   "outputs": [],
   "source": [
    "# Skip the header\n",
    "\n",
    "hotel_days = []\n",
    "i = 0\n",
    "for line in open(\"data/hotel_data.tsv\"):\n",
    "    if i > 0:\n",
    "        print(line, end=\"\")\n",
    "    i+=1 \n"
   ]
  },
  {
   "cell_type": "code",
   "execution_count": null,
   "id": "0c0ac7c7",
   "metadata": {},
   "outputs": [],
   "source": [
    "# Add the data to a list of lists\n",
    "# Each data is list of person person/hotel stays\n",
    "\n",
    "hotel_days = []\n",
    "i = 0\n",
    "for line in open(\"data/hotel_data.tsv\"):\n",
    "    if i > 0:\n",
    "        hotel_days.append(line.rstrip().split(\"\\t\")[1:])\n",
    "    i+=1 \n",
    "\n",
    "# No need to add print. Jupyter automatically prints it\n",
    "# since it's the last line in the cell\n",
    "hotel_days"
   ]
  },
  {
   "cell_type": "code",
   "execution_count": null,
   "id": "790c7b7a",
   "metadata": {},
   "outputs": [],
   "source": [
    "# Tracking who stayed at which hotel\n",
    "# Create a empty list for each hotel\n",
    "# Each each guest to the list\n",
    "\n",
    "hotels_to_people = {} \n",
    "hotels_to_people[\"H1\"] = []\n",
    "hotels_to_people[\"H1\"].append(\"P1\")\n",
    "hotels_to_people[\"H1\"].append(\"P2\")\n",
    "\n",
    "hotels_to_people[\"H3\"] = []\n",
    "hotels_to_people[\"H3\"].append(\"P5\")\n",
    "\n",
    "hotels_to_people\n"
   ]
  },
  {
   "cell_type": "code",
   "execution_count": null,
   "id": "f6d62dc5",
   "metadata": {},
   "outputs": [],
   "source": [
    "def find_groups(day_i_hotels):\n",
    "    \"\"\" \n",
    "    Given a day log (list), return an index of which people stayed at which hotel\n",
    "    Args:\n",
    "        day_i_hotels: list of hotels start in a single day\n",
    "        For example: \n",
    "            day_i_hotel = ['H1', 'H4', 'X', 'H2', 'X', 'X', 'H2', 'X', 'H5 ', 'H1']\n",
    "            P1 stayed at hotel H1, P2 stayed at H4, P3 didn't stay at a hotel, etc.\n",
    "    Returns:\n",
    "        a dict hotels and groups of people who stayed at the hotel during that day\n",
    "        For example: \n",
    "            [{1, 10}, {4, 7}] where 1, 10, 4, 7 and are people P1, P10, P4 and P7 respectively\n",
    "    \"\"\"\n",
    "    hotels_to_people = {}\n",
    "    i = 1\n",
    "    # initialize the day with an empty list\n",
    "    # ex. hotels_to_people[\"H1\"] = []\n",
    "    # this is not necessary but useful to abstract complexity\n",
    "    for hotel_id in day_i_hotels:\n",
    "        if hotel_id != \"X\":\n",
    "            hotels_to_people[hotel_id] = []\n",
    "\n",
    "    for hotel_id in day_i_hotels:\n",
    "        if hotel_id != \"X\":\n",
    "            hotels_to_people[hotel_id].append(i)\n",
    "        i+=1\n",
    "    return hotels_to_people"
   ]
  },
  {
   "cell_type": "markdown",
   "id": "7a21acf3",
   "metadata": {},
   "source": [
    "### Documenting functions\n",
    "\n",
    "* Make sure you document your functions\n",
    "  * use the PEP-257 or Google Python Style Guide\n",
    "      * https://google.github.io/styleguide/pyguide.html\n",
    "      *  https://www.python.org/dev/peps/pep-0257/"
   ]
  },
  {
   "cell_type": "code",
   "execution_count": null,
   "id": "ad7e77d6",
   "metadata": {},
   "outputs": [],
   "source": [
    "# This is what how doc string appears\n",
    "find_groups"
   ]
  },
  {
   "cell_type": "code",
   "execution_count": null,
   "id": "61f208e5",
   "metadata": {},
   "outputs": [],
   "source": []
  },
  {
   "cell_type": "code",
   "execution_count": null,
   "id": "f5fbe04a",
   "metadata": {},
   "outputs": [],
   "source": [
    "find_groups(['H1', 'H4', 'X', 'H2', 'X', 'X', 'H2', 'X', 'H5 ', 'H1'])"
   ]
  },
  {
   "cell_type": "code",
   "execution_count": null,
   "id": "ec2b49d4",
   "metadata": {},
   "outputs": [],
   "source": [
    "# Trial Version\n",
    "\n",
    "def find_groups(day_i_hotels):\n",
    "    \"\"\" \n",
    "    Given a day log (list), return groups of people (2 or more) who stayed at the same hotel\n",
    "    Args:\n",
    "        day_i_hotels: list of hotels start in a single day\n",
    "        For example: \n",
    "            day_i_hotel = ['H1', 'H4', 'X', 'H2', 'X', 'X', 'H2', 'X', 'H5 ', 'H1']\n",
    "            P1 stayed at hotel H1, P2 stayed at H4, P3 didn't stay at a hotel, etc.\n",
    "    Returns:\n",
    "        a dict hotels and groups of people who stayed at the hotel during that day\n",
    "        For example: \n",
    "            [{1, 10}, {4, 7}] where 1, 10, 4, 7 and are people P1, P10, P4 and P7 respectively\n",
    "    \"\"\"\n",
    "    hotels_to_people = {}\n",
    "    \n",
    "    i = 1\n",
    "    # initialize the day with an empty list\n",
    "    # ex. hotels_to_people[\"H1\"] = []\n",
    "    # this is not necessary but useful to abstract complexity\n",
    "    for hotel_id in day_i_hotels:\n",
    "        if hotel_id != \"X\":\n",
    "            hotels_to_people[hotel_id] = []\n",
    "\n",
    "    for hotel_id in day_i_hotels:\n",
    "        if hotel_id != \"X\":\n",
    "            hotels_to_people[hotel_id].append(i)\n",
    "        i+=1\n",
    "    \n",
    "    days_to_remove = []\n",
    "    for key, value in hotels_to_people.items():\n",
    "        if len(value) < 2:\n",
    "            days_to_remove.append(key)\n",
    "    \n",
    "    print(f\"need to remove days {days_to_remove}\")\n",
    "    \n",
    "    return hotels_to_people"
   ]
  },
  {
   "cell_type": "code",
   "execution_count": null,
   "id": "e35c875c",
   "metadata": {},
   "outputs": [],
   "source": [
    "find_groups(['H1', 'H4', 'X', 'H2', 'X', 'X', 'H2', 'X', 'H5 ', 'H1'])"
   ]
  },
  {
   "cell_type": "code",
   "execution_count": 3,
   "id": "9a298d5c",
   "metadata": {},
   "outputs": [],
   "source": [
    "# Trial Version\n",
    "\n",
    "def find_groups(day_i_hotels):\n",
    "    \"\"\" \n",
    "    Given a day log (list), return groups of people (2 or more) who stayed at the same hotel\n",
    "    Args:\n",
    "        day_i_hotels: list of hotels start in a single day\n",
    "        For example: \n",
    "            day_i_hotel = ['H1', 'H4', 'X', 'H2', 'X', 'X', 'H2', 'X', 'H5 ', 'H1']\n",
    "            P1 stayed at hotel H1, P2 stayed at H4, P3 didn't stay at a hotel, etc.\n",
    "    Returns:\n",
    "        a dict hotels and groups of people who stayed at the hotel during that day\n",
    "        For example: \n",
    "            [{1, 10}, {4, 7}] where 1, 10, 4, 7 and are people P1, P10, P4 and P7 respectively\n",
    "    \"\"\"\n",
    "    hotels_to_people = {}\n",
    "    \n",
    "    i = 1\n",
    "    # initialize the day with an empty list\n",
    "    # ex. hotels_to_people[\"H1\"] = []\n",
    "    # this is not necessary but useful to abstract complexity\n",
    "    for hotel_id in day_i_hotels:\n",
    "        if hotel_id != \"X\":\n",
    "            hotels_to_people[hotel_id] = []\n",
    "\n",
    "    for hotel_id in day_i_hotels:\n",
    "        if hotel_id != \"X\":\n",
    "            hotels_to_people[hotel_id].append(i)\n",
    "        i+=1\n",
    "    \n",
    "    days_to_remove = []\n",
    "    for key, value in hotels_to_people.items():\n",
    "        if len(value) < 2:\n",
    "            days_to_remove.append(key)\n",
    "\n",
    "    for day in days_to_remove:\n",
    "        del(hotels_to_people[day])\n",
    "    \n",
    "    return hotels_to_people"
   ]
  },
  {
   "cell_type": "code",
   "execution_count": null,
   "id": "d5ce6832",
   "metadata": {},
   "outputs": [],
   "source": [
    "find_groups(['H1', 'H4', 'X', 'H2', 'X', 'X', 'H2', 'X', 'H5 ', 'H1'])"
   ]
  },
  {
   "cell_type": "code",
   "execution_count": null,
   "id": "21867c8c",
   "metadata": {},
   "outputs": [],
   "source": [
    "find_groups(['H2', 'H2', 'X', 'X', 'X', 'X', 'X', 'X', 'H5 ', 'H1'])"
   ]
  },
  {
   "cell_type": "code",
   "execution_count": null,
   "id": "b071dc48",
   "metadata": {},
   "outputs": [],
   "source": [
    "find_groups(['H1', 'X', 'H2', 'X', 'X', 'X', 'H4', 'X', 'X ', 'X'])"
   ]
  },
  {
   "cell_type": "code",
   "execution_count": null,
   "id": "c6716ace",
   "metadata": {},
   "outputs": [],
   "source": [
    "test_data_1 = ['H1', 'H4', 'X', 'H2', 'X', 'X', 'H2', 'X', 'H5 ', 'H1']\n",
    "assert find_groups(test_data_1) == {'H1': [1, 10], 'H2': [4, 7]}\n",
    "\n",
    "test_data_2 = ['H2', 'H2', 'X', 'X', 'X', 'X', 'X', 'X', 'H5 ', 'H1']\n",
    "assert find_groups(test_data_2) == {'H2': [1, 2]}\n",
    "\n",
    "test_data_3 = ['H1', 'X', 'H2', 'X', 'X', 'X', 'H4', 'X', 'X ', 'X']\n",
    "assert find_groups(test_data_3) == {}\n"
   ]
  },
  {
   "cell_type": "code",
   "execution_count": null,
   "id": "8785c341",
   "metadata": {},
   "outputs": [],
   "source": [
    "# Generate groups for all the days \n",
    "# Store them in the list\n",
    "\n",
    "groups_per_days = []\n",
    "for day  in hotel_days:    \n",
    "    groups_per_days.append(find_groups(day))\n",
    "    \n",
    "groups_per_days    "
   ]
  },
  {
   "cell_type": "code",
   "execution_count": null,
   "id": "0a20ff01",
   "metadata": {},
   "outputs": [],
   "source": [
    "# given a list (ex. [1,2,3,4,5])\n",
    "# generate the list of pairwise comparisons of that list\n",
    "\n",
    "temp_list = [1, 2, 3, 4, 5]\n",
    "\n",
    "for i in range(0, len(temp_list)-1):\n",
    "    for j in range(i+1, len(temp_list)):\n",
    "        print(temp_list[i],temp_list[j], end=\"\\t\") "
   ]
  },
  {
   "cell_type": "code",
   "execution_count": null,
   "id": "838061c1",
   "metadata": {},
   "outputs": [],
   "source": [
    "# generate the list of pairwise comparisons we will do\n",
    "\n",
    "for i in range(0, len(hotel_days)-1):\n",
    "    for j in range(i+1, len(hotel_days)):\n",
    "        print(i,j, end=\"\\t\") "
   ]
  },
  {
   "cell_type": "code",
   "execution_count": null,
   "id": "b4cde95a",
   "metadata": {},
   "outputs": [],
   "source": [
    "import itertools\n",
    "x = [1, 2, 3, 4, 5]\n",
    "list(itertools.combinations(x, 2))"
   ]
  },
  {
   "cell_type": "code",
   "execution_count": null,
   "id": "1a60bdb7",
   "metadata": {},
   "outputs": [],
   "source": [
    "# we can do this using itertool\n",
    "my_days = range(0, len(hotel_days))\n",
    "\n",
    "pairwise_comps = list(itertools.combinations(my_days, 2))\n",
    "\n",
    "pairwise_comps[ : 10]\n"
   ]
  },
  {
   "cell_type": "code",
   "execution_count": null,
   "id": "124b5755",
   "metadata": {},
   "outputs": [],
   "source": [
    "set([1,2,2,3,1,1,2])\n"
   ]
  },
  {
   "cell_type": "code",
   "execution_count": null,
   "id": "0811a76f",
   "metadata": {},
   "outputs": [],
   "source": [
    "# finding group overlap using set intersection\n",
    "\n",
    "group_1 = [1,3,5]\n",
    "group_2 = [2,3,5]\n",
    "\n",
    "set(group_1).intersection(group_2)\n",
    "\n",
    "\n"
   ]
  },
  {
   "cell_type": "code",
   "execution_count": null,
   "id": "245c771d",
   "metadata": {},
   "outputs": [],
   "source": [
    "group_1 = [1,3,5]\n",
    "group_2 = [2,4,6]\n",
    "\n",
    "set(group_1).intersection(group_2)\n"
   ]
  },
  {
   "cell_type": "code",
   "execution_count": 2,
   "id": "41b64c5e",
   "metadata": {},
   "outputs": [],
   "source": [
    "def compare_two_days(day_i, day_j):\n",
    "    \"\"\"\n",
    "    computes which group of 2 or more individuals stayed at two hotels during both day_i and day_j\n",
    "    \n",
    "    Args:\n",
    "        day_i: a dict hotels and groups of people (2+) who stayed at the hotel during that day \n",
    "        For example: \n",
    "            [\"H3\": {1, 10}, \"H5\": {4, 7}] where 1, 10, 4, 7 and are people P1, P10, P4 and P7 respectively\n",
    "    Returns:\n",
    "        a list of sets of people who stayed at the hotel durind both days\n",
    "        For example: \n",
    "            [{4, 7}], meaning that P4, P7 both stayed together at the same hotel during day_i and day_j\n",
    "    \"\"\"\n",
    "    \n",
    "    match = []\n",
    "    for group_i in day_i.values():\n",
    "        for group_j in day_j.values():\n",
    "            intersect = set(group_i).intersection(group_j)\n",
    "            if len(intersect) > 1 :\n",
    "                match.append(intersect)\n",
    "    return match"
   ]
  },
  {
   "cell_type": "code",
   "execution_count": null,
   "id": "8343393e",
   "metadata": {},
   "outputs": [],
   "source": [
    "day_i = {\"H1\": [1,8], \"H4\": [4,6,7]}\n",
    "day_j = {\"H3\":[1,4,5,7], \"H5\": [2,9]}\n",
    "\n",
    "compare_two_days(day_i, day_j)"
   ]
  },
  {
   "cell_type": "code",
   "execution_count": null,
   "id": "3c8b7ea0",
   "metadata": {},
   "outputs": [],
   "source": [
    "day_i = {\"H1\": [1,8], \"H4\": [4,6,7]}\n",
    "day_j = {\"H3\":[1,4,5,7], \"H5\": [2,9]}\n",
    "assert compare_two_days(day_i, day_j) == [{4, 7}]\n",
    "\n",
    "day_i = {\"H2\": [1,3], \"H3\": [2,4,6]}\n",
    "day_j = {\"H3\":[1,7], \"H5\": [2,3]}\n",
    "assert compare_two_days(day_i, day_j) == []"
   ]
  },
  {
   "cell_type": "code",
   "execution_count": null,
   "id": "0cbf8ba7",
   "metadata": {},
   "outputs": [],
   "source": [
    "for comp in pairwise_comps:\n",
    "    match = compare_two_days(groups_per_days[comp[0]], groups_per_days[comp[1]])\n",
    "    print(f\"for days {comp}, the overlap was: {match}\")"
   ]
  },
  {
   "cell_type": "code",
   "execution_count": null,
   "id": "012811f3",
   "metadata": {},
   "outputs": [],
   "source": []
  },
  {
   "cell_type": "code",
   "execution_count": 11,
   "id": "be00da4b",
   "metadata": {},
   "outputs": [
    {
     "name": "stdout",
     "output_type": "stream",
     "text": [
      "500\n",
      "Partial number of matches found is: 303\n",
      "1000\n",
      "Partial number of matches found is: 607\n",
      "1500\n",
      "Partial number of matches found is: 878\n",
      "2000\n",
      "Partial number of matches found is: 1173\n",
      "2500\n",
      "Partial number of matches found is: 1498\n",
      "3000\n",
      "Partial number of matches found is: 1820\n",
      "3500\n",
      "Partial number of matches found is: 2165\n",
      "4000\n",
      "Partial number of matches found is: 2465\n",
      "4500\n",
      "Partial number of matches found is: 2791\n",
      "5000\n",
      "Partial number of matches found is: 3127\n",
      "5500\n",
      "Partial number of matches found is: 3462\n",
      "6000\n",
      "Partial number of matches found is: 3767\n"
     ]
    },
    {
     "ename": "KeyboardInterrupt",
     "evalue": "",
     "output_type": "error",
     "traceback": [
      "\u001b[0;31m---------------------------------------------------------------------------\u001b[0m",
      "\u001b[0;31mKeyboardInterrupt\u001b[0m                         Traceback (most recent call last)",
      "\u001b[0;32m/var/folders/wm/4mf96ttd0md8_3czt6nc1vbc0000gn/T/ipykernel_24481/3783089845.py\u001b[0m in \u001b[0;36m<module>\u001b[0;34m\u001b[0m\n\u001b[1;32m     33\u001b[0m \u001b[0;32mfor\u001b[0m \u001b[0mcomp\u001b[0m \u001b[0;32min\u001b[0m \u001b[0mpairwise_comps\u001b[0m\u001b[0;34m:\u001b[0m\u001b[0;34m\u001b[0m\u001b[0;34m\u001b[0m\u001b[0m\n\u001b[1;32m     34\u001b[0m     \u001b[0mi\u001b[0m\u001b[0;34m+=\u001b[0m\u001b[0;36m1\u001b[0m\u001b[0;34m\u001b[0m\u001b[0;34m\u001b[0m\u001b[0m\n\u001b[0;32m---> 35\u001b[0;31m     \u001b[0mmatch\u001b[0m \u001b[0;34m=\u001b[0m \u001b[0mcompare_two_days\u001b[0m\u001b[0;34m(\u001b[0m\u001b[0mgroups_per_days\u001b[0m\u001b[0;34m[\u001b[0m\u001b[0mcomp\u001b[0m\u001b[0;34m[\u001b[0m\u001b[0;36m0\u001b[0m\u001b[0;34m]\u001b[0m\u001b[0;34m]\u001b[0m\u001b[0;34m,\u001b[0m \u001b[0mgroups_per_days\u001b[0m\u001b[0;34m[\u001b[0m\u001b[0mcomp\u001b[0m\u001b[0;34m[\u001b[0m\u001b[0;36m1\u001b[0m\u001b[0;34m]\u001b[0m\u001b[0;34m]\u001b[0m\u001b[0;34m)\u001b[0m\u001b[0;34m\u001b[0m\u001b[0;34m\u001b[0m\u001b[0m\n\u001b[0m\u001b[1;32m     36\u001b[0m     \u001b[0;32mif\u001b[0m \u001b[0mlen\u001b[0m\u001b[0;34m(\u001b[0m\u001b[0mmatch\u001b[0m\u001b[0;34m)\u001b[0m \u001b[0;34m>\u001b[0m \u001b[0;36m0\u001b[0m\u001b[0;34m:\u001b[0m\u001b[0;34m\u001b[0m\u001b[0;34m\u001b[0m\u001b[0m\n\u001b[1;32m     37\u001b[0m         \u001b[0mnb_matches\u001b[0m \u001b[0;34m+=\u001b[0m \u001b[0;36m1\u001b[0m\u001b[0;34m\u001b[0m\u001b[0;34m\u001b[0m\u001b[0m\n",
      "\u001b[0;32m/var/folders/wm/4mf96ttd0md8_3czt6nc1vbc0000gn/T/ipykernel_24481/1282455310.py\u001b[0m in \u001b[0;36mcompare_two_days\u001b[0;34m(day_i, day_j)\u001b[0m\n\u001b[1;32m     16\u001b[0m     \u001b[0;32mfor\u001b[0m \u001b[0mgroup_i\u001b[0m \u001b[0;32min\u001b[0m \u001b[0mday_i\u001b[0m\u001b[0;34m.\u001b[0m\u001b[0mvalues\u001b[0m\u001b[0;34m(\u001b[0m\u001b[0;34m)\u001b[0m\u001b[0;34m:\u001b[0m\u001b[0;34m\u001b[0m\u001b[0;34m\u001b[0m\u001b[0m\n\u001b[1;32m     17\u001b[0m         \u001b[0;32mfor\u001b[0m \u001b[0mgroup_j\u001b[0m \u001b[0;32min\u001b[0m \u001b[0mday_j\u001b[0m\u001b[0;34m.\u001b[0m\u001b[0mvalues\u001b[0m\u001b[0;34m(\u001b[0m\u001b[0;34m)\u001b[0m\u001b[0;34m:\u001b[0m\u001b[0;34m\u001b[0m\u001b[0;34m\u001b[0m\u001b[0m\n\u001b[0;32m---> 18\u001b[0;31m             \u001b[0mintersect\u001b[0m \u001b[0;34m=\u001b[0m \u001b[0mset\u001b[0m\u001b[0;34m(\u001b[0m\u001b[0mgroup_i\u001b[0m\u001b[0;34m)\u001b[0m\u001b[0;34m.\u001b[0m\u001b[0mintersection\u001b[0m\u001b[0;34m(\u001b[0m\u001b[0mgroup_j\u001b[0m\u001b[0;34m)\u001b[0m\u001b[0;34m\u001b[0m\u001b[0;34m\u001b[0m\u001b[0m\n\u001b[0m\u001b[1;32m     19\u001b[0m             \u001b[0;32mif\u001b[0m \u001b[0mlen\u001b[0m\u001b[0;34m(\u001b[0m\u001b[0mintersect\u001b[0m\u001b[0;34m)\u001b[0m \u001b[0;34m>\u001b[0m \u001b[0;36m1\u001b[0m \u001b[0;34m:\u001b[0m\u001b[0;34m\u001b[0m\u001b[0;34m\u001b[0m\u001b[0m\n\u001b[1;32m     20\u001b[0m                 \u001b[0mmatch\u001b[0m\u001b[0;34m.\u001b[0m\u001b[0mappend\u001b[0m\u001b[0;34m(\u001b[0m\u001b[0mintersect\u001b[0m\u001b[0;34m)\u001b[0m\u001b[0;34m\u001b[0m\u001b[0;34m\u001b[0m\u001b[0m\n",
      "\u001b[0;31mKeyboardInterrupt\u001b[0m: "
     ]
    }
   ],
   "source": [
    "# # complete  program\n",
    "# import itertools\n",
    "\n",
    "# hotel_days = []\n",
    "# i = 0\n",
    "# print(\"Now reading the file\")\n",
    "\n",
    "# for line in open(\"data/hotel_data_100k.tsv\"):\n",
    "#     if i > 0:\n",
    "#         hotel_days.append(line.rstrip().split(\"\\t\")[1:])\n",
    "#     i+=1 \n",
    "\n",
    "# print(\"  Finished reading the file\")\n",
    "\n",
    "# print(\"Now finding the groups\")\n",
    "\n",
    "# groups_per_days = []\n",
    "# for day in hotel_days: \n",
    "#     group = find_groups(day)\n",
    "#     del(group[\"0\"])\n",
    "#     groups_per_days.append(group)\n",
    "    \n",
    "# print(\"  Finished finding the groups\")\n",
    "\n",
    "# pairwise_comps = list(itertools.combinations(range(0, len(hotel_days)), 2))\n",
    "# print(f\"There is a total of {len(pairwise_comps)} to compute\")\n",
    "\n",
    "\n",
    "# print(\"Now comparing the days\")\n",
    "\n",
    "nb_matches = 0\n",
    "i = 0\n",
    "for comp in pairwise_comps:\n",
    "    i+=1\n",
    "    match = compare_two_days(groups_per_days[comp[0]], groups_per_days[comp[1]])\n",
    "    if len(match) > 0:\n",
    "        nb_matches += 1 \n",
    "    if i % 500 == 0:\n",
    "        print(i)\n",
    "        print(f\"Partial number of matches found is: {nb_matches}\")\n",
    "    \n",
    "print(f\"Total matches was: {nb_matches}\")"
   ]
  },
  {
   "cell_type": "markdown",
   "id": "e3772f33",
   "metadata": {},
   "source": [
    "### Distributing the computation - 1\n",
    "![](https://www.dropbox.com/s/7a2z5q7c1sluyyn/distributed_model_1.png?dl=1)"
   ]
  },
  {
   "cell_type": "markdown",
   "id": "123af1d9",
   "metadata": {},
   "source": [
    "### Distributing the computation - 2\n",
    "![](https://www.dropbox.com/s/4qf3hb4ev2v21da/distributed_model_2.png?dl=1)"
   ]
  },
  {
   "cell_type": "markdown",
   "id": "b5d8179d",
   "metadata": {},
   "source": [
    "### Distributing the computation - 3\n",
    "![](https://www.dropbox.com/s/vnyofxggbv0bpvm/distributed_model_3.png?dl=1)"
   ]
  },
  {
   "cell_type": "markdown",
   "id": "8fb20cd8",
   "metadata": {},
   "source": [
    "### Distributing the computation - \n",
    "\n",
    "* Is model 3 the best we can do?\n",
    "  * The model still requires to transfer all the data, albeit in a much small format to all the machines\n",
    "  * All three machines will need data from days 1 to 1095\n",
    "  \n",
    "* Can we minimize the number of days per machine?\n",
    "    * A naive approach? \n",
    "    * This is the topic of an assignment in the ICS432  Concurrent and High-Performance Programming\n"
   ]
  },
  {
   "cell_type": "markdown",
   "id": "9323e349",
   "metadata": {},
   "source": [
    "### Distributing the computation  -- Naive Solution\n",
    "\n",
    "![](https://www.dropbox.com/s/v2wvm4zhe6lw5vm/distributed_system_x.png?dl=1)"
   ]
  }
 ],
 "metadata": {
  "kernelspec": {
   "display_name": "Python 3 (ipykernel)",
   "language": "python",
   "name": "python3"
  },
  "language_info": {
   "codemirror_mode": {
    "name": "ipython",
    "version": 3
   },
   "file_extension": ".py",
   "mimetype": "text/x-python",
   "name": "python",
   "nbconvert_exporter": "python",
   "pygments_lexer": "ipython3",
   "version": "3.8.3"
  }
 },
 "nbformat": 4,
 "nbformat_minor": 5
}
